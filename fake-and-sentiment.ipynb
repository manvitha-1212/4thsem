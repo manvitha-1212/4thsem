{
 "cells": [
  {
   "cell_type": "markdown",
   "id": "9f486ba7",
   "metadata": {
    "papermill": {
     "duration": 0.02503,
     "end_time": "2022-01-14T12:30:56.292046",
     "exception": false,
     "start_time": "2022-01-14T12:30:56.267016",
     "status": "completed"
    },
    "tags": []
   },
   "source": []
  },
  {
   "cell_type": "code",
   "execution_count": 1,
   "id": "36f2f98c",
   "metadata": {
    "execution": {
     "iopub.execute_input": "2022-01-14T12:30:56.372141Z",
     "iopub.status.busy": "2022-01-14T12:30:56.370515Z",
     "iopub.status.idle": "2022-01-14T12:31:01.066769Z",
     "shell.execute_reply": "2022-01-14T12:31:01.066149Z",
     "shell.execute_reply.started": "2022-01-14T11:45:47.979640Z"
    },
    "papermill": {
     "duration": 4.74129,
     "end_time": "2022-01-14T12:31:01.066935",
     "exception": false,
     "start_time": "2022-01-14T12:30:56.325645",
     "status": "completed"
    },
    "tags": []
   },
   "outputs": [],
   "source": [
    "import numpy as np\n",
    "import pandas as pd\n",
    "import matplotlib.pyplot as plt\n",
    "import seaborn as sns\n",
    "from datetime import datetime\n",
    "\n",
    "import warnings\n",
    "warnings.filterwarnings('ignore')\n",
    "\n",
    "import tensorflow as tf\n"
   ]
  },
  {
   "cell_type": "code",
   "execution_count": 2,
   "id": "cfe1ec5a",
   "metadata": {
    "_cell_guid": "b1076dfc-b9ad-4769-8c92-a6c4dae69d19",
    "_uuid": "8f2839f25d086af736a60e9eeb907d3b93b6e0e5",
    "execution": {
     "iopub.execute_input": "2022-01-14T12:31:01.120498Z",
     "iopub.status.busy": "2022-01-14T12:31:01.119886Z",
     "iopub.status.idle": "2022-01-14T12:31:02.713196Z",
     "shell.execute_reply": "2022-01-14T12:31:02.713648Z",
     "shell.execute_reply.started": "2022-01-14T11:45:52.583246Z"
    },
    "papermill": {
     "duration": 1.621788,
     "end_time": "2022-01-14T12:31:02.713808",
     "exception": false,
     "start_time": "2022-01-14T12:31:01.092020",
     "status": "completed"
    },
    "tags": []
   },
   "outputs": [
    {
     "data": {
      "text/html": [
       "<div>\n",
       "<style scoped>\n",
       "    .dataframe tbody tr th:only-of-type {\n",
       "        vertical-align: middle;\n",
       "    }\n",
       "\n",
       "    .dataframe tbody tr th {\n",
       "        vertical-align: top;\n",
       "    }\n",
       "\n",
       "    .dataframe thead th {\n",
       "        text-align: right;\n",
       "    }\n",
       "</style>\n",
       "<table border=\"1\" class=\"dataframe\">\n",
       "  <thead>\n",
       "    <tr style=\"text-align: right;\">\n",
       "      <th></th>\n",
       "      <th>title</th>\n",
       "      <th>text</th>\n",
       "      <th>subject</th>\n",
       "      <th>date</th>\n",
       "    </tr>\n",
       "  </thead>\n",
       "  <tbody>\n",
       "    <tr>\n",
       "      <th>0</th>\n",
       "      <td>Donald Trump Sends Out Embarrassing New Year’...</td>\n",
       "      <td>Donald Trump just couldn t wish all Americans ...</td>\n",
       "      <td>News</td>\n",
       "      <td>December 31, 2017</td>\n",
       "    </tr>\n",
       "    <tr>\n",
       "      <th>1</th>\n",
       "      <td>Drunk Bragging Trump Staffer Started Russian ...</td>\n",
       "      <td>House Intelligence Committee Chairman Devin Nu...</td>\n",
       "      <td>News</td>\n",
       "      <td>December 31, 2017</td>\n",
       "    </tr>\n",
       "    <tr>\n",
       "      <th>2</th>\n",
       "      <td>Sheriff David Clarke Becomes An Internet Joke...</td>\n",
       "      <td>On Friday, it was revealed that former Milwauk...</td>\n",
       "      <td>News</td>\n",
       "      <td>December 30, 2017</td>\n",
       "    </tr>\n",
       "    <tr>\n",
       "      <th>3</th>\n",
       "      <td>Trump Is So Obsessed He Even Has Obama’s Name...</td>\n",
       "      <td>On Christmas day, Donald Trump announced that ...</td>\n",
       "      <td>News</td>\n",
       "      <td>December 29, 2017</td>\n",
       "    </tr>\n",
       "    <tr>\n",
       "      <th>4</th>\n",
       "      <td>Pope Francis Just Called Out Donald Trump Dur...</td>\n",
       "      <td>Pope Francis used his annual Christmas Day mes...</td>\n",
       "      <td>News</td>\n",
       "      <td>December 25, 2017</td>\n",
       "    </tr>\n",
       "  </tbody>\n",
       "</table>\n",
       "</div>"
      ],
      "text/plain": [
       "                                               title  \\\n",
       "0   Donald Trump Sends Out Embarrassing New Year’...   \n",
       "1   Drunk Bragging Trump Staffer Started Russian ...   \n",
       "2   Sheriff David Clarke Becomes An Internet Joke...   \n",
       "3   Trump Is So Obsessed He Even Has Obama’s Name...   \n",
       "4   Pope Francis Just Called Out Donald Trump Dur...   \n",
       "\n",
       "                                                text subject  \\\n",
       "0  Donald Trump just couldn t wish all Americans ...    News   \n",
       "1  House Intelligence Committee Chairman Devin Nu...    News   \n",
       "2  On Friday, it was revealed that former Milwauk...    News   \n",
       "3  On Christmas day, Donald Trump announced that ...    News   \n",
       "4  Pope Francis used his annual Christmas Day mes...    News   \n",
       "\n",
       "                date  \n",
       "0  December 31, 2017  \n",
       "1  December 31, 2017  \n",
       "2  December 30, 2017  \n",
       "3  December 29, 2017  \n",
       "4  December 25, 2017  "
      ]
     },
     "execution_count": 2,
     "metadata": {},
     "output_type": "execute_result"
    }
   ],
   "source": [
    "fake_news = pd.read_csv(\"../input/fake-and-real-news-dataset/Fake.csv\")\n",
    "fake_news.head()"
   ]
  },
  {
   "cell_type": "code",
   "execution_count": 3,
   "id": "04367da5",
   "metadata": {
    "execution": {
     "iopub.execute_input": "2022-01-14T12:31:02.766334Z",
     "iopub.status.busy": "2022-01-14T12:31:02.765820Z",
     "iopub.status.idle": "2022-01-14T12:31:03.919410Z",
     "shell.execute_reply": "2022-01-14T12:31:03.918973Z",
     "shell.execute_reply.started": "2022-01-14T11:45:54.148366Z"
    },
    "papermill": {
     "duration": 1.1809,
     "end_time": "2022-01-14T12:31:03.919555",
     "exception": false,
     "start_time": "2022-01-14T12:31:02.738655",
     "status": "completed"
    },
    "tags": []
   },
   "outputs": [
    {
     "data": {
      "text/html": [
       "<div>\n",
       "<style scoped>\n",
       "    .dataframe tbody tr th:only-of-type {\n",
       "        vertical-align: middle;\n",
       "    }\n",
       "\n",
       "    .dataframe tbody tr th {\n",
       "        vertical-align: top;\n",
       "    }\n",
       "\n",
       "    .dataframe thead th {\n",
       "        text-align: right;\n",
       "    }\n",
       "</style>\n",
       "<table border=\"1\" class=\"dataframe\">\n",
       "  <thead>\n",
       "    <tr style=\"text-align: right;\">\n",
       "      <th></th>\n",
       "      <th>title</th>\n",
       "      <th>text</th>\n",
       "      <th>subject</th>\n",
       "      <th>date</th>\n",
       "    </tr>\n",
       "  </thead>\n",
       "  <tbody>\n",
       "    <tr>\n",
       "      <th>0</th>\n",
       "      <td>As U.S. budget fight looms, Republicans flip t...</td>\n",
       "      <td>WASHINGTON (Reuters) - The head of a conservat...</td>\n",
       "      <td>politicsNews</td>\n",
       "      <td>December 31, 2017</td>\n",
       "    </tr>\n",
       "    <tr>\n",
       "      <th>1</th>\n",
       "      <td>U.S. military to accept transgender recruits o...</td>\n",
       "      <td>WASHINGTON (Reuters) - Transgender people will...</td>\n",
       "      <td>politicsNews</td>\n",
       "      <td>December 29, 2017</td>\n",
       "    </tr>\n",
       "    <tr>\n",
       "      <th>2</th>\n",
       "      <td>Senior U.S. Republican senator: 'Let Mr. Muell...</td>\n",
       "      <td>WASHINGTON (Reuters) - The special counsel inv...</td>\n",
       "      <td>politicsNews</td>\n",
       "      <td>December 31, 2017</td>\n",
       "    </tr>\n",
       "    <tr>\n",
       "      <th>3</th>\n",
       "      <td>FBI Russia probe helped by Australian diplomat...</td>\n",
       "      <td>WASHINGTON (Reuters) - Trump campaign adviser ...</td>\n",
       "      <td>politicsNews</td>\n",
       "      <td>December 30, 2017</td>\n",
       "    </tr>\n",
       "    <tr>\n",
       "      <th>4</th>\n",
       "      <td>Trump wants Postal Service to charge 'much mor...</td>\n",
       "      <td>SEATTLE/WASHINGTON (Reuters) - President Donal...</td>\n",
       "      <td>politicsNews</td>\n",
       "      <td>December 29, 2017</td>\n",
       "    </tr>\n",
       "  </tbody>\n",
       "</table>\n",
       "</div>"
      ],
      "text/plain": [
       "                                               title  \\\n",
       "0  As U.S. budget fight looms, Republicans flip t...   \n",
       "1  U.S. military to accept transgender recruits o...   \n",
       "2  Senior U.S. Republican senator: 'Let Mr. Muell...   \n",
       "3  FBI Russia probe helped by Australian diplomat...   \n",
       "4  Trump wants Postal Service to charge 'much mor...   \n",
       "\n",
       "                                                text       subject  \\\n",
       "0  WASHINGTON (Reuters) - The head of a conservat...  politicsNews   \n",
       "1  WASHINGTON (Reuters) - Transgender people will...  politicsNews   \n",
       "2  WASHINGTON (Reuters) - The special counsel inv...  politicsNews   \n",
       "3  WASHINGTON (Reuters) - Trump campaign adviser ...  politicsNews   \n",
       "4  SEATTLE/WASHINGTON (Reuters) - President Donal...  politicsNews   \n",
       "\n",
       "                 date  \n",
       "0  December 31, 2017   \n",
       "1  December 29, 2017   \n",
       "2  December 31, 2017   \n",
       "3  December 30, 2017   \n",
       "4  December 29, 2017   "
      ]
     },
     "execution_count": 3,
     "metadata": {},
     "output_type": "execute_result"
    }
   ],
   "source": [
    "true_news = pd.read_csv(\"../input/fake-and-real-news-dataset/True.csv\")\n",
    "true_news.head()"
   ]
  },
  {
   "cell_type": "code",
   "execution_count": 4,
   "id": "fa815531",
   "metadata": {
    "execution": {
     "iopub.execute_input": "2022-01-14T12:31:03.984307Z",
     "iopub.status.busy": "2022-01-14T12:31:03.983722Z",
     "iopub.status.idle": "2022-01-14T12:31:03.987214Z",
     "shell.execute_reply": "2022-01-14T12:31:03.987675Z",
     "shell.execute_reply.started": "2022-01-14T11:45:55.312315Z"
    },
    "papermill": {
     "duration": 0.043401,
     "end_time": "2022-01-14T12:31:03.987827",
     "exception": false,
     "start_time": "2022-01-14T12:31:03.944426",
     "status": "completed"
    },
    "tags": []
   },
   "outputs": [
    {
     "data": {
      "text/html": [
       "<div>\n",
       "<style scoped>\n",
       "    .dataframe tbody tr th:only-of-type {\n",
       "        vertical-align: middle;\n",
       "    }\n",
       "\n",
       "    .dataframe tbody tr th {\n",
       "        vertical-align: top;\n",
       "    }\n",
       "\n",
       "    .dataframe thead th {\n",
       "        text-align: right;\n",
       "    }\n",
       "</style>\n",
       "<table border=\"1\" class=\"dataframe\">\n",
       "  <thead>\n",
       "    <tr style=\"text-align: right;\">\n",
       "      <th></th>\n",
       "      <th>title</th>\n",
       "      <th>text</th>\n",
       "      <th>subject</th>\n",
       "      <th>date</th>\n",
       "      <th>fake</th>\n",
       "    </tr>\n",
       "  </thead>\n",
       "  <tbody>\n",
       "    <tr>\n",
       "      <th>0</th>\n",
       "      <td>Donald Trump Sends Out Embarrassing New Year’...</td>\n",
       "      <td>Donald Trump just couldn t wish all Americans ...</td>\n",
       "      <td>News</td>\n",
       "      <td>December 31, 2017</td>\n",
       "      <td>1</td>\n",
       "    </tr>\n",
       "    <tr>\n",
       "      <th>1</th>\n",
       "      <td>Drunk Bragging Trump Staffer Started Russian ...</td>\n",
       "      <td>House Intelligence Committee Chairman Devin Nu...</td>\n",
       "      <td>News</td>\n",
       "      <td>December 31, 2017</td>\n",
       "      <td>1</td>\n",
       "    </tr>\n",
       "    <tr>\n",
       "      <th>2</th>\n",
       "      <td>Sheriff David Clarke Becomes An Internet Joke...</td>\n",
       "      <td>On Friday, it was revealed that former Milwauk...</td>\n",
       "      <td>News</td>\n",
       "      <td>December 30, 2017</td>\n",
       "      <td>1</td>\n",
       "    </tr>\n",
       "    <tr>\n",
       "      <th>3</th>\n",
       "      <td>Trump Is So Obsessed He Even Has Obama’s Name...</td>\n",
       "      <td>On Christmas day, Donald Trump announced that ...</td>\n",
       "      <td>News</td>\n",
       "      <td>December 29, 2017</td>\n",
       "      <td>1</td>\n",
       "    </tr>\n",
       "    <tr>\n",
       "      <th>4</th>\n",
       "      <td>Pope Francis Just Called Out Donald Trump Dur...</td>\n",
       "      <td>Pope Francis used his annual Christmas Day mes...</td>\n",
       "      <td>News</td>\n",
       "      <td>December 25, 2017</td>\n",
       "      <td>1</td>\n",
       "    </tr>\n",
       "  </tbody>\n",
       "</table>\n",
       "</div>"
      ],
      "text/plain": [
       "                                               title  \\\n",
       "0   Donald Trump Sends Out Embarrassing New Year’...   \n",
       "1   Drunk Bragging Trump Staffer Started Russian ...   \n",
       "2   Sheriff David Clarke Becomes An Internet Joke...   \n",
       "3   Trump Is So Obsessed He Even Has Obama’s Name...   \n",
       "4   Pope Francis Just Called Out Donald Trump Dur...   \n",
       "\n",
       "                                                text subject  \\\n",
       "0  Donald Trump just couldn t wish all Americans ...    News   \n",
       "1  House Intelligence Committee Chairman Devin Nu...    News   \n",
       "2  On Friday, it was revealed that former Milwauk...    News   \n",
       "3  On Christmas day, Donald Trump announced that ...    News   \n",
       "4  Pope Francis used his annual Christmas Day mes...    News   \n",
       "\n",
       "                date  fake  \n",
       "0  December 31, 2017     1  \n",
       "1  December 31, 2017     1  \n",
       "2  December 30, 2017     1  \n",
       "3  December 29, 2017     1  \n",
       "4  December 25, 2017     1  "
      ]
     },
     "execution_count": 4,
     "metadata": {},
     "output_type": "execute_result"
    }
   ],
   "source": [
    "fake_news['fake']=1\n",
    "fake_news.head()"
   ]
  },
  {
   "cell_type": "code",
   "execution_count": 5,
   "id": "c2cbaefd",
   "metadata": {
    "execution": {
     "iopub.execute_input": "2022-01-14T12:31:04.048137Z",
     "iopub.status.busy": "2022-01-14T12:31:04.047314Z",
     "iopub.status.idle": "2022-01-14T12:31:04.054580Z",
     "shell.execute_reply": "2022-01-14T12:31:04.054078Z",
     "shell.execute_reply.started": "2022-01-14T11:45:55.327114Z"
    },
    "papermill": {
     "duration": 0.041828,
     "end_time": "2022-01-14T12:31:04.054698",
     "exception": false,
     "start_time": "2022-01-14T12:31:04.012870",
     "status": "completed"
    },
    "tags": []
   },
   "outputs": [
    {
     "data": {
      "text/html": [
       "<div>\n",
       "<style scoped>\n",
       "    .dataframe tbody tr th:only-of-type {\n",
       "        vertical-align: middle;\n",
       "    }\n",
       "\n",
       "    .dataframe tbody tr th {\n",
       "        vertical-align: top;\n",
       "    }\n",
       "\n",
       "    .dataframe thead th {\n",
       "        text-align: right;\n",
       "    }\n",
       "</style>\n",
       "<table border=\"1\" class=\"dataframe\">\n",
       "  <thead>\n",
       "    <tr style=\"text-align: right;\">\n",
       "      <th></th>\n",
       "      <th>title</th>\n",
       "      <th>text</th>\n",
       "      <th>subject</th>\n",
       "      <th>date</th>\n",
       "      <th>fake</th>\n",
       "    </tr>\n",
       "  </thead>\n",
       "  <tbody>\n",
       "    <tr>\n",
       "      <th>0</th>\n",
       "      <td>As U.S. budget fight looms, Republicans flip t...</td>\n",
       "      <td>WASHINGTON (Reuters) - The head of a conservat...</td>\n",
       "      <td>politicsNews</td>\n",
       "      <td>December 31, 2017</td>\n",
       "      <td>0</td>\n",
       "    </tr>\n",
       "    <tr>\n",
       "      <th>1</th>\n",
       "      <td>U.S. military to accept transgender recruits o...</td>\n",
       "      <td>WASHINGTON (Reuters) - Transgender people will...</td>\n",
       "      <td>politicsNews</td>\n",
       "      <td>December 29, 2017</td>\n",
       "      <td>0</td>\n",
       "    </tr>\n",
       "    <tr>\n",
       "      <th>2</th>\n",
       "      <td>Senior U.S. Republican senator: 'Let Mr. Muell...</td>\n",
       "      <td>WASHINGTON (Reuters) - The special counsel inv...</td>\n",
       "      <td>politicsNews</td>\n",
       "      <td>December 31, 2017</td>\n",
       "      <td>0</td>\n",
       "    </tr>\n",
       "    <tr>\n",
       "      <th>3</th>\n",
       "      <td>FBI Russia probe helped by Australian diplomat...</td>\n",
       "      <td>WASHINGTON (Reuters) - Trump campaign adviser ...</td>\n",
       "      <td>politicsNews</td>\n",
       "      <td>December 30, 2017</td>\n",
       "      <td>0</td>\n",
       "    </tr>\n",
       "    <tr>\n",
       "      <th>4</th>\n",
       "      <td>Trump wants Postal Service to charge 'much mor...</td>\n",
       "      <td>SEATTLE/WASHINGTON (Reuters) - President Donal...</td>\n",
       "      <td>politicsNews</td>\n",
       "      <td>December 29, 2017</td>\n",
       "      <td>0</td>\n",
       "    </tr>\n",
       "  </tbody>\n",
       "</table>\n",
       "</div>"
      ],
      "text/plain": [
       "                                               title  \\\n",
       "0  As U.S. budget fight looms, Republicans flip t...   \n",
       "1  U.S. military to accept transgender recruits o...   \n",
       "2  Senior U.S. Republican senator: 'Let Mr. Muell...   \n",
       "3  FBI Russia probe helped by Australian diplomat...   \n",
       "4  Trump wants Postal Service to charge 'much mor...   \n",
       "\n",
       "                                                text       subject  \\\n",
       "0  WASHINGTON (Reuters) - The head of a conservat...  politicsNews   \n",
       "1  WASHINGTON (Reuters) - Transgender people will...  politicsNews   \n",
       "2  WASHINGTON (Reuters) - The special counsel inv...  politicsNews   \n",
       "3  WASHINGTON (Reuters) - Trump campaign adviser ...  politicsNews   \n",
       "4  SEATTLE/WASHINGTON (Reuters) - President Donal...  politicsNews   \n",
       "\n",
       "                 date  fake  \n",
       "0  December 31, 2017      0  \n",
       "1  December 29, 2017      0  \n",
       "2  December 31, 2017      0  \n",
       "3  December 30, 2017      0  \n",
       "4  December 29, 2017      0  "
      ]
     },
     "execution_count": 5,
     "metadata": {},
     "output_type": "execute_result"
    }
   ],
   "source": [
    "true_news['fake'] = 0\n",
    "true_news.head()"
   ]
  },
  {
   "cell_type": "code",
   "execution_count": 6,
   "id": "4174b302",
   "metadata": {
    "execution": {
     "iopub.execute_input": "2022-01-14T12:31:04.110102Z",
     "iopub.status.busy": "2022-01-14T12:31:04.109376Z",
     "iopub.status.idle": "2022-01-14T12:31:04.127741Z",
     "shell.execute_reply": "2022-01-14T12:31:04.127301Z",
     "shell.execute_reply.started": "2022-01-14T11:45:55.350438Z"
    },
    "papermill": {
     "duration": 0.047297,
     "end_time": "2022-01-14T12:31:04.127852",
     "exception": false,
     "start_time": "2022-01-14T12:31:04.080555",
     "status": "completed"
    },
    "tags": []
   },
   "outputs": [
    {
     "data": {
      "text/html": [
       "<div>\n",
       "<style scoped>\n",
       "    .dataframe tbody tr th:only-of-type {\n",
       "        vertical-align: middle;\n",
       "    }\n",
       "\n",
       "    .dataframe tbody tr th {\n",
       "        vertical-align: top;\n",
       "    }\n",
       "\n",
       "    .dataframe thead th {\n",
       "        text-align: right;\n",
       "    }\n",
       "</style>\n",
       "<table border=\"1\" class=\"dataframe\">\n",
       "  <thead>\n",
       "    <tr style=\"text-align: right;\">\n",
       "      <th></th>\n",
       "      <th>title</th>\n",
       "      <th>text</th>\n",
       "      <th>subject</th>\n",
       "      <th>date</th>\n",
       "      <th>fake</th>\n",
       "    </tr>\n",
       "  </thead>\n",
       "  <tbody>\n",
       "    <tr>\n",
       "      <th>2914</th>\n",
       "      <td>Trump considering lawyer for White House Russi...</td>\n",
       "      <td>(Reuters) - President Donald Trump is consider...</td>\n",
       "      <td>politicsNews</td>\n",
       "      <td>July 3, 2017</td>\n",
       "      <td>0</td>\n",
       "    </tr>\n",
       "    <tr>\n",
       "      <th>2210</th>\n",
       "      <td>Sean Spicer Just Gave Trump Credit For Someth...</td>\n",
       "      <td>Donald Trump has basically built his life arou...</td>\n",
       "      <td>News</td>\n",
       "      <td>March 10, 2017</td>\n",
       "      <td>1</td>\n",
       "    </tr>\n",
       "    <tr>\n",
       "      <th>10603</th>\n",
       "      <td>CONSERVATIVE ACTIVIST, Author Mike Chernovich ...</td>\n",
       "      <td>The Washington Post [Compost] reports: So far,...</td>\n",
       "      <td>politics</td>\n",
       "      <td>Jun 16, 2017</td>\n",
       "      <td>1</td>\n",
       "    </tr>\n",
       "    <tr>\n",
       "      <th>8926</th>\n",
       "      <td>New rules give protesters more leeway at Repub...</td>\n",
       "      <td>CLEVELAND (Reuters) - A federal judge on Wedne...</td>\n",
       "      <td>politicsNews</td>\n",
       "      <td>June 29, 2016</td>\n",
       "      <td>0</td>\n",
       "    </tr>\n",
       "    <tr>\n",
       "      <th>17</th>\n",
       "      <td>Trump on Twitter (Dec 26) - Hillary Clinton, T...</td>\n",
       "      <td>The following statements were posted to the ve...</td>\n",
       "      <td>politicsNews</td>\n",
       "      <td>December 26, 2017</td>\n",
       "      <td>0</td>\n",
       "    </tr>\n",
       "  </tbody>\n",
       "</table>\n",
       "</div>"
      ],
      "text/plain": [
       "                                                   title  \\\n",
       "2914   Trump considering lawyer for White House Russi...   \n",
       "2210    Sean Spicer Just Gave Trump Credit For Someth...   \n",
       "10603  CONSERVATIVE ACTIVIST, Author Mike Chernovich ...   \n",
       "8926   New rules give protesters more leeway at Repub...   \n",
       "17     Trump on Twitter (Dec 26) - Hillary Clinton, T...   \n",
       "\n",
       "                                                    text       subject  \\\n",
       "2914   (Reuters) - President Donald Trump is consider...  politicsNews   \n",
       "2210   Donald Trump has basically built his life arou...          News   \n",
       "10603  The Washington Post [Compost] reports: So far,...      politics   \n",
       "8926   CLEVELAND (Reuters) - A federal judge on Wedne...  politicsNews   \n",
       "17     The following statements were posted to the ve...  politicsNews   \n",
       "\n",
       "                     date  fake  \n",
       "2914        July 3, 2017      0  \n",
       "2210       March 10, 2017     1  \n",
       "10603        Jun 16, 2017     1  \n",
       "8926       June 29, 2016      0  \n",
       "17     December 26, 2017      0  "
      ]
     },
     "execution_count": 6,
     "metadata": {},
     "output_type": "execute_result"
    }
   ],
   "source": [
    "news = pd.concat([fake_news, true_news])\n",
    "news.sample(5)"
   ]
  },
  {
   "cell_type": "code",
   "execution_count": 7,
   "id": "370469e5",
   "metadata": {
    "execution": {
     "iopub.execute_input": "2022-01-14T12:31:04.203526Z",
     "iopub.status.busy": "2022-01-14T12:31:04.202716Z",
     "iopub.status.idle": "2022-01-14T12:31:04.210429Z",
     "shell.execute_reply": "2022-01-14T12:31:04.210011Z",
     "shell.execute_reply.started": "2022-01-14T11:45:55.376420Z"
    },
    "papermill": {
     "duration": 0.055884,
     "end_time": "2022-01-14T12:31:04.210562",
     "exception": false,
     "start_time": "2022-01-14T12:31:04.154678",
     "status": "completed"
    },
    "tags": []
   },
   "outputs": [
    {
     "data": {
      "text/plain": [
       "title      0\n",
       "text       0\n",
       "subject    0\n",
       "date       0\n",
       "fake       0\n",
       "dtype: int64"
      ]
     },
     "execution_count": 7,
     "metadata": {},
     "output_type": "execute_result"
    }
   ],
   "source": [
    "news.isna().sum()"
   ]
  },
  {
   "cell_type": "code",
   "execution_count": 8,
   "id": "dfee7e06",
   "metadata": {
    "execution": {
     "iopub.execute_input": "2022-01-14T12:31:04.271508Z",
     "iopub.status.busy": "2022-01-14T12:31:04.265131Z",
     "iopub.status.idle": "2022-01-14T12:31:04.524976Z",
     "shell.execute_reply": "2022-01-14T12:31:04.524434Z",
     "shell.execute_reply.started": "2022-01-14T11:45:55.408334Z"
    },
    "papermill": {
     "duration": 0.288958,
     "end_time": "2022-01-14T12:31:04.525116",
     "exception": false,
     "start_time": "2022-01-14T12:31:04.236158",
     "status": "completed"
    },
    "tags": []
   },
   "outputs": [
    {
     "data": {
      "text/html": [
       "<div>\n",
       "<style scoped>\n",
       "    .dataframe tbody tr th:only-of-type {\n",
       "        vertical-align: middle;\n",
       "    }\n",
       "\n",
       "    .dataframe tbody tr th {\n",
       "        vertical-align: top;\n",
       "    }\n",
       "\n",
       "    .dataframe thead th {\n",
       "        text-align: right;\n",
       "    }\n",
       "</style>\n",
       "<table border=\"1\" class=\"dataframe\">\n",
       "  <thead>\n",
       "    <tr style=\"text-align: right;\">\n",
       "      <th></th>\n",
       "      <th>title</th>\n",
       "      <th>text</th>\n",
       "      <th>subject</th>\n",
       "      <th>date</th>\n",
       "      <th>fake</th>\n",
       "      <th>Year</th>\n",
       "      <th>Month</th>\n",
       "    </tr>\n",
       "  </thead>\n",
       "  <tbody>\n",
       "    <tr>\n",
       "      <th>0</th>\n",
       "      <td>Donald Trump Sends Out Embarrassing New Year’...</td>\n",
       "      <td>Donald Trump just couldn t wish all Americans ...</td>\n",
       "      <td>News</td>\n",
       "      <td>2017-12-31</td>\n",
       "      <td>1</td>\n",
       "      <td>2017.0</td>\n",
       "      <td>12.0</td>\n",
       "    </tr>\n",
       "    <tr>\n",
       "      <th>1</th>\n",
       "      <td>Drunk Bragging Trump Staffer Started Russian ...</td>\n",
       "      <td>House Intelligence Committee Chairman Devin Nu...</td>\n",
       "      <td>News</td>\n",
       "      <td>2017-12-31</td>\n",
       "      <td>1</td>\n",
       "      <td>2017.0</td>\n",
       "      <td>12.0</td>\n",
       "    </tr>\n",
       "    <tr>\n",
       "      <th>2</th>\n",
       "      <td>Sheriff David Clarke Becomes An Internet Joke...</td>\n",
       "      <td>On Friday, it was revealed that former Milwauk...</td>\n",
       "      <td>News</td>\n",
       "      <td>2017-12-30</td>\n",
       "      <td>1</td>\n",
       "      <td>2017.0</td>\n",
       "      <td>12.0</td>\n",
       "    </tr>\n",
       "    <tr>\n",
       "      <th>3</th>\n",
       "      <td>Trump Is So Obsessed He Even Has Obama’s Name...</td>\n",
       "      <td>On Christmas day, Donald Trump announced that ...</td>\n",
       "      <td>News</td>\n",
       "      <td>2017-12-29</td>\n",
       "      <td>1</td>\n",
       "      <td>2017.0</td>\n",
       "      <td>12.0</td>\n",
       "    </tr>\n",
       "    <tr>\n",
       "      <th>4</th>\n",
       "      <td>Pope Francis Just Called Out Donald Trump Dur...</td>\n",
       "      <td>Pope Francis used his annual Christmas Day mes...</td>\n",
       "      <td>News</td>\n",
       "      <td>2017-12-25</td>\n",
       "      <td>1</td>\n",
       "      <td>2017.0</td>\n",
       "      <td>12.0</td>\n",
       "    </tr>\n",
       "  </tbody>\n",
       "</table>\n",
       "</div>"
      ],
      "text/plain": [
       "                                               title  \\\n",
       "0   Donald Trump Sends Out Embarrassing New Year’...   \n",
       "1   Drunk Bragging Trump Staffer Started Russian ...   \n",
       "2   Sheriff David Clarke Becomes An Internet Joke...   \n",
       "3   Trump Is So Obsessed He Even Has Obama’s Name...   \n",
       "4   Pope Francis Just Called Out Donald Trump Dur...   \n",
       "\n",
       "                                                text subject       date  fake  \\\n",
       "0  Donald Trump just couldn t wish all Americans ...    News 2017-12-31     1   \n",
       "1  House Intelligence Committee Chairman Devin Nu...    News 2017-12-31     1   \n",
       "2  On Friday, it was revealed that former Milwauk...    News 2017-12-30     1   \n",
       "3  On Christmas day, Donald Trump announced that ...    News 2017-12-29     1   \n",
       "4  Pope Francis used his annual Christmas Day mes...    News 2017-12-25     1   \n",
       "\n",
       "     Year  Month  \n",
       "0  2017.0   12.0  \n",
       "1  2017.0   12.0  \n",
       "2  2017.0   12.0  \n",
       "3  2017.0   12.0  \n",
       "4  2017.0   12.0  "
      ]
     },
     "execution_count": 8,
     "metadata": {},
     "output_type": "execute_result"
    }
   ],
   "source": [
    "news['date'] = pd.to_datetime(news['date'], errors='coerce')\n",
    "news['Year'] = news['date'].dt.year\n",
    "news['Month'] = news['date'].dt.month\n",
    "\n",
    "news.head()"
   ]
  },
  {
   "cell_type": "code",
   "execution_count": 9,
   "id": "1b3758bc",
   "metadata": {
    "execution": {
     "iopub.execute_input": "2022-01-14T12:31:04.720021Z",
     "iopub.status.busy": "2022-01-14T12:31:04.714512Z",
     "iopub.status.idle": "2022-01-14T12:31:04.734903Z",
     "shell.execute_reply": "2022-01-14T12:31:04.734394Z",
     "shell.execute_reply.started": "2022-01-14T11:45:55.667234Z"
    },
    "papermill": {
     "duration": 0.180849,
     "end_time": "2022-01-14T12:31:04.735044",
     "exception": false,
     "start_time": "2022-01-14T12:31:04.554195",
     "status": "completed"
    },
    "tags": []
   },
   "outputs": [
    {
     "data": {
      "text/html": [
       "<div>\n",
       "<style scoped>\n",
       "    .dataframe tbody tr th:only-of-type {\n",
       "        vertical-align: middle;\n",
       "    }\n",
       "\n",
       "    .dataframe tbody tr th {\n",
       "        vertical-align: top;\n",
       "    }\n",
       "\n",
       "    .dataframe thead th {\n",
       "        text-align: right;\n",
       "    }\n",
       "</style>\n",
       "<table border=\"1\" class=\"dataframe\">\n",
       "  <thead>\n",
       "    <tr style=\"text-align: right;\">\n",
       "      <th></th>\n",
       "      <th>text</th>\n",
       "      <th>subject</th>\n",
       "      <th>date</th>\n",
       "      <th>fake</th>\n",
       "      <th>Year</th>\n",
       "      <th>Month</th>\n",
       "    </tr>\n",
       "  </thead>\n",
       "  <tbody>\n",
       "    <tr>\n",
       "      <th>0</th>\n",
       "      <td>Donald Trump Sends Out Embarrassing New Year’...</td>\n",
       "      <td>News</td>\n",
       "      <td>2017-12-31</td>\n",
       "      <td>1</td>\n",
       "      <td>2017.0</td>\n",
       "      <td>12.0</td>\n",
       "    </tr>\n",
       "    <tr>\n",
       "      <th>1</th>\n",
       "      <td>Drunk Bragging Trump Staffer Started Russian ...</td>\n",
       "      <td>News</td>\n",
       "      <td>2017-12-31</td>\n",
       "      <td>1</td>\n",
       "      <td>2017.0</td>\n",
       "      <td>12.0</td>\n",
       "    </tr>\n",
       "    <tr>\n",
       "      <th>2</th>\n",
       "      <td>Sheriff David Clarke Becomes An Internet Joke...</td>\n",
       "      <td>News</td>\n",
       "      <td>2017-12-30</td>\n",
       "      <td>1</td>\n",
       "      <td>2017.0</td>\n",
       "      <td>12.0</td>\n",
       "    </tr>\n",
       "    <tr>\n",
       "      <th>3</th>\n",
       "      <td>Trump Is So Obsessed He Even Has Obama’s Name...</td>\n",
       "      <td>News</td>\n",
       "      <td>2017-12-29</td>\n",
       "      <td>1</td>\n",
       "      <td>2017.0</td>\n",
       "      <td>12.0</td>\n",
       "    </tr>\n",
       "    <tr>\n",
       "      <th>4</th>\n",
       "      <td>Pope Francis Just Called Out Donald Trump Dur...</td>\n",
       "      <td>News</td>\n",
       "      <td>2017-12-25</td>\n",
       "      <td>1</td>\n",
       "      <td>2017.0</td>\n",
       "      <td>12.0</td>\n",
       "    </tr>\n",
       "  </tbody>\n",
       "</table>\n",
       "</div>"
      ],
      "text/plain": [
       "                                                text subject       date  fake  \\\n",
       "0   Donald Trump Sends Out Embarrassing New Year’...    News 2017-12-31     1   \n",
       "1   Drunk Bragging Trump Staffer Started Russian ...    News 2017-12-31     1   \n",
       "2   Sheriff David Clarke Becomes An Internet Joke...    News 2017-12-30     1   \n",
       "3   Trump Is So Obsessed He Even Has Obama’s Name...    News 2017-12-29     1   \n",
       "4   Pope Francis Just Called Out Donald Trump Dur...    News 2017-12-25     1   \n",
       "\n",
       "     Year  Month  \n",
       "0  2017.0   12.0  \n",
       "1  2017.0   12.0  \n",
       "2  2017.0   12.0  \n",
       "3  2017.0   12.0  \n",
       "4  2017.0   12.0  "
      ]
     },
     "execution_count": 9,
     "metadata": {},
     "output_type": "execute_result"
    }
   ],
   "source": [
    "news['text'] = news['title'] + news['text']\n",
    "news.drop(labels=['title'], axis=1,inplace=True)\n",
    "news.head()"
   ]
  },
  {
   "cell_type": "code",
   "execution_count": 10,
   "id": "443a587e",
   "metadata": {
    "execution": {
     "iopub.execute_input": "2022-01-14T12:31:04.795596Z",
     "iopub.status.busy": "2022-01-14T12:31:04.792223Z",
     "iopub.status.idle": "2022-01-14T12:31:04.801117Z",
     "shell.execute_reply": "2022-01-14T12:31:04.801554Z",
     "shell.execute_reply.started": "2022-01-14T11:45:55.828422Z"
    },
    "papermill": {
     "duration": 0.039391,
     "end_time": "2022-01-14T12:31:04.801699",
     "exception": false,
     "start_time": "2022-01-14T12:31:04.762308",
     "status": "completed"
    },
    "tags": []
   },
   "outputs": [
    {
     "data": {
      "text/html": [
       "<div>\n",
       "<style scoped>\n",
       "    .dataframe tbody tr th:only-of-type {\n",
       "        vertical-align: middle;\n",
       "    }\n",
       "\n",
       "    .dataframe tbody tr th {\n",
       "        vertical-align: top;\n",
       "    }\n",
       "\n",
       "    .dataframe thead th {\n",
       "        text-align: right;\n",
       "    }\n",
       "</style>\n",
       "<table border=\"1\" class=\"dataframe\">\n",
       "  <thead>\n",
       "    <tr style=\"text-align: right;\">\n",
       "      <th></th>\n",
       "      <th>text</th>\n",
       "      <th>fake</th>\n",
       "    </tr>\n",
       "  </thead>\n",
       "  <tbody>\n",
       "    <tr>\n",
       "      <th>0</th>\n",
       "      <td>Donald Trump Sends Out Embarrassing New Year’...</td>\n",
       "      <td>1</td>\n",
       "    </tr>\n",
       "    <tr>\n",
       "      <th>1</th>\n",
       "      <td>Drunk Bragging Trump Staffer Started Russian ...</td>\n",
       "      <td>1</td>\n",
       "    </tr>\n",
       "    <tr>\n",
       "      <th>2</th>\n",
       "      <td>Sheriff David Clarke Becomes An Internet Joke...</td>\n",
       "      <td>1</td>\n",
       "    </tr>\n",
       "    <tr>\n",
       "      <th>3</th>\n",
       "      <td>Trump Is So Obsessed He Even Has Obama’s Name...</td>\n",
       "      <td>1</td>\n",
       "    </tr>\n",
       "    <tr>\n",
       "      <th>4</th>\n",
       "      <td>Pope Francis Just Called Out Donald Trump Dur...</td>\n",
       "      <td>1</td>\n",
       "    </tr>\n",
       "  </tbody>\n",
       "</table>\n",
       "</div>"
      ],
      "text/plain": [
       "                                                text  fake\n",
       "0   Donald Trump Sends Out Embarrassing New Year’...     1\n",
       "1   Drunk Bragging Trump Staffer Started Russian ...     1\n",
       "2   Sheriff David Clarke Becomes An Internet Joke...     1\n",
       "3   Trump Is So Obsessed He Even Has Obama’s Name...     1\n",
       "4   Pope Francis Just Called Out Donald Trump Dur...     1"
      ]
     },
     "execution_count": 10,
     "metadata": {},
     "output_type": "execute_result"
    }
   ],
   "source": [
    "news.drop(labels=['subject','date', 'Year','Month'], axis=1, inplace=True)\n",
    "news.head()"
   ]
  },
  {
   "cell_type": "code",
   "execution_count": 11,
   "id": "12026763",
   "metadata": {
    "execution": {
     "iopub.execute_input": "2022-01-14T12:31:04.861289Z",
     "iopub.status.busy": "2022-01-14T12:31:04.860308Z",
     "iopub.status.idle": "2022-01-14T12:31:04.871795Z",
     "shell.execute_reply": "2022-01-14T12:31:04.871331Z",
     "shell.execute_reply.started": "2022-01-14T11:45:55.845157Z"
    },
    "papermill": {
     "duration": 0.043145,
     "end_time": "2022-01-14T12:31:04.871929",
     "exception": false,
     "start_time": "2022-01-14T12:31:04.828784",
     "status": "completed"
    },
    "tags": []
   },
   "outputs": [
    {
     "data": {
      "text/html": [
       "<div>\n",
       "<style scoped>\n",
       "    .dataframe tbody tr th:only-of-type {\n",
       "        vertical-align: middle;\n",
       "    }\n",
       "\n",
       "    .dataframe tbody tr th {\n",
       "        vertical-align: top;\n",
       "    }\n",
       "\n",
       "    .dataframe thead th {\n",
       "        text-align: right;\n",
       "    }\n",
       "</style>\n",
       "<table border=\"1\" class=\"dataframe\">\n",
       "  <thead>\n",
       "    <tr style=\"text-align: right;\">\n",
       "      <th></th>\n",
       "      <th>text</th>\n",
       "      <th>fake</th>\n",
       "    </tr>\n",
       "  </thead>\n",
       "  <tbody>\n",
       "    <tr>\n",
       "      <th>14306</th>\n",
       "      <td>Unclear if anyone will attend Mugabe cabinet m...</td>\n",
       "      <td>0</td>\n",
       "    </tr>\n",
       "    <tr>\n",
       "      <th>18455</th>\n",
       "      <td>Factbox: Main elements in France's counter-ter...</td>\n",
       "      <td>0</td>\n",
       "    </tr>\n",
       "    <tr>\n",
       "      <th>13102</th>\n",
       "      <td>Turkish academics to be tried in April over Ku...</td>\n",
       "      <td>0</td>\n",
       "    </tr>\n",
       "    <tr>\n",
       "      <th>3473</th>\n",
       "      <td>Republicans To Give MASSIVE Tax Cuts To The W...</td>\n",
       "      <td>1</td>\n",
       "    </tr>\n",
       "    <tr>\n",
       "      <th>10285</th>\n",
       "      <td>SCARAMUCCI’S WIFE FILES FOR DIVORCE…Why She’s ...</td>\n",
       "      <td>1</td>\n",
       "    </tr>\n",
       "  </tbody>\n",
       "</table>\n",
       "</div>"
      ],
      "text/plain": [
       "                                                    text  fake\n",
       "14306  Unclear if anyone will attend Mugabe cabinet m...     0\n",
       "18455  Factbox: Main elements in France's counter-ter...     0\n",
       "13102  Turkish academics to be tried in April over Ku...     0\n",
       "3473    Republicans To Give MASSIVE Tax Cuts To The W...     1\n",
       "10285  SCARAMUCCI’S WIFE FILES FOR DIVORCE…Why She’s ...     1"
      ]
     },
     "execution_count": 11,
     "metadata": {},
     "output_type": "execute_result"
    }
   ],
   "source": [
    "news = news.sample(frac=1)\n",
    "news.head()"
   ]
  },
  {
   "cell_type": "code",
   "execution_count": 12,
   "id": "0b080033",
   "metadata": {
    "execution": {
     "iopub.execute_input": "2022-01-14T12:31:04.932140Z",
     "iopub.status.busy": "2022-01-14T12:31:04.931414Z",
     "iopub.status.idle": "2022-01-14T12:31:05.061760Z",
     "shell.execute_reply": "2022-01-14T12:31:05.062211Z",
     "shell.execute_reply.started": "2022-01-14T11:45:55.862751Z"
    },
    "papermill": {
     "duration": 0.162724,
     "end_time": "2022-01-14T12:31:05.062355",
     "exception": false,
     "start_time": "2022-01-14T12:31:04.899631",
     "status": "completed"
    },
    "tags": []
   },
   "outputs": [],
   "source": [
    "from sklearn.model_selection import train_test_split\n",
    "\n",
    "train_sentences, val_sentences, train_labels, val_labels=train_test_split(news['text'].to_numpy(),\n",
    "                                                                            news['fake'].to_numpy(),\n",
    "                                                                            test_size=0.25,\n",
    "                                                                            random_state=42)"
   ]
  },
  {
   "cell_type": "code",
   "execution_count": 13,
   "id": "38931106",
   "metadata": {
    "execution": {
     "iopub.execute_input": "2022-01-14T12:31:05.122591Z",
     "iopub.status.busy": "2022-01-14T12:31:05.121897Z",
     "iopub.status.idle": "2022-01-14T12:31:08.344139Z",
     "shell.execute_reply": "2022-01-14T12:31:08.344575Z",
     "shell.execute_reply.started": "2022-01-14T11:45:56.004857Z"
    },
    "papermill": {
     "duration": 3.254705,
     "end_time": "2022-01-14T12:31:08.344726",
     "exception": false,
     "start_time": "2022-01-14T12:31:05.090021",
     "status": "completed"
    },
    "tags": []
   },
   "outputs": [
    {
     "name": "stderr",
     "output_type": "stream",
     "text": [
      "2022-01-14 12:31:06.071147: I tensorflow/stream_executor/cuda/cuda_gpu_executor.cc:937] successful NUMA node read from SysFS had negative value (-1), but there must be at least one NUMA node, so returning NUMA node zero\n",
      "2022-01-14 12:31:06.180947: I tensorflow/stream_executor/cuda/cuda_gpu_executor.cc:937] successful NUMA node read from SysFS had negative value (-1), but there must be at least one NUMA node, so returning NUMA node zero\n",
      "2022-01-14 12:31:06.181679: I tensorflow/stream_executor/cuda/cuda_gpu_executor.cc:937] successful NUMA node read from SysFS had negative value (-1), but there must be at least one NUMA node, so returning NUMA node zero\n",
      "2022-01-14 12:31:06.182784: I tensorflow/core/platform/cpu_feature_guard.cc:142] This TensorFlow binary is optimized with oneAPI Deep Neural Network Library (oneDNN) to use the following CPU instructions in performance-critical operations:  AVX2 AVX512F FMA\n",
      "To enable them in other operations, rebuild TensorFlow with the appropriate compiler flags.\n",
      "2022-01-14 12:31:06.183880: I tensorflow/stream_executor/cuda/cuda_gpu_executor.cc:937] successful NUMA node read from SysFS had negative value (-1), but there must be at least one NUMA node, so returning NUMA node zero\n",
      "2022-01-14 12:31:06.184631: I tensorflow/stream_executor/cuda/cuda_gpu_executor.cc:937] successful NUMA node read from SysFS had negative value (-1), but there must be at least one NUMA node, so returning NUMA node zero\n",
      "2022-01-14 12:31:06.185244: I tensorflow/stream_executor/cuda/cuda_gpu_executor.cc:937] successful NUMA node read from SysFS had negative value (-1), but there must be at least one NUMA node, so returning NUMA node zero\n",
      "2022-01-14 12:31:08.022162: I tensorflow/stream_executor/cuda/cuda_gpu_executor.cc:937] successful NUMA node read from SysFS had negative value (-1), but there must be at least one NUMA node, so returning NUMA node zero\n",
      "2022-01-14 12:31:08.023035: I tensorflow/stream_executor/cuda/cuda_gpu_executor.cc:937] successful NUMA node read from SysFS had negative value (-1), but there must be at least one NUMA node, so returning NUMA node zero\n",
      "2022-01-14 12:31:08.023783: I tensorflow/stream_executor/cuda/cuda_gpu_executor.cc:937] successful NUMA node read from SysFS had negative value (-1), but there must be at least one NUMA node, so returning NUMA node zero\n",
      "2022-01-14 12:31:08.024390: I tensorflow/core/common_runtime/gpu/gpu_device.cc:1510] Created device /job:localhost/replica:0/task:0/device:GPU:0 with 15403 MB memory:  -> device: 0, name: Tesla P100-PCIE-16GB, pci bus id: 0000:00:04.0, compute capability: 6.0\n"
     ]
    }
   ],
   "source": [
    "max_vocab_length = 10000\n",
    "max_length = 418\n",
    "\n",
    "\n",
    "from tensorflow.keras.layers.experimental.preprocessing import TextVectorization\n",
    "text_vectorizer = TextVectorization(max_tokens=max_vocab_length,\n",
    "                                   output_mode='int',\n",
    "                                   output_sequence_length=max_length)"
   ]
  },
  {
   "cell_type": "code",
   "execution_count": 14,
   "id": "1aa590f0",
   "metadata": {
    "execution": {
     "iopub.execute_input": "2022-01-14T12:31:08.403435Z",
     "iopub.status.busy": "2022-01-14T12:31:08.402763Z",
     "iopub.status.idle": "2022-01-14T12:31:13.906000Z",
     "shell.execute_reply": "2022-01-14T12:31:13.905476Z",
     "shell.execute_reply.started": "2022-01-14T11:45:58.654001Z"
    },
    "papermill": {
     "duration": 5.534143,
     "end_time": "2022-01-14T12:31:13.906134",
     "exception": false,
     "start_time": "2022-01-14T12:31:08.371991",
     "status": "completed"
    },
    "tags": []
   },
   "outputs": [
    {
     "name": "stderr",
     "output_type": "stream",
     "text": [
      "2022-01-14 12:31:08.613727: I tensorflow/compiler/mlir/mlir_graph_optimization_pass.cc:185] None of the MLIR Optimization Passes are enabled (registered 2)\n"
     ]
    }
   ],
   "source": [
    "text_vectorizer.adapt(train_sentences)"
   ]
  },
  {
   "cell_type": "code",
   "execution_count": 15,
   "id": "816f9310",
   "metadata": {
    "execution": {
     "iopub.execute_input": "2022-01-14T12:31:13.969107Z",
     "iopub.status.busy": "2022-01-14T12:31:13.968332Z",
     "iopub.status.idle": "2022-01-14T12:31:14.028729Z",
     "shell.execute_reply": "2022-01-14T12:31:14.029163Z",
     "shell.execute_reply.started": "2022-01-14T11:46:03.907795Z"
    },
    "papermill": {
     "duration": 0.095298,
     "end_time": "2022-01-14T12:31:14.029332",
     "exception": false,
     "start_time": "2022-01-14T12:31:13.934034",
     "status": "completed"
    },
    "tags": []
   },
   "outputs": [
    {
     "name": "stdout",
     "output_type": "stream",
     "text": [
      "Original text;\n",
      "TOP TEN Clinton Scandals That Wikileaks Exposed And That YOU Need To Know About1. Mrs. Clinton had cozy and improper relationship with the mainstream media.2. The State Department paid special attention to  Friends of Bill. 3. Mrs. Clinton argued for  a hemispheric common market with open trade and open borders. 4. The Clinton campaign was in touch with Department of Justice officials regarding the release of her emails.5. The Clinton camp was tipped off to the release of the Benghazi emails.6. Mrs. Clinton admitted sometimes her public and private positions differ.7. Mrs. Clinton s spokesman mocked Catholics and evangelicals as  severely backwards. 8. Mrs. Clinton admitted she has a hard time relating to the struggles of the middle class.9. Mrs. Clinton campaign used Benghazi as a distraction from the email scandal.10. The Clinton team strategized on how to delay releasing emails, knowing it was against the law.Via: WT\n",
      "\n",
      " Vectorized Version:\n"
     ]
    },
    {
     "data": {
      "text/plain": [
       "<tf.Tensor: shape=(1, 418), dtype=int64, numpy=\n",
       "array([[ 262, 2890,   73, 3660,    8, 1577, 2463,    6,    8,   43,  233,\n",
       "           3,  155,    1, 2751,   73,   42, 9364,    6, 6588,  975,   17,\n",
       "           2, 1125,    1,    2,   59,  178,  822,  481, 1152,    3,  959,\n",
       "           4,  143,  767, 2751,   73, 1622,   10,    5,    1, 1251,  827,\n",
       "          17,  485,  283,    6,  485, 1627,  847,    2,   73,   93,   18,\n",
       "           7, 3473,   17,  178,    4,  265,  161, 1304,    2,  659,    4,\n",
       "          53,    1,    2,   73, 1887,   18,    1,  220,    3,    2,  659,\n",
       "           4,    2, 2086,    1, 2751,   73, 1651, 1827,   53,  166,    6,\n",
       "         502, 1530,    1, 2751,   73,   11,  366, 3867, 7185,    6, 8564,\n",
       "          19, 5365, 9844,  584, 2751,   73, 1651,   52,   22,    5,  562,\n",
       "         100, 6883,    3,    2, 5880,    4,    2,  620,    1, 2751,   73,\n",
       "          93,  258, 2086,   19,    5, 7425,   26,    2,  508,    1,    2,\n",
       "          73,  450,    1,    9,  101,    3, 2383, 3778,  600, 3469,   16,\n",
       "          18,   89,    2,    1,    1,    0,    0,    0,    0,    0,    0,\n",
       "           0,    0,    0,    0,    0,    0,    0,    0,    0,    0,    0,\n",
       "           0,    0,    0,    0,    0,    0,    0,    0,    0,    0,    0,\n",
       "           0,    0,    0,    0,    0,    0,    0,    0,    0,    0,    0,\n",
       "           0,    0,    0,    0,    0,    0,    0,    0,    0,    0,    0,\n",
       "           0,    0,    0,    0,    0,    0,    0,    0,    0,    0,    0,\n",
       "           0,    0,    0,    0,    0,    0,    0,    0,    0,    0,    0,\n",
       "           0,    0,    0,    0,    0,    0,    0,    0,    0,    0,    0,\n",
       "           0,    0,    0,    0,    0,    0,    0,    0,    0,    0,    0,\n",
       "           0,    0,    0,    0,    0,    0,    0,    0,    0,    0,    0,\n",
       "           0,    0,    0,    0,    0,    0,    0,    0,    0,    0,    0,\n",
       "           0,    0,    0,    0,    0,    0,    0,    0,    0,    0,    0,\n",
       "           0,    0,    0,    0,    0,    0,    0,    0,    0,    0,    0,\n",
       "           0,    0,    0,    0,    0,    0,    0,    0,    0,    0,    0,\n",
       "           0,    0,    0,    0,    0,    0,    0,    0,    0,    0,    0,\n",
       "           0,    0,    0,    0,    0,    0,    0,    0,    0,    0,    0,\n",
       "           0,    0,    0,    0,    0,    0,    0,    0,    0,    0,    0,\n",
       "           0,    0,    0,    0,    0,    0,    0,    0,    0,    0,    0,\n",
       "           0,    0,    0,    0,    0,    0,    0,    0,    0,    0,    0,\n",
       "           0,    0,    0,    0,    0,    0,    0,    0,    0,    0,    0,\n",
       "           0,    0,    0,    0,    0,    0,    0,    0,    0,    0,    0,\n",
       "           0,    0,    0,    0,    0,    0,    0,    0,    0,    0,    0,\n",
       "           0,    0,    0,    0,    0,    0,    0,    0,    0,    0,    0,\n",
       "           0,    0,    0,    0,    0,    0,    0,    0,    0,    0,    0,\n",
       "           0,    0,    0,    0,    0,    0,    0,    0,    0,    0,    0]])>"
      ]
     },
     "execution_count": 15,
     "metadata": {},
     "output_type": "execute_result"
    }
   ],
   "source": [
    "import random\n",
    "random_sentence = random.choice(train_sentences)\n",
    "print(f\"Original text;\\n{random_sentence}\\\n",
    "\\n\\n Vectorized Version:\")\n",
    "text_vectorizer([random_sentence])"
   ]
  },
  {
   "cell_type": "code",
   "execution_count": 16,
   "id": "638be9ed",
   "metadata": {
    "execution": {
     "iopub.execute_input": "2022-01-14T12:31:14.093175Z",
     "iopub.status.busy": "2022-01-14T12:31:14.092358Z",
     "iopub.status.idle": "2022-01-14T12:31:14.119967Z",
     "shell.execute_reply": "2022-01-14T12:31:14.119535Z",
     "shell.execute_reply.started": "2022-01-14T11:46:03.972612Z"
    },
    "papermill": {
     "duration": 0.05883,
     "end_time": "2022-01-14T12:31:14.120071",
     "exception": false,
     "start_time": "2022-01-14T12:31:14.061241",
     "status": "completed"
    },
    "tags": []
   },
   "outputs": [
    {
     "data": {
      "text/plain": [
       "10000"
      ]
     },
     "execution_count": 16,
     "metadata": {},
     "output_type": "execute_result"
    }
   ],
   "source": [
    "words = text_vectorizer.get_vocabulary()\n",
    "len(words)"
   ]
  },
  {
   "cell_type": "code",
   "execution_count": 17,
   "id": "37fa0946",
   "metadata": {
    "execution": {
     "iopub.execute_input": "2022-01-14T12:31:14.184615Z",
     "iopub.status.busy": "2022-01-14T12:31:14.183904Z",
     "iopub.status.idle": "2022-01-14T12:31:14.186677Z",
     "shell.execute_reply": "2022-01-14T12:31:14.187076Z",
     "shell.execute_reply.started": "2022-01-14T11:46:04.007092Z"
    },
    "papermill": {
     "duration": 0.038359,
     "end_time": "2022-01-14T12:31:14.187203",
     "exception": false,
     "start_time": "2022-01-14T12:31:14.148844",
     "status": "completed"
    },
    "tags": []
   },
   "outputs": [
    {
     "data": {
      "text/plain": [
       "<keras.layers.embeddings.Embedding at 0x7f0f0c826510>"
      ]
     },
     "execution_count": 17,
     "metadata": {},
     "output_type": "execute_result"
    }
   ],
   "source": [
    "from tensorflow.keras import layers\n",
    "\n",
    "embedding = layers.Embedding(input_dim=max_vocab_length,\n",
    "                            output_dim=128,\n",
    "                            embeddings_initializer='uniform',\n",
    "                            input_length=max_length)\n",
    "embedding"
   ]
  },
  {
   "cell_type": "code",
   "execution_count": 18,
   "id": "2a50ce44",
   "metadata": {
    "execution": {
     "iopub.execute_input": "2022-01-14T12:31:14.251144Z",
     "iopub.status.busy": "2022-01-14T12:31:14.250297Z",
     "iopub.status.idle": "2022-01-14T12:31:14.273772Z",
     "shell.execute_reply": "2022-01-14T12:31:14.273280Z",
     "shell.execute_reply.started": "2022-01-14T11:46:04.017784Z"
    },
    "papermill": {
     "duration": 0.057762,
     "end_time": "2022-01-14T12:31:14.273894",
     "exception": false,
     "start_time": "2022-01-14T12:31:14.216132",
     "status": "completed"
    },
    "tags": []
   },
   "outputs": [
    {
     "name": "stdout",
     "output_type": "stream",
     "text": [
      "Original text:\n",
      "TOP TEN Clinton Scandals That Wikileaks Exposed And That YOU Need To Know About1. Mrs. Clinton had cozy and improper relationship with the mainstream media.2. The State Department paid special attention to  Friends of Bill. 3. Mrs. Clinton argued for  a hemispheric common market with open trade and open borders. 4. The Clinton campaign was in touch with Department of Justice officials regarding the release of her emails.5. The Clinton camp was tipped off to the release of the Benghazi emails.6. Mrs. Clinton admitted sometimes her public and private positions differ.7. Mrs. Clinton s spokesman mocked Catholics and evangelicals as  severely backwards. 8. Mrs. Clinton admitted she has a hard time relating to the struggles of the middle class.9. Mrs. Clinton campaign used Benghazi as a distraction from the email scandal.10. The Clinton team strategized on how to delay releasing emails, knowing it was against the law.Via: WT      \n",
      "\n",
      "Embedd version: \n"
     ]
    },
    {
     "data": {
      "text/plain": [
       "<tf.Tensor: shape=(1, 418, 128), dtype=float32, numpy=\n",
       "array([[[-0.00305661, -0.0307065 ,  0.04842762, ...,  0.01771382,\n",
       "         -0.02969207,  0.04334847],\n",
       "        [ 0.0218651 ,  0.00444781,  0.03491278, ...,  0.04229176,\n",
       "         -0.03736008, -0.00869061],\n",
       "        [ 0.01990941, -0.01489741, -0.01931634, ..., -0.01029264,\n",
       "         -0.02559783, -0.02871361],\n",
       "        ...,\n",
       "        [-0.03686148,  0.02837714, -0.00417056, ..., -0.00316422,\n",
       "         -0.01192106, -0.00202546],\n",
       "        [-0.03686148,  0.02837714, -0.00417056, ..., -0.00316422,\n",
       "         -0.01192106, -0.00202546],\n",
       "        [-0.03686148,  0.02837714, -0.00417056, ..., -0.00316422,\n",
       "         -0.01192106, -0.00202546]]], dtype=float32)>"
      ]
     },
     "execution_count": 18,
     "metadata": {},
     "output_type": "execute_result"
    }
   ],
   "source": [
    "random_sentenc = random.choice(train_sentences)\n",
    "print(f\"Original text:\\n{random_sentence}\\\n",
    "      \\n\\nEmbedd version: \")\n",
    "embedding(text_vectorizer([random_sentence]))"
   ]
  },
  {
   "cell_type": "code",
   "execution_count": 19,
   "id": "14efd260",
   "metadata": {
    "execution": {
     "iopub.execute_input": "2022-01-14T12:31:14.349041Z",
     "iopub.status.busy": "2022-01-14T12:31:14.346881Z",
     "iopub.status.idle": "2022-01-14T12:31:14.592720Z",
     "shell.execute_reply": "2022-01-14T12:31:14.593158Z",
     "shell.execute_reply.started": "2022-01-14T11:46:04.053234Z"
    },
    "papermill": {
     "duration": 0.285218,
     "end_time": "2022-01-14T12:31:14.593299",
     "exception": false,
     "start_time": "2022-01-14T12:31:14.308081",
     "status": "completed"
    },
    "tags": []
   },
   "outputs": [],
   "source": [
    "# Create an LSTM model\n",
    "from tensorflow.keras import layers\n",
    "inputs = layers.Input(shape=(1,),dtype='string')\n",
    "\n",
    "# Pass inputs to text_vectorizer(convert text into numbers)\n",
    "x = text_vectorizer(inputs) \n",
    "\n",
    "# Convert text_vectorizer layer into embedding layer\n",
    "x = embedding(x)\n",
    "\n",
    "# Model \n",
    "x = layers.LSTM(64)(x)\n",
    "# output\n",
    "outputs = layers.Dense(1, activation='sigmoid')(x)\n",
    "\n",
    "# Pass inputs and outputs to our model\n",
    "model = tf.keras.Model(inputs, outputs, name='model_LSTM')"
   ]
  },
  {
   "cell_type": "code",
   "execution_count": 20,
   "id": "e46f6f62",
   "metadata": {
    "execution": {
     "iopub.execute_input": "2022-01-14T12:31:14.659029Z",
     "iopub.status.busy": "2022-01-14T12:31:14.658234Z",
     "iopub.status.idle": "2022-01-14T12:31:14.662590Z",
     "shell.execute_reply": "2022-01-14T12:31:14.663107Z",
     "shell.execute_reply.started": "2022-01-14T11:46:04.315874Z"
    },
    "papermill": {
     "duration": 0.040563,
     "end_time": "2022-01-14T12:31:14.663270",
     "exception": false,
     "start_time": "2022-01-14T12:31:14.622707",
     "status": "completed"
    },
    "tags": []
   },
   "outputs": [
    {
     "name": "stdout",
     "output_type": "stream",
     "text": [
      "Model: \"model_LSTM\"\n",
      "_________________________________________________________________\n",
      "Layer (type)                 Output Shape              Param #   \n",
      "=================================================================\n",
      "input_1 (InputLayer)         [(None, 1)]               0         \n",
      "_________________________________________________________________\n",
      "text_vectorization (TextVect (None, 418)               0         \n",
      "_________________________________________________________________\n",
      "embedding (Embedding)        (None, 418, 128)          1280000   \n",
      "_________________________________________________________________\n",
      "lstm (LSTM)                  (None, 64)                49408     \n",
      "_________________________________________________________________\n",
      "dense (Dense)                (None, 1)                 65        \n",
      "=================================================================\n",
      "Total params: 1,329,473\n",
      "Trainable params: 1,329,473\n",
      "Non-trainable params: 0\n",
      "_________________________________________________________________\n"
     ]
    }
   ],
   "source": [
    "# Get a summary\n",
    "model.summary()"
   ]
  },
  {
   "cell_type": "code",
   "execution_count": 21,
   "id": "868b5e3d",
   "metadata": {
    "execution": {
     "iopub.execute_input": "2022-01-14T12:31:14.731249Z",
     "iopub.status.busy": "2022-01-14T12:31:14.730418Z",
     "iopub.status.idle": "2022-01-14T12:31:14.735796Z",
     "shell.execute_reply": "2022-01-14T12:31:14.736165Z",
     "shell.execute_reply.started": "2022-01-14T11:46:04.329609Z"
    },
    "papermill": {
     "duration": 0.042986,
     "end_time": "2022-01-14T12:31:14.736283",
     "exception": false,
     "start_time": "2022-01-14T12:31:14.693297",
     "status": "completed"
    },
    "tags": []
   },
   "outputs": [],
   "source": [
    "# Compile the model\n",
    "model.compile(loss='binary_crossentropy',\n",
    "             optimizer=tf.keras.optimizers.Adam(),\n",
    "             metrics=['accuracy'])"
   ]
  },
  {
   "cell_type": "code",
   "execution_count": 22,
   "id": "1c4323b3",
   "metadata": {
    "execution": {
     "iopub.execute_input": "2022-01-14T12:31:14.800998Z",
     "iopub.status.busy": "2022-01-14T12:31:14.799970Z",
     "iopub.status.idle": "2022-01-14T12:33:38.403984Z",
     "shell.execute_reply": "2022-01-14T12:33:38.404403Z",
     "shell.execute_reply.started": "2022-01-14T11:46:04.345313Z"
    },
    "papermill": {
     "duration": 143.63865,
     "end_time": "2022-01-14T12:33:38.404611",
     "exception": false,
     "start_time": "2022-01-14T12:31:14.765961",
     "status": "completed"
    },
    "tags": []
   },
   "outputs": [
    {
     "name": "stdout",
     "output_type": "stream",
     "text": [
      "Epoch 1/5\n"
     ]
    },
    {
     "name": "stderr",
     "output_type": "stream",
     "text": [
      "2022-01-14 12:31:17.300430: I tensorflow/stream_executor/cuda/cuda_dnn.cc:369] Loaded cuDNN version 8005\n"
     ]
    },
    {
     "name": "stdout",
     "output_type": "stream",
     "text": [
      "1053/1053 [==============================] - 30s 26ms/step - loss: 0.4815 - accuracy: 0.7679 - val_loss: 0.6207 - val_accuracy: 0.5973\n",
      "Epoch 2/5\n",
      "1053/1053 [==============================] - 26s 25ms/step - loss: 0.4316 - accuracy: 0.7932 - val_loss: 0.1206 - val_accuracy: 0.9671\n",
      "Epoch 3/5\n",
      "1053/1053 [==============================] - 27s 26ms/step - loss: 0.0845 - accuracy: 0.9737 - val_loss: 0.0871 - val_accuracy: 0.9697\n",
      "Epoch 4/5\n",
      "1053/1053 [==============================] - 27s 25ms/step - loss: 0.0323 - accuracy: 0.9915 - val_loss: 0.0434 - val_accuracy: 0.9873\n",
      "Epoch 5/5\n",
      "1053/1053 [==============================] - 26s 25ms/step - loss: 0.0207 - accuracy: 0.9955 - val_loss: 0.0637 - val_accuracy: 0.9821\n"
     ]
    }
   ],
   "source": [
    "model_history = model.fit(train_sentences,\n",
    "                         train_labels,\n",
    "                          epochs=5,\n",
    "                         validation_data=(val_sentences, val_labels))"
   ]
  },
  {
   "cell_type": "code",
   "execution_count": null,
   "id": "d51704f4",
   "metadata": {
    "papermill": {
     "duration": 0.499874,
     "end_time": "2022-01-14T12:33:39.403274",
     "exception": false,
     "start_time": "2022-01-14T12:33:38.903400",
     "status": "completed"
    },
    "tags": []
   },
   "outputs": [],
   "source": [
    "\n"
   ]
  },
  {
   "cell_type": "code",
   "execution_count": null,
   "id": "dc6605f1",
   "metadata": {
    "papermill": {
     "duration": 0.504516,
     "end_time": "2022-01-14T12:33:40.417336",
     "exception": false,
     "start_time": "2022-01-14T12:33:39.912820",
     "status": "completed"
    },
    "tags": []
   },
   "outputs": [],
   "source": []
  },
  {
   "cell_type": "code",
   "execution_count": 23,
   "id": "14a73af9",
   "metadata": {
    "execution": {
     "iopub.execute_input": "2022-01-14T12:33:41.451187Z",
     "iopub.status.busy": "2022-01-14T12:33:41.450580Z",
     "iopub.status.idle": "2022-01-14T12:33:41.926612Z",
     "shell.execute_reply": "2022-01-14T12:33:41.926067Z",
     "shell.execute_reply.started": "2022-01-14T11:57:20.575019Z"
    },
    "papermill": {
     "duration": 1.002083,
     "end_time": "2022-01-14T12:33:41.926821",
     "exception": false,
     "start_time": "2022-01-14T12:33:40.924738",
     "status": "completed"
    },
    "tags": []
   },
   "outputs": [],
   "source": [
    "from textblob import TextBlob\n",
    "import re\n",
    "def clean_text(text):\n",
    "    return ' '.join(re.sub('(@[A-Za-z0-9]+)|([^0-9A-Za-z \\t])|(\\w+:\\/\\/\\S+)', ' ', text).split())\n",
    "def analyze_sentiment(text):\n",
    "    analysis = TextBlob(text)\n",
    "    if analysis.sentiment.polarity > 0:\n",
    "        return 'Positive'\n",
    "    elif analysis.sentiment.polarity == 0:\n",
    "        return 'Neutral'\n",
    "    else:\n",
    "        return 'Negative'"
   ]
  },
  {
   "cell_type": "code",
   "execution_count": 24,
   "id": "1354f5ec",
   "metadata": {
    "execution": {
     "iopub.execute_input": "2022-01-14T12:33:43.188444Z",
     "iopub.status.busy": "2022-01-14T12:33:43.187596Z",
     "iopub.status.idle": "2022-01-14T12:33:43.195070Z",
     "shell.execute_reply": "2022-01-14T12:33:43.196156Z",
     "shell.execute_reply.started": "2022-01-14T11:57:21.409381Z"
    },
    "papermill": {
     "duration": 0.773958,
     "end_time": "2022-01-14T12:33:43.196356",
     "exception": false,
     "start_time": "2022-01-14T12:33:42.422398",
     "status": "completed"
    },
    "tags": []
   },
   "outputs": [
    {
     "data": {
      "text/html": [
       "<div>\n",
       "<style scoped>\n",
       "    .dataframe tbody tr th:only-of-type {\n",
       "        vertical-align: middle;\n",
       "    }\n",
       "\n",
       "    .dataframe tbody tr th {\n",
       "        vertical-align: top;\n",
       "    }\n",
       "\n",
       "    .dataframe thead th {\n",
       "        text-align: right;\n",
       "    }\n",
       "</style>\n",
       "<table border=\"1\" class=\"dataframe\">\n",
       "  <thead>\n",
       "    <tr style=\"text-align: right;\">\n",
       "      <th></th>\n",
       "      <th>text</th>\n",
       "      <th>fake</th>\n",
       "    </tr>\n",
       "  </thead>\n",
       "  <tbody>\n",
       "    <tr>\n",
       "      <th>14306</th>\n",
       "      <td>Unclear if anyone will attend Mugabe cabinet m...</td>\n",
       "      <td>0</td>\n",
       "    </tr>\n",
       "    <tr>\n",
       "      <th>18455</th>\n",
       "      <td>Factbox: Main elements in France's counter-ter...</td>\n",
       "      <td>0</td>\n",
       "    </tr>\n",
       "    <tr>\n",
       "      <th>13102</th>\n",
       "      <td>Turkish academics to be tried in April over Ku...</td>\n",
       "      <td>0</td>\n",
       "    </tr>\n",
       "    <tr>\n",
       "      <th>3473</th>\n",
       "      <td>Republicans To Give MASSIVE Tax Cuts To The W...</td>\n",
       "      <td>1</td>\n",
       "    </tr>\n",
       "    <tr>\n",
       "      <th>10285</th>\n",
       "      <td>SCARAMUCCI’S WIFE FILES FOR DIVORCE…Why She’s ...</td>\n",
       "      <td>1</td>\n",
       "    </tr>\n",
       "    <tr>\n",
       "      <th>...</th>\n",
       "      <td>...</td>\n",
       "      <td>...</td>\n",
       "    </tr>\n",
       "    <tr>\n",
       "      <th>22659</th>\n",
       "      <td>SHOUT POLL: Will Donald Trump hold his lead, o...</td>\n",
       "      <td>1</td>\n",
       "    </tr>\n",
       "    <tr>\n",
       "      <th>12204</th>\n",
       "      <td>U.N. appalled at 30-year sentence for woman un...</td>\n",
       "      <td>0</td>\n",
       "    </tr>\n",
       "    <tr>\n",
       "      <th>10691</th>\n",
       "      <td>“DRIVE THEM OUT OF YOUR PLACES OF WORSHIP!” Lo...</td>\n",
       "      <td>1</td>\n",
       "    </tr>\n",
       "    <tr>\n",
       "      <th>18088</th>\n",
       "      <td>London museum says serious incident outside, w...</td>\n",
       "      <td>0</td>\n",
       "    </tr>\n",
       "    <tr>\n",
       "      <th>6748</th>\n",
       "      <td>Trump taps Goldman Sachs executive Cohn for ke...</td>\n",
       "      <td>0</td>\n",
       "    </tr>\n",
       "  </tbody>\n",
       "</table>\n",
       "<p>44898 rows × 2 columns</p>\n",
       "</div>"
      ],
      "text/plain": [
       "                                                    text  fake\n",
       "14306  Unclear if anyone will attend Mugabe cabinet m...     0\n",
       "18455  Factbox: Main elements in France's counter-ter...     0\n",
       "13102  Turkish academics to be tried in April over Ku...     0\n",
       "3473    Republicans To Give MASSIVE Tax Cuts To The W...     1\n",
       "10285  SCARAMUCCI’S WIFE FILES FOR DIVORCE…Why She’s ...     1\n",
       "...                                                  ...   ...\n",
       "22659  SHOUT POLL: Will Donald Trump hold his lead, o...     1\n",
       "12204  U.N. appalled at 30-year sentence for woman un...     0\n",
       "10691  “DRIVE THEM OUT OF YOUR PLACES OF WORSHIP!” Lo...     1\n",
       "18088  London museum says serious incident outside, w...     0\n",
       "6748   Trump taps Goldman Sachs executive Cohn for ke...     0\n",
       "\n",
       "[44898 rows x 2 columns]"
      ]
     },
     "execution_count": 24,
     "metadata": {},
     "output_type": "execute_result"
    }
   ],
   "source": [
    "df=pd.DataFrame(news)\n",
    "df"
   ]
  },
  {
   "cell_type": "code",
   "execution_count": 25,
   "id": "64ba4fa5",
   "metadata": {
    "execution": {
     "iopub.execute_input": "2022-01-14T12:33:44.334726Z",
     "iopub.status.busy": "2022-01-14T12:33:44.304840Z",
     "iopub.status.idle": "2022-01-14T12:34:13.922996Z",
     "shell.execute_reply": "2022-01-14T12:34:13.922109Z",
     "shell.execute_reply.started": "2022-01-14T11:57:21.423436Z"
    },
    "papermill": {
     "duration": 30.149857,
     "end_time": "2022-01-14T12:34:13.923129",
     "exception": false,
     "start_time": "2022-01-14T12:33:43.773272",
     "status": "completed"
    },
    "tags": []
   },
   "outputs": [],
   "source": [
    "df['clean_text'] = df['text'].apply(lambda x : clean_text(x))"
   ]
  },
  {
   "cell_type": "code",
   "execution_count": 26,
   "id": "0191f851",
   "metadata": {
    "execution": {
     "iopub.execute_input": "2022-01-14T12:34:14.950227Z",
     "iopub.status.busy": "2022-01-14T12:34:14.949408Z",
     "iopub.status.idle": "2022-01-14T12:36:14.668212Z",
     "shell.execute_reply": "2022-01-14T12:36:14.667218Z",
     "shell.execute_reply.started": "2022-01-14T11:57:50.582840Z"
    },
    "papermill": {
     "duration": 120.244226,
     "end_time": "2022-01-14T12:36:14.668381",
     "exception": false,
     "start_time": "2022-01-14T12:34:14.424155",
     "status": "completed"
    },
    "tags": []
   },
   "outputs": [],
   "source": [
    "df['Sentiment'] = df['clean_text'].apply(lambda x : analyze_sentiment(x))"
   ]
  },
  {
   "cell_type": "code",
   "execution_count": 27,
   "id": "1ab750b6",
   "metadata": {
    "execution": {
     "iopub.execute_input": "2022-01-14T12:36:15.808868Z",
     "iopub.status.busy": "2022-01-14T12:36:15.807960Z",
     "iopub.status.idle": "2022-01-14T12:36:15.809756Z",
     "shell.execute_reply": "2022-01-14T12:36:15.810208Z",
     "shell.execute_reply.started": "2022-01-14T11:59:46.472524Z"
    },
    "papermill": {
     "duration": 0.607817,
     "end_time": "2022-01-14T12:36:15.810339",
     "exception": false,
     "start_time": "2022-01-14T12:36:15.202522",
     "status": "completed"
    },
    "tags": []
   },
   "outputs": [],
   "source": [
    "def result(text):\n",
    "    x=(np.array(text)).reshape(1,)\n",
    "    cltxt=clean_text(text)\n",
    "    x=model.predict(x)\n",
    "    x=np.array(x).reshape(1)\n",
    "    x=x[0]\n",
    "    x=round(x)\n",
    "    if x==0:\n",
    "        y='Real'\n",
    "    else:\n",
    "        y='Fake'\n",
    "    return analyze_sentiment(cltxt),y"
   ]
  },
  {
   "cell_type": "code",
   "execution_count": 28,
   "id": "f2778ece",
   "metadata": {
    "execution": {
     "iopub.execute_input": "2022-01-14T12:36:16.933991Z",
     "iopub.status.busy": "2022-01-14T12:36:16.933052Z",
     "iopub.status.idle": "2022-01-14T12:36:17.419887Z",
     "shell.execute_reply": "2022-01-14T12:36:17.419360Z",
     "shell.execute_reply.started": "2022-01-14T11:59:46.482502Z"
    },
    "papermill": {
     "duration": 1.1148,
     "end_time": "2022-01-14T12:36:17.420028",
     "exception": false,
     "start_time": "2022-01-14T12:36:16.305228",
     "status": "completed"
    },
    "tags": []
   },
   "outputs": [
    {
     "data": {
      "text/plain": [
       "('Positive', 'Real')"
      ]
     },
     "execution_count": 28,
     "metadata": {},
     "output_type": "execute_result"
    }
   ],
   "source": [
    "result(news['text'].iloc[5])"
   ]
  },
  {
   "cell_type": "code",
   "execution_count": 29,
   "id": "34e170b6",
   "metadata": {
    "execution": {
     "iopub.execute_input": "2022-01-14T12:36:18.434845Z",
     "iopub.status.busy": "2022-01-14T12:36:18.433938Z",
     "iopub.status.idle": "2022-01-14T12:36:18.480888Z",
     "shell.execute_reply": "2022-01-14T12:36:18.481372Z",
     "shell.execute_reply.started": "2022-01-14T11:59:46.550053Z"
    },
    "papermill": {
     "duration": 0.555498,
     "end_time": "2022-01-14T12:36:18.481552",
     "exception": false,
     "start_time": "2022-01-14T12:36:17.926054",
     "status": "completed"
    },
    "tags": []
   },
   "outputs": [
    {
     "data": {
      "text/plain": [
       "0"
      ]
     },
     "execution_count": 29,
     "metadata": {},
     "output_type": "execute_result"
    }
   ],
   "source": [
    "x=(np.array(news['text'].iloc[5])).reshape(1,)\n",
    "x=model.predict(x)\n",
    "x=np.array(x).reshape(1)\n",
    "x=x[0]\n",
    "x=round(x)\n",
    "x"
   ]
  },
  {
   "cell_type": "code",
   "execution_count": 30,
   "id": "f32756b5",
   "metadata": {
    "execution": {
     "iopub.execute_input": "2022-01-14T12:36:19.984102Z",
     "iopub.status.busy": "2022-01-14T12:36:19.983425Z",
     "iopub.status.idle": "2022-01-14T12:36:19.986288Z",
     "shell.execute_reply": "2022-01-14T12:36:19.986812Z",
     "shell.execute_reply.started": "2022-01-14T11:59:46.603023Z"
    },
    "papermill": {
     "duration": 0.836234,
     "end_time": "2022-01-14T12:36:19.986997",
     "exception": false,
     "start_time": "2022-01-14T12:36:19.150763",
     "status": "completed"
    },
    "tags": []
   },
   "outputs": [
    {
     "data": {
      "text/plain": [
       "0.0"
      ]
     },
     "execution_count": 30,
     "metadata": {},
     "output_type": "execute_result"
    }
   ],
   "source": [
    "np.floor(0.9)"
   ]
  },
  {
   "cell_type": "code",
   "execution_count": null,
   "id": "4737ae92",
   "metadata": {
    "papermill": {
     "duration": 0.517237,
     "end_time": "2022-01-14T12:36:21.003774",
     "exception": false,
     "start_time": "2022-01-14T12:36:20.486537",
     "status": "completed"
    },
    "tags": []
   },
   "outputs": [],
   "source": []
  },
  {
   "cell_type": "code",
   "execution_count": null,
   "id": "24f420b1",
   "metadata": {
    "papermill": {
     "duration": 0.508379,
     "end_time": "2022-01-14T12:36:22.028229",
     "exception": false,
     "start_time": "2022-01-14T12:36:21.519850",
     "status": "completed"
    },
    "tags": []
   },
   "outputs": [],
   "source": []
  }
 ],
 "metadata": {
  "kernelspec": {
   "display_name": "Python 3",
   "language": "python",
   "name": "python3"
  },
  "language_info": {
   "codemirror_mode": {
    "name": "ipython",
    "version": 3
   },
   "file_extension": ".py",
   "mimetype": "text/x-python",
   "name": "python",
   "nbconvert_exporter": "python",
   "pygments_lexer": "ipython3",
   "version": "3.7.12"
  },
  "papermill": {
   "default_parameters": {},
   "duration": 338.788453,
   "end_time": "2022-01-14T12:36:26.163147",
   "environment_variables": {},
   "exception": null,
   "input_path": "__notebook__.ipynb",
   "output_path": "__notebook__.ipynb",
   "parameters": {},
   "start_time": "2022-01-14T12:30:47.374694",
   "version": "2.3.3"
  }
 },
 "nbformat": 4,
 "nbformat_minor": 5
}
