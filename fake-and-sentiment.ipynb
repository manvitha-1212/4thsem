{
 "cells": [
  {
   "cell_type": "markdown",
   "id": "62880a04",
   "metadata": {
    "papermill": {
     "duration": 0.024258,
     "end_time": "2022-01-14T12:37:52.666959",
     "exception": false,
     "start_time": "2022-01-14T12:37:52.642701",
     "status": "completed"
    },
    "tags": []
   },
   "source": []
  },
  {
   "cell_type": "code",
   "execution_count": 1,
   "id": "fdd199dd",
   "metadata": {
    "execution": {
     "iopub.execute_input": "2022-01-14T12:37:52.723430Z",
     "iopub.status.busy": "2022-01-14T12:37:52.722650Z",
     "iopub.status.idle": "2022-01-14T12:37:57.430726Z",
     "shell.execute_reply": "2022-01-14T12:37:57.430134Z",
     "shell.execute_reply.started": "2022-01-14T11:45:47.979640Z"
    },
    "papermill": {
     "duration": 4.740899,
     "end_time": "2022-01-14T12:37:57.430896",
     "exception": false,
     "start_time": "2022-01-14T12:37:52.689997",
     "status": "completed"
    },
    "tags": []
   },
   "outputs": [],
   "source": [
    "import numpy as np\n",
    "import pandas as pd\n",
    "import matplotlib.pyplot as plt\n",
    "import seaborn as sns\n",
    "from datetime import datetime\n",
    "\n",
    "import warnings\n",
    "warnings.filterwarnings('ignore')\n",
    "\n",
    "import tensorflow as tf\n"
   ]
  },
  {
   "cell_type": "code",
   "execution_count": 2,
   "id": "656d031a",
   "metadata": {
    "_cell_guid": "b1076dfc-b9ad-4769-8c92-a6c4dae69d19",
    "_uuid": "8f2839f25d086af736a60e9eeb907d3b93b6e0e5",
    "execution": {
     "iopub.execute_input": "2022-01-14T12:37:57.482439Z",
     "iopub.status.busy": "2022-01-14T12:37:57.481760Z",
     "iopub.status.idle": "2022-01-14T12:37:58.928875Z",
     "shell.execute_reply": "2022-01-14T12:37:58.928431Z",
     "shell.execute_reply.started": "2022-01-14T11:45:52.583246Z"
    },
    "papermill": {
     "duration": 1.473972,
     "end_time": "2022-01-14T12:37:58.929000",
     "exception": false,
     "start_time": "2022-01-14T12:37:57.455028",
     "status": "completed"
    },
    "tags": []
   },
   "outputs": [
    {
     "data": {
      "text/html": [
       "<div>\n",
       "<style scoped>\n",
       "    .dataframe tbody tr th:only-of-type {\n",
       "        vertical-align: middle;\n",
       "    }\n",
       "\n",
       "    .dataframe tbody tr th {\n",
       "        vertical-align: top;\n",
       "    }\n",
       "\n",
       "    .dataframe thead th {\n",
       "        text-align: right;\n",
       "    }\n",
       "</style>\n",
       "<table border=\"1\" class=\"dataframe\">\n",
       "  <thead>\n",
       "    <tr style=\"text-align: right;\">\n",
       "      <th></th>\n",
       "      <th>title</th>\n",
       "      <th>text</th>\n",
       "      <th>subject</th>\n",
       "      <th>date</th>\n",
       "    </tr>\n",
       "  </thead>\n",
       "  <tbody>\n",
       "    <tr>\n",
       "      <th>0</th>\n",
       "      <td>Donald Trump Sends Out Embarrassing New Year’...</td>\n",
       "      <td>Donald Trump just couldn t wish all Americans ...</td>\n",
       "      <td>News</td>\n",
       "      <td>December 31, 2017</td>\n",
       "    </tr>\n",
       "    <tr>\n",
       "      <th>1</th>\n",
       "      <td>Drunk Bragging Trump Staffer Started Russian ...</td>\n",
       "      <td>House Intelligence Committee Chairman Devin Nu...</td>\n",
       "      <td>News</td>\n",
       "      <td>December 31, 2017</td>\n",
       "    </tr>\n",
       "    <tr>\n",
       "      <th>2</th>\n",
       "      <td>Sheriff David Clarke Becomes An Internet Joke...</td>\n",
       "      <td>On Friday, it was revealed that former Milwauk...</td>\n",
       "      <td>News</td>\n",
       "      <td>December 30, 2017</td>\n",
       "    </tr>\n",
       "    <tr>\n",
       "      <th>3</th>\n",
       "      <td>Trump Is So Obsessed He Even Has Obama’s Name...</td>\n",
       "      <td>On Christmas day, Donald Trump announced that ...</td>\n",
       "      <td>News</td>\n",
       "      <td>December 29, 2017</td>\n",
       "    </tr>\n",
       "    <tr>\n",
       "      <th>4</th>\n",
       "      <td>Pope Francis Just Called Out Donald Trump Dur...</td>\n",
       "      <td>Pope Francis used his annual Christmas Day mes...</td>\n",
       "      <td>News</td>\n",
       "      <td>December 25, 2017</td>\n",
       "    </tr>\n",
       "  </tbody>\n",
       "</table>\n",
       "</div>"
      ],
      "text/plain": [
       "                                               title  \\\n",
       "0   Donald Trump Sends Out Embarrassing New Year’...   \n",
       "1   Drunk Bragging Trump Staffer Started Russian ...   \n",
       "2   Sheriff David Clarke Becomes An Internet Joke...   \n",
       "3   Trump Is So Obsessed He Even Has Obama’s Name...   \n",
       "4   Pope Francis Just Called Out Donald Trump Dur...   \n",
       "\n",
       "                                                text subject  \\\n",
       "0  Donald Trump just couldn t wish all Americans ...    News   \n",
       "1  House Intelligence Committee Chairman Devin Nu...    News   \n",
       "2  On Friday, it was revealed that former Milwauk...    News   \n",
       "3  On Christmas day, Donald Trump announced that ...    News   \n",
       "4  Pope Francis used his annual Christmas Day mes...    News   \n",
       "\n",
       "                date  \n",
       "0  December 31, 2017  \n",
       "1  December 31, 2017  \n",
       "2  December 30, 2017  \n",
       "3  December 29, 2017  \n",
       "4  December 25, 2017  "
      ]
     },
     "execution_count": 2,
     "metadata": {},
     "output_type": "execute_result"
    }
   ],
   "source": [
    "fake_news = pd.read_csv(\"../input/fake-and-real-news-dataset/Fake.csv\")\n",
    "fake_news.head()"
   ]
  },
  {
   "cell_type": "code",
   "execution_count": 3,
   "id": "0815d9c5",
   "metadata": {
    "execution": {
     "iopub.execute_input": "2022-01-14T12:37:58.980771Z",
     "iopub.status.busy": "2022-01-14T12:37:58.980247Z",
     "iopub.status.idle": "2022-01-14T12:38:00.135052Z",
     "shell.execute_reply": "2022-01-14T12:38:00.134523Z",
     "shell.execute_reply.started": "2022-01-14T11:45:54.148366Z"
    },
    "papermill": {
     "duration": 1.181786,
     "end_time": "2022-01-14T12:38:00.135187",
     "exception": false,
     "start_time": "2022-01-14T12:37:58.953401",
     "status": "completed"
    },
    "tags": []
   },
   "outputs": [
    {
     "data": {
      "text/html": [
       "<div>\n",
       "<style scoped>\n",
       "    .dataframe tbody tr th:only-of-type {\n",
       "        vertical-align: middle;\n",
       "    }\n",
       "\n",
       "    .dataframe tbody tr th {\n",
       "        vertical-align: top;\n",
       "    }\n",
       "\n",
       "    .dataframe thead th {\n",
       "        text-align: right;\n",
       "    }\n",
       "</style>\n",
       "<table border=\"1\" class=\"dataframe\">\n",
       "  <thead>\n",
       "    <tr style=\"text-align: right;\">\n",
       "      <th></th>\n",
       "      <th>title</th>\n",
       "      <th>text</th>\n",
       "      <th>subject</th>\n",
       "      <th>date</th>\n",
       "    </tr>\n",
       "  </thead>\n",
       "  <tbody>\n",
       "    <tr>\n",
       "      <th>0</th>\n",
       "      <td>As U.S. budget fight looms, Republicans flip t...</td>\n",
       "      <td>WASHINGTON (Reuters) - The head of a conservat...</td>\n",
       "      <td>politicsNews</td>\n",
       "      <td>December 31, 2017</td>\n",
       "    </tr>\n",
       "    <tr>\n",
       "      <th>1</th>\n",
       "      <td>U.S. military to accept transgender recruits o...</td>\n",
       "      <td>WASHINGTON (Reuters) - Transgender people will...</td>\n",
       "      <td>politicsNews</td>\n",
       "      <td>December 29, 2017</td>\n",
       "    </tr>\n",
       "    <tr>\n",
       "      <th>2</th>\n",
       "      <td>Senior U.S. Republican senator: 'Let Mr. Muell...</td>\n",
       "      <td>WASHINGTON (Reuters) - The special counsel inv...</td>\n",
       "      <td>politicsNews</td>\n",
       "      <td>December 31, 2017</td>\n",
       "    </tr>\n",
       "    <tr>\n",
       "      <th>3</th>\n",
       "      <td>FBI Russia probe helped by Australian diplomat...</td>\n",
       "      <td>WASHINGTON (Reuters) - Trump campaign adviser ...</td>\n",
       "      <td>politicsNews</td>\n",
       "      <td>December 30, 2017</td>\n",
       "    </tr>\n",
       "    <tr>\n",
       "      <th>4</th>\n",
       "      <td>Trump wants Postal Service to charge 'much mor...</td>\n",
       "      <td>SEATTLE/WASHINGTON (Reuters) - President Donal...</td>\n",
       "      <td>politicsNews</td>\n",
       "      <td>December 29, 2017</td>\n",
       "    </tr>\n",
       "  </tbody>\n",
       "</table>\n",
       "</div>"
      ],
      "text/plain": [
       "                                               title  \\\n",
       "0  As U.S. budget fight looms, Republicans flip t...   \n",
       "1  U.S. military to accept transgender recruits o...   \n",
       "2  Senior U.S. Republican senator: 'Let Mr. Muell...   \n",
       "3  FBI Russia probe helped by Australian diplomat...   \n",
       "4  Trump wants Postal Service to charge 'much mor...   \n",
       "\n",
       "                                                text       subject  \\\n",
       "0  WASHINGTON (Reuters) - The head of a conservat...  politicsNews   \n",
       "1  WASHINGTON (Reuters) - Transgender people will...  politicsNews   \n",
       "2  WASHINGTON (Reuters) - The special counsel inv...  politicsNews   \n",
       "3  WASHINGTON (Reuters) - Trump campaign adviser ...  politicsNews   \n",
       "4  SEATTLE/WASHINGTON (Reuters) - President Donal...  politicsNews   \n",
       "\n",
       "                 date  \n",
       "0  December 31, 2017   \n",
       "1  December 29, 2017   \n",
       "2  December 31, 2017   \n",
       "3  December 30, 2017   \n",
       "4  December 29, 2017   "
      ]
     },
     "execution_count": 3,
     "metadata": {},
     "output_type": "execute_result"
    }
   ],
   "source": [
    "true_news = pd.read_csv(\"../input/fake-and-real-news-dataset/True.csv\")\n",
    "true_news.head()"
   ]
  },
  {
   "cell_type": "code",
   "execution_count": 4,
   "id": "875d64b6",
   "metadata": {
    "execution": {
     "iopub.execute_input": "2022-01-14T12:38:00.198263Z",
     "iopub.status.busy": "2022-01-14T12:38:00.197307Z",
     "iopub.status.idle": "2022-01-14T12:38:00.202174Z",
     "shell.execute_reply": "2022-01-14T12:38:00.201426Z",
     "shell.execute_reply.started": "2022-01-14T11:45:55.312315Z"
    },
    "papermill": {
     "duration": 0.042895,
     "end_time": "2022-01-14T12:38:00.202290",
     "exception": false,
     "start_time": "2022-01-14T12:38:00.159395",
     "status": "completed"
    },
    "tags": []
   },
   "outputs": [
    {
     "data": {
      "text/html": [
       "<div>\n",
       "<style scoped>\n",
       "    .dataframe tbody tr th:only-of-type {\n",
       "        vertical-align: middle;\n",
       "    }\n",
       "\n",
       "    .dataframe tbody tr th {\n",
       "        vertical-align: top;\n",
       "    }\n",
       "\n",
       "    .dataframe thead th {\n",
       "        text-align: right;\n",
       "    }\n",
       "</style>\n",
       "<table border=\"1\" class=\"dataframe\">\n",
       "  <thead>\n",
       "    <tr style=\"text-align: right;\">\n",
       "      <th></th>\n",
       "      <th>title</th>\n",
       "      <th>text</th>\n",
       "      <th>subject</th>\n",
       "      <th>date</th>\n",
       "      <th>fake</th>\n",
       "    </tr>\n",
       "  </thead>\n",
       "  <tbody>\n",
       "    <tr>\n",
       "      <th>0</th>\n",
       "      <td>Donald Trump Sends Out Embarrassing New Year’...</td>\n",
       "      <td>Donald Trump just couldn t wish all Americans ...</td>\n",
       "      <td>News</td>\n",
       "      <td>December 31, 2017</td>\n",
       "      <td>1</td>\n",
       "    </tr>\n",
       "    <tr>\n",
       "      <th>1</th>\n",
       "      <td>Drunk Bragging Trump Staffer Started Russian ...</td>\n",
       "      <td>House Intelligence Committee Chairman Devin Nu...</td>\n",
       "      <td>News</td>\n",
       "      <td>December 31, 2017</td>\n",
       "      <td>1</td>\n",
       "    </tr>\n",
       "    <tr>\n",
       "      <th>2</th>\n",
       "      <td>Sheriff David Clarke Becomes An Internet Joke...</td>\n",
       "      <td>On Friday, it was revealed that former Milwauk...</td>\n",
       "      <td>News</td>\n",
       "      <td>December 30, 2017</td>\n",
       "      <td>1</td>\n",
       "    </tr>\n",
       "    <tr>\n",
       "      <th>3</th>\n",
       "      <td>Trump Is So Obsessed He Even Has Obama’s Name...</td>\n",
       "      <td>On Christmas day, Donald Trump announced that ...</td>\n",
       "      <td>News</td>\n",
       "      <td>December 29, 2017</td>\n",
       "      <td>1</td>\n",
       "    </tr>\n",
       "    <tr>\n",
       "      <th>4</th>\n",
       "      <td>Pope Francis Just Called Out Donald Trump Dur...</td>\n",
       "      <td>Pope Francis used his annual Christmas Day mes...</td>\n",
       "      <td>News</td>\n",
       "      <td>December 25, 2017</td>\n",
       "      <td>1</td>\n",
       "    </tr>\n",
       "  </tbody>\n",
       "</table>\n",
       "</div>"
      ],
      "text/plain": [
       "                                               title  \\\n",
       "0   Donald Trump Sends Out Embarrassing New Year’...   \n",
       "1   Drunk Bragging Trump Staffer Started Russian ...   \n",
       "2   Sheriff David Clarke Becomes An Internet Joke...   \n",
       "3   Trump Is So Obsessed He Even Has Obama’s Name...   \n",
       "4   Pope Francis Just Called Out Donald Trump Dur...   \n",
       "\n",
       "                                                text subject  \\\n",
       "0  Donald Trump just couldn t wish all Americans ...    News   \n",
       "1  House Intelligence Committee Chairman Devin Nu...    News   \n",
       "2  On Friday, it was revealed that former Milwauk...    News   \n",
       "3  On Christmas day, Donald Trump announced that ...    News   \n",
       "4  Pope Francis used his annual Christmas Day mes...    News   \n",
       "\n",
       "                date  fake  \n",
       "0  December 31, 2017     1  \n",
       "1  December 31, 2017     1  \n",
       "2  December 30, 2017     1  \n",
       "3  December 29, 2017     1  \n",
       "4  December 25, 2017     1  "
      ]
     },
     "execution_count": 4,
     "metadata": {},
     "output_type": "execute_result"
    }
   ],
   "source": [
    "fake_news['fake']=1\n",
    "fake_news.head()"
   ]
  },
  {
   "cell_type": "code",
   "execution_count": 5,
   "id": "05277282",
   "metadata": {
    "execution": {
     "iopub.execute_input": "2022-01-14T12:38:00.261475Z",
     "iopub.status.busy": "2022-01-14T12:38:00.260803Z",
     "iopub.status.idle": "2022-01-14T12:38:00.264006Z",
     "shell.execute_reply": "2022-01-14T12:38:00.264416Z",
     "shell.execute_reply.started": "2022-01-14T11:45:55.327114Z"
    },
    "papermill": {
     "duration": 0.037916,
     "end_time": "2022-01-14T12:38:00.264539",
     "exception": false,
     "start_time": "2022-01-14T12:38:00.226623",
     "status": "completed"
    },
    "tags": []
   },
   "outputs": [
    {
     "data": {
      "text/html": [
       "<div>\n",
       "<style scoped>\n",
       "    .dataframe tbody tr th:only-of-type {\n",
       "        vertical-align: middle;\n",
       "    }\n",
       "\n",
       "    .dataframe tbody tr th {\n",
       "        vertical-align: top;\n",
       "    }\n",
       "\n",
       "    .dataframe thead th {\n",
       "        text-align: right;\n",
       "    }\n",
       "</style>\n",
       "<table border=\"1\" class=\"dataframe\">\n",
       "  <thead>\n",
       "    <tr style=\"text-align: right;\">\n",
       "      <th></th>\n",
       "      <th>title</th>\n",
       "      <th>text</th>\n",
       "      <th>subject</th>\n",
       "      <th>date</th>\n",
       "      <th>fake</th>\n",
       "    </tr>\n",
       "  </thead>\n",
       "  <tbody>\n",
       "    <tr>\n",
       "      <th>0</th>\n",
       "      <td>As U.S. budget fight looms, Republicans flip t...</td>\n",
       "      <td>WASHINGTON (Reuters) - The head of a conservat...</td>\n",
       "      <td>politicsNews</td>\n",
       "      <td>December 31, 2017</td>\n",
       "      <td>0</td>\n",
       "    </tr>\n",
       "    <tr>\n",
       "      <th>1</th>\n",
       "      <td>U.S. military to accept transgender recruits o...</td>\n",
       "      <td>WASHINGTON (Reuters) - Transgender people will...</td>\n",
       "      <td>politicsNews</td>\n",
       "      <td>December 29, 2017</td>\n",
       "      <td>0</td>\n",
       "    </tr>\n",
       "    <tr>\n",
       "      <th>2</th>\n",
       "      <td>Senior U.S. Republican senator: 'Let Mr. Muell...</td>\n",
       "      <td>WASHINGTON (Reuters) - The special counsel inv...</td>\n",
       "      <td>politicsNews</td>\n",
       "      <td>December 31, 2017</td>\n",
       "      <td>0</td>\n",
       "    </tr>\n",
       "    <tr>\n",
       "      <th>3</th>\n",
       "      <td>FBI Russia probe helped by Australian diplomat...</td>\n",
       "      <td>WASHINGTON (Reuters) - Trump campaign adviser ...</td>\n",
       "      <td>politicsNews</td>\n",
       "      <td>December 30, 2017</td>\n",
       "      <td>0</td>\n",
       "    </tr>\n",
       "    <tr>\n",
       "      <th>4</th>\n",
       "      <td>Trump wants Postal Service to charge 'much mor...</td>\n",
       "      <td>SEATTLE/WASHINGTON (Reuters) - President Donal...</td>\n",
       "      <td>politicsNews</td>\n",
       "      <td>December 29, 2017</td>\n",
       "      <td>0</td>\n",
       "    </tr>\n",
       "  </tbody>\n",
       "</table>\n",
       "</div>"
      ],
      "text/plain": [
       "                                               title  \\\n",
       "0  As U.S. budget fight looms, Republicans flip t...   \n",
       "1  U.S. military to accept transgender recruits o...   \n",
       "2  Senior U.S. Republican senator: 'Let Mr. Muell...   \n",
       "3  FBI Russia probe helped by Australian diplomat...   \n",
       "4  Trump wants Postal Service to charge 'much mor...   \n",
       "\n",
       "                                                text       subject  \\\n",
       "0  WASHINGTON (Reuters) - The head of a conservat...  politicsNews   \n",
       "1  WASHINGTON (Reuters) - Transgender people will...  politicsNews   \n",
       "2  WASHINGTON (Reuters) - The special counsel inv...  politicsNews   \n",
       "3  WASHINGTON (Reuters) - Trump campaign adviser ...  politicsNews   \n",
       "4  SEATTLE/WASHINGTON (Reuters) - President Donal...  politicsNews   \n",
       "\n",
       "                 date  fake  \n",
       "0  December 31, 2017      0  \n",
       "1  December 29, 2017      0  \n",
       "2  December 31, 2017      0  \n",
       "3  December 30, 2017      0  \n",
       "4  December 29, 2017      0  "
      ]
     },
     "execution_count": 5,
     "metadata": {},
     "output_type": "execute_result"
    }
   ],
   "source": [
    "true_news['fake'] = 0\n",
    "true_news.head()"
   ]
  },
  {
   "cell_type": "code",
   "execution_count": 6,
   "id": "c425cf1a",
   "metadata": {
    "execution": {
     "iopub.execute_input": "2022-01-14T12:38:00.317676Z",
     "iopub.status.busy": "2022-01-14T12:38:00.316965Z",
     "iopub.status.idle": "2022-01-14T12:38:00.335680Z",
     "shell.execute_reply": "2022-01-14T12:38:00.335261Z",
     "shell.execute_reply.started": "2022-01-14T11:45:55.350438Z"
    },
    "papermill": {
     "duration": 0.046889,
     "end_time": "2022-01-14T12:38:00.335782",
     "exception": false,
     "start_time": "2022-01-14T12:38:00.288893",
     "status": "completed"
    },
    "tags": []
   },
   "outputs": [
    {
     "data": {
      "text/html": [
       "<div>\n",
       "<style scoped>\n",
       "    .dataframe tbody tr th:only-of-type {\n",
       "        vertical-align: middle;\n",
       "    }\n",
       "\n",
       "    .dataframe tbody tr th {\n",
       "        vertical-align: top;\n",
       "    }\n",
       "\n",
       "    .dataframe thead th {\n",
       "        text-align: right;\n",
       "    }\n",
       "</style>\n",
       "<table border=\"1\" class=\"dataframe\">\n",
       "  <thead>\n",
       "    <tr style=\"text-align: right;\">\n",
       "      <th></th>\n",
       "      <th>title</th>\n",
       "      <th>text</th>\n",
       "      <th>subject</th>\n",
       "      <th>date</th>\n",
       "      <th>fake</th>\n",
       "    </tr>\n",
       "  </thead>\n",
       "  <tbody>\n",
       "    <tr>\n",
       "      <th>11694</th>\n",
       "      <td>Philippine police chief defends deadly drug wa...</td>\n",
       "      <td>MANILA (Reuters) - The police chief of the Phi...</td>\n",
       "      <td>worldnews</td>\n",
       "      <td>December 20, 2017</td>\n",
       "      <td>0</td>\n",
       "    </tr>\n",
       "    <tr>\n",
       "      <th>10911</th>\n",
       "      <td>Pennsylvania $2 bln budget gap is 'time bomb':...</td>\n",
       "      <td>NEW YORK (Reuters) - Pennsylvania’s $2 billion...</td>\n",
       "      <td>politicsNews</td>\n",
       "      <td>February 9, 2016</td>\n",
       "      <td>0</td>\n",
       "    </tr>\n",
       "    <tr>\n",
       "      <th>7805</th>\n",
       "      <td>Trump pledges strong U.S. ties with India if e...</td>\n",
       "      <td>EDISON, N.J. (Reuters) - U.S. Republican presi...</td>\n",
       "      <td>politicsNews</td>\n",
       "      <td>October 16, 2016</td>\n",
       "      <td>0</td>\n",
       "    </tr>\n",
       "    <tr>\n",
       "      <th>2650</th>\n",
       "      <td>CNN Just Went After Trump For His Latest Melt...</td>\n",
       "      <td>Donald Trump has been on an insane Twitter ram...</td>\n",
       "      <td>News</td>\n",
       "      <td>February 6, 2017</td>\n",
       "      <td>1</td>\n",
       "    </tr>\n",
       "    <tr>\n",
       "      <th>2435</th>\n",
       "      <td>Trump says Senate should have passed healthcar...</td>\n",
       "      <td>BRENTWOOD, N.Y. (Reuters) - U.S. President Don...</td>\n",
       "      <td>politicsNews</td>\n",
       "      <td>July 28, 2017</td>\n",
       "      <td>0</td>\n",
       "    </tr>\n",
       "  </tbody>\n",
       "</table>\n",
       "</div>"
      ],
      "text/plain": [
       "                                                   title  \\\n",
       "11694  Philippine police chief defends deadly drug wa...   \n",
       "10911  Pennsylvania $2 bln budget gap is 'time bomb':...   \n",
       "7805   Trump pledges strong U.S. ties with India if e...   \n",
       "2650    CNN Just Went After Trump For His Latest Melt...   \n",
       "2435   Trump says Senate should have passed healthcar...   \n",
       "\n",
       "                                                    text       subject  \\\n",
       "11694  MANILA (Reuters) - The police chief of the Phi...     worldnews   \n",
       "10911  NEW YORK (Reuters) - Pennsylvania’s $2 billion...  politicsNews   \n",
       "7805   EDISON, N.J. (Reuters) - U.S. Republican presi...  politicsNews   \n",
       "2650   Donald Trump has been on an insane Twitter ram...          News   \n",
       "2435   BRENTWOOD, N.Y. (Reuters) - U.S. President Don...  politicsNews   \n",
       "\n",
       "                     date  fake  \n",
       "11694  December 20, 2017      0  \n",
       "10911   February 9, 2016      0  \n",
       "7805    October 16, 2016      0  \n",
       "2650     February 6, 2017     1  \n",
       "2435       July 28, 2017      0  "
      ]
     },
     "execution_count": 6,
     "metadata": {},
     "output_type": "execute_result"
    }
   ],
   "source": [
    "news = pd.concat([fake_news, true_news])\n",
    "news.sample(5)"
   ]
  },
  {
   "cell_type": "code",
   "execution_count": 7,
   "id": "67381879",
   "metadata": {
    "execution": {
     "iopub.execute_input": "2022-01-14T12:38:00.409107Z",
     "iopub.status.busy": "2022-01-14T12:38:00.408319Z",
     "iopub.status.idle": "2022-01-14T12:38:00.414743Z",
     "shell.execute_reply": "2022-01-14T12:38:00.414325Z",
     "shell.execute_reply.started": "2022-01-14T11:45:55.376420Z"
    },
    "papermill": {
     "duration": 0.053742,
     "end_time": "2022-01-14T12:38:00.414844",
     "exception": false,
     "start_time": "2022-01-14T12:38:00.361102",
     "status": "completed"
    },
    "tags": []
   },
   "outputs": [
    {
     "data": {
      "text/plain": [
       "title      0\n",
       "text       0\n",
       "subject    0\n",
       "date       0\n",
       "fake       0\n",
       "dtype: int64"
      ]
     },
     "execution_count": 7,
     "metadata": {},
     "output_type": "execute_result"
    }
   ],
   "source": [
    "news.isna().sum()"
   ]
  },
  {
   "cell_type": "code",
   "execution_count": 8,
   "id": "b4e53842",
   "metadata": {
    "execution": {
     "iopub.execute_input": "2022-01-14T12:38:00.477164Z",
     "iopub.status.busy": "2022-01-14T12:38:00.476422Z",
     "iopub.status.idle": "2022-01-14T12:38:00.724433Z",
     "shell.execute_reply": "2022-01-14T12:38:00.724834Z",
     "shell.execute_reply.started": "2022-01-14T11:45:55.408334Z"
    },
    "papermill": {
     "duration": 0.284112,
     "end_time": "2022-01-14T12:38:00.725030",
     "exception": false,
     "start_time": "2022-01-14T12:38:00.440918",
     "status": "completed"
    },
    "tags": []
   },
   "outputs": [
    {
     "data": {
      "text/html": [
       "<div>\n",
       "<style scoped>\n",
       "    .dataframe tbody tr th:only-of-type {\n",
       "        vertical-align: middle;\n",
       "    }\n",
       "\n",
       "    .dataframe tbody tr th {\n",
       "        vertical-align: top;\n",
       "    }\n",
       "\n",
       "    .dataframe thead th {\n",
       "        text-align: right;\n",
       "    }\n",
       "</style>\n",
       "<table border=\"1\" class=\"dataframe\">\n",
       "  <thead>\n",
       "    <tr style=\"text-align: right;\">\n",
       "      <th></th>\n",
       "      <th>title</th>\n",
       "      <th>text</th>\n",
       "      <th>subject</th>\n",
       "      <th>date</th>\n",
       "      <th>fake</th>\n",
       "      <th>Year</th>\n",
       "      <th>Month</th>\n",
       "    </tr>\n",
       "  </thead>\n",
       "  <tbody>\n",
       "    <tr>\n",
       "      <th>0</th>\n",
       "      <td>Donald Trump Sends Out Embarrassing New Year’...</td>\n",
       "      <td>Donald Trump just couldn t wish all Americans ...</td>\n",
       "      <td>News</td>\n",
       "      <td>2017-12-31</td>\n",
       "      <td>1</td>\n",
       "      <td>2017.0</td>\n",
       "      <td>12.0</td>\n",
       "    </tr>\n",
       "    <tr>\n",
       "      <th>1</th>\n",
       "      <td>Drunk Bragging Trump Staffer Started Russian ...</td>\n",
       "      <td>House Intelligence Committee Chairman Devin Nu...</td>\n",
       "      <td>News</td>\n",
       "      <td>2017-12-31</td>\n",
       "      <td>1</td>\n",
       "      <td>2017.0</td>\n",
       "      <td>12.0</td>\n",
       "    </tr>\n",
       "    <tr>\n",
       "      <th>2</th>\n",
       "      <td>Sheriff David Clarke Becomes An Internet Joke...</td>\n",
       "      <td>On Friday, it was revealed that former Milwauk...</td>\n",
       "      <td>News</td>\n",
       "      <td>2017-12-30</td>\n",
       "      <td>1</td>\n",
       "      <td>2017.0</td>\n",
       "      <td>12.0</td>\n",
       "    </tr>\n",
       "    <tr>\n",
       "      <th>3</th>\n",
       "      <td>Trump Is So Obsessed He Even Has Obama’s Name...</td>\n",
       "      <td>On Christmas day, Donald Trump announced that ...</td>\n",
       "      <td>News</td>\n",
       "      <td>2017-12-29</td>\n",
       "      <td>1</td>\n",
       "      <td>2017.0</td>\n",
       "      <td>12.0</td>\n",
       "    </tr>\n",
       "    <tr>\n",
       "      <th>4</th>\n",
       "      <td>Pope Francis Just Called Out Donald Trump Dur...</td>\n",
       "      <td>Pope Francis used his annual Christmas Day mes...</td>\n",
       "      <td>News</td>\n",
       "      <td>2017-12-25</td>\n",
       "      <td>1</td>\n",
       "      <td>2017.0</td>\n",
       "      <td>12.0</td>\n",
       "    </tr>\n",
       "  </tbody>\n",
       "</table>\n",
       "</div>"
      ],
      "text/plain": [
       "                                               title  \\\n",
       "0   Donald Trump Sends Out Embarrassing New Year’...   \n",
       "1   Drunk Bragging Trump Staffer Started Russian ...   \n",
       "2   Sheriff David Clarke Becomes An Internet Joke...   \n",
       "3   Trump Is So Obsessed He Even Has Obama’s Name...   \n",
       "4   Pope Francis Just Called Out Donald Trump Dur...   \n",
       "\n",
       "                                                text subject       date  fake  \\\n",
       "0  Donald Trump just couldn t wish all Americans ...    News 2017-12-31     1   \n",
       "1  House Intelligence Committee Chairman Devin Nu...    News 2017-12-31     1   \n",
       "2  On Friday, it was revealed that former Milwauk...    News 2017-12-30     1   \n",
       "3  On Christmas day, Donald Trump announced that ...    News 2017-12-29     1   \n",
       "4  Pope Francis used his annual Christmas Day mes...    News 2017-12-25     1   \n",
       "\n",
       "     Year  Month  \n",
       "0  2017.0   12.0  \n",
       "1  2017.0   12.0  \n",
       "2  2017.0   12.0  \n",
       "3  2017.0   12.0  \n",
       "4  2017.0   12.0  "
      ]
     },
     "execution_count": 8,
     "metadata": {},
     "output_type": "execute_result"
    }
   ],
   "source": [
    "news['date'] = pd.to_datetime(news['date'], errors='coerce')\n",
    "news['Year'] = news['date'].dt.year\n",
    "news['Month'] = news['date'].dt.month\n",
    "\n",
    "news.head()"
   ]
  },
  {
   "cell_type": "code",
   "execution_count": 9,
   "id": "05e0cf37",
   "metadata": {
    "execution": {
     "iopub.execute_input": "2022-01-14T12:38:00.934132Z",
     "iopub.status.busy": "2022-01-14T12:38:00.933191Z",
     "iopub.status.idle": "2022-01-14T12:38:00.959112Z",
     "shell.execute_reply": "2022-01-14T12:38:00.959842Z",
     "shell.execute_reply.started": "2022-01-14T11:45:55.667234Z"
    },
    "papermill": {
     "duration": 0.2088,
     "end_time": "2022-01-14T12:38:00.960167",
     "exception": false,
     "start_time": "2022-01-14T12:38:00.751367",
     "status": "completed"
    },
    "tags": []
   },
   "outputs": [
    {
     "data": {
      "text/html": [
       "<div>\n",
       "<style scoped>\n",
       "    .dataframe tbody tr th:only-of-type {\n",
       "        vertical-align: middle;\n",
       "    }\n",
       "\n",
       "    .dataframe tbody tr th {\n",
       "        vertical-align: top;\n",
       "    }\n",
       "\n",
       "    .dataframe thead th {\n",
       "        text-align: right;\n",
       "    }\n",
       "</style>\n",
       "<table border=\"1\" class=\"dataframe\">\n",
       "  <thead>\n",
       "    <tr style=\"text-align: right;\">\n",
       "      <th></th>\n",
       "      <th>text</th>\n",
       "      <th>subject</th>\n",
       "      <th>date</th>\n",
       "      <th>fake</th>\n",
       "      <th>Year</th>\n",
       "      <th>Month</th>\n",
       "    </tr>\n",
       "  </thead>\n",
       "  <tbody>\n",
       "    <tr>\n",
       "      <th>0</th>\n",
       "      <td>Donald Trump Sends Out Embarrassing New Year’...</td>\n",
       "      <td>News</td>\n",
       "      <td>2017-12-31</td>\n",
       "      <td>1</td>\n",
       "      <td>2017.0</td>\n",
       "      <td>12.0</td>\n",
       "    </tr>\n",
       "    <tr>\n",
       "      <th>1</th>\n",
       "      <td>Drunk Bragging Trump Staffer Started Russian ...</td>\n",
       "      <td>News</td>\n",
       "      <td>2017-12-31</td>\n",
       "      <td>1</td>\n",
       "      <td>2017.0</td>\n",
       "      <td>12.0</td>\n",
       "    </tr>\n",
       "    <tr>\n",
       "      <th>2</th>\n",
       "      <td>Sheriff David Clarke Becomes An Internet Joke...</td>\n",
       "      <td>News</td>\n",
       "      <td>2017-12-30</td>\n",
       "      <td>1</td>\n",
       "      <td>2017.0</td>\n",
       "      <td>12.0</td>\n",
       "    </tr>\n",
       "    <tr>\n",
       "      <th>3</th>\n",
       "      <td>Trump Is So Obsessed He Even Has Obama’s Name...</td>\n",
       "      <td>News</td>\n",
       "      <td>2017-12-29</td>\n",
       "      <td>1</td>\n",
       "      <td>2017.0</td>\n",
       "      <td>12.0</td>\n",
       "    </tr>\n",
       "    <tr>\n",
       "      <th>4</th>\n",
       "      <td>Pope Francis Just Called Out Donald Trump Dur...</td>\n",
       "      <td>News</td>\n",
       "      <td>2017-12-25</td>\n",
       "      <td>1</td>\n",
       "      <td>2017.0</td>\n",
       "      <td>12.0</td>\n",
       "    </tr>\n",
       "  </tbody>\n",
       "</table>\n",
       "</div>"
      ],
      "text/plain": [
       "                                                text subject       date  fake  \\\n",
       "0   Donald Trump Sends Out Embarrassing New Year’...    News 2017-12-31     1   \n",
       "1   Drunk Bragging Trump Staffer Started Russian ...    News 2017-12-31     1   \n",
       "2   Sheriff David Clarke Becomes An Internet Joke...    News 2017-12-30     1   \n",
       "3   Trump Is So Obsessed He Even Has Obama’s Name...    News 2017-12-29     1   \n",
       "4   Pope Francis Just Called Out Donald Trump Dur...    News 2017-12-25     1   \n",
       "\n",
       "     Year  Month  \n",
       "0  2017.0   12.0  \n",
       "1  2017.0   12.0  \n",
       "2  2017.0   12.0  \n",
       "3  2017.0   12.0  \n",
       "4  2017.0   12.0  "
      ]
     },
     "execution_count": 9,
     "metadata": {},
     "output_type": "execute_result"
    }
   ],
   "source": [
    "news['text'] = news['title'] + news['text']\n",
    "news.drop(labels=['title'], axis=1,inplace=True)\n",
    "news.head()"
   ]
  },
  {
   "cell_type": "code",
   "execution_count": 10,
   "id": "0fb8112e",
   "metadata": {
    "execution": {
     "iopub.execute_input": "2022-01-14T12:38:01.072173Z",
     "iopub.status.busy": "2022-01-14T12:38:01.071242Z",
     "iopub.status.idle": "2022-01-14T12:38:01.079727Z",
     "shell.execute_reply": "2022-01-14T12:38:01.080475Z",
     "shell.execute_reply.started": "2022-01-14T11:45:55.828422Z"
    },
    "papermill": {
     "duration": 0.068496,
     "end_time": "2022-01-14T12:38:01.080675",
     "exception": false,
     "start_time": "2022-01-14T12:38:01.012179",
     "status": "completed"
    },
    "tags": []
   },
   "outputs": [
    {
     "data": {
      "text/html": [
       "<div>\n",
       "<style scoped>\n",
       "    .dataframe tbody tr th:only-of-type {\n",
       "        vertical-align: middle;\n",
       "    }\n",
       "\n",
       "    .dataframe tbody tr th {\n",
       "        vertical-align: top;\n",
       "    }\n",
       "\n",
       "    .dataframe thead th {\n",
       "        text-align: right;\n",
       "    }\n",
       "</style>\n",
       "<table border=\"1\" class=\"dataframe\">\n",
       "  <thead>\n",
       "    <tr style=\"text-align: right;\">\n",
       "      <th></th>\n",
       "      <th>text</th>\n",
       "      <th>fake</th>\n",
       "    </tr>\n",
       "  </thead>\n",
       "  <tbody>\n",
       "    <tr>\n",
       "      <th>0</th>\n",
       "      <td>Donald Trump Sends Out Embarrassing New Year’...</td>\n",
       "      <td>1</td>\n",
       "    </tr>\n",
       "    <tr>\n",
       "      <th>1</th>\n",
       "      <td>Drunk Bragging Trump Staffer Started Russian ...</td>\n",
       "      <td>1</td>\n",
       "    </tr>\n",
       "    <tr>\n",
       "      <th>2</th>\n",
       "      <td>Sheriff David Clarke Becomes An Internet Joke...</td>\n",
       "      <td>1</td>\n",
       "    </tr>\n",
       "    <tr>\n",
       "      <th>3</th>\n",
       "      <td>Trump Is So Obsessed He Even Has Obama’s Name...</td>\n",
       "      <td>1</td>\n",
       "    </tr>\n",
       "    <tr>\n",
       "      <th>4</th>\n",
       "      <td>Pope Francis Just Called Out Donald Trump Dur...</td>\n",
       "      <td>1</td>\n",
       "    </tr>\n",
       "  </tbody>\n",
       "</table>\n",
       "</div>"
      ],
      "text/plain": [
       "                                                text  fake\n",
       "0   Donald Trump Sends Out Embarrassing New Year’...     1\n",
       "1   Drunk Bragging Trump Staffer Started Russian ...     1\n",
       "2   Sheriff David Clarke Becomes An Internet Joke...     1\n",
       "3   Trump Is So Obsessed He Even Has Obama’s Name...     1\n",
       "4   Pope Francis Just Called Out Donald Trump Dur...     1"
      ]
     },
     "execution_count": 10,
     "metadata": {},
     "output_type": "execute_result"
    }
   ],
   "source": [
    "news.drop(labels=['subject','date', 'Year','Month'], axis=1, inplace=True)\n",
    "news.head()"
   ]
  },
  {
   "cell_type": "code",
   "execution_count": 11,
   "id": "49b4dc70",
   "metadata": {
    "execution": {
     "iopub.execute_input": "2022-01-14T12:38:01.188455Z",
     "iopub.status.busy": "2022-01-14T12:38:01.186450Z",
     "iopub.status.idle": "2022-01-14T12:38:01.208588Z",
     "shell.execute_reply": "2022-01-14T12:38:01.212620Z",
     "shell.execute_reply.started": "2022-01-14T11:45:55.845157Z"
    },
    "papermill": {
     "duration": 0.084619,
     "end_time": "2022-01-14T12:38:01.212828",
     "exception": false,
     "start_time": "2022-01-14T12:38:01.128209",
     "status": "completed"
    },
    "tags": []
   },
   "outputs": [
    {
     "data": {
      "text/html": [
       "<div>\n",
       "<style scoped>\n",
       "    .dataframe tbody tr th:only-of-type {\n",
       "        vertical-align: middle;\n",
       "    }\n",
       "\n",
       "    .dataframe tbody tr th {\n",
       "        vertical-align: top;\n",
       "    }\n",
       "\n",
       "    .dataframe thead th {\n",
       "        text-align: right;\n",
       "    }\n",
       "</style>\n",
       "<table border=\"1\" class=\"dataframe\">\n",
       "  <thead>\n",
       "    <tr style=\"text-align: right;\">\n",
       "      <th></th>\n",
       "      <th>text</th>\n",
       "      <th>fake</th>\n",
       "    </tr>\n",
       "  </thead>\n",
       "  <tbody>\n",
       "    <tr>\n",
       "      <th>16655</th>\n",
       "      <td>Poland's PM Szydlo to reshuffle cabinet soonWA...</td>\n",
       "      <td>0</td>\n",
       "    </tr>\n",
       "    <tr>\n",
       "      <th>19321</th>\n",
       "      <td>NICOLE KIDMAN BREAKS RANKS With Hollywood Left...</td>\n",
       "      <td>1</td>\n",
       "    </tr>\n",
       "    <tr>\n",
       "      <th>17069</th>\n",
       "      <td>BREAKING: Putin Tramples Obama’s Imaginary Red...</td>\n",
       "      <td>1</td>\n",
       "    </tr>\n",
       "    <tr>\n",
       "      <th>8270</th>\n",
       "      <td>Clinton voices concern about Russian interfere...</td>\n",
       "      <td>0</td>\n",
       "    </tr>\n",
       "    <tr>\n",
       "      <th>2329</th>\n",
       "      <td>Factbox: Highlights of Trump's calls with lead...</td>\n",
       "      <td>0</td>\n",
       "    </tr>\n",
       "  </tbody>\n",
       "</table>\n",
       "</div>"
      ],
      "text/plain": [
       "                                                    text  fake\n",
       "16655  Poland's PM Szydlo to reshuffle cabinet soonWA...     0\n",
       "19321  NICOLE KIDMAN BREAKS RANKS With Hollywood Left...     1\n",
       "17069  BREAKING: Putin Tramples Obama’s Imaginary Red...     1\n",
       "8270   Clinton voices concern about Russian interfere...     0\n",
       "2329   Factbox: Highlights of Trump's calls with lead...     0"
      ]
     },
     "execution_count": 11,
     "metadata": {},
     "output_type": "execute_result"
    }
   ],
   "source": [
    "news = news.sample(frac=1)\n",
    "news.head()"
   ]
  },
  {
   "cell_type": "code",
   "execution_count": 12,
   "id": "73fb7cdd",
   "metadata": {
    "execution": {
     "iopub.execute_input": "2022-01-14T12:38:01.311474Z",
     "iopub.status.busy": "2022-01-14T12:38:01.309762Z",
     "iopub.status.idle": "2022-01-14T12:38:01.475442Z",
     "shell.execute_reply": "2022-01-14T12:38:01.476146Z",
     "shell.execute_reply.started": "2022-01-14T11:45:55.862751Z"
    },
    "papermill": {
     "duration": 0.217326,
     "end_time": "2022-01-14T12:38:01.476354",
     "exception": false,
     "start_time": "2022-01-14T12:38:01.259028",
     "status": "completed"
    },
    "tags": []
   },
   "outputs": [],
   "source": [
    "from sklearn.model_selection import train_test_split\n",
    "\n",
    "train_sentences, val_sentences, train_labels, val_labels=train_test_split(news['text'].to_numpy(),\n",
    "                                                                            news['fake'].to_numpy(),\n",
    "                                                                            test_size=0.25,\n",
    "                                                                            random_state=42)"
   ]
  },
  {
   "cell_type": "code",
   "execution_count": 13,
   "id": "f64c90ff",
   "metadata": {
    "execution": {
     "iopub.execute_input": "2022-01-14T12:38:01.572345Z",
     "iopub.status.busy": "2022-01-14T12:38:01.571525Z",
     "iopub.status.idle": "2022-01-14T12:38:04.817243Z",
     "shell.execute_reply": "2022-01-14T12:38:04.816438Z",
     "shell.execute_reply.started": "2022-01-14T11:45:56.004857Z"
    },
    "papermill": {
     "duration": 3.295766,
     "end_time": "2022-01-14T12:38:04.817393",
     "exception": false,
     "start_time": "2022-01-14T12:38:01.521627",
     "status": "completed"
    },
    "tags": []
   },
   "outputs": [
    {
     "name": "stderr",
     "output_type": "stream",
     "text": [
      "2022-01-14 12:38:02.602188: I tensorflow/stream_executor/cuda/cuda_gpu_executor.cc:937] successful NUMA node read from SysFS had negative value (-1), but there must be at least one NUMA node, so returning NUMA node zero\n",
      "2022-01-14 12:38:02.707704: I tensorflow/stream_executor/cuda/cuda_gpu_executor.cc:937] successful NUMA node read from SysFS had negative value (-1), but there must be at least one NUMA node, so returning NUMA node zero\n",
      "2022-01-14 12:38:02.708428: I tensorflow/stream_executor/cuda/cuda_gpu_executor.cc:937] successful NUMA node read from SysFS had negative value (-1), but there must be at least one NUMA node, so returning NUMA node zero\n",
      "2022-01-14 12:38:02.709620: I tensorflow/core/platform/cpu_feature_guard.cc:142] This TensorFlow binary is optimized with oneAPI Deep Neural Network Library (oneDNN) to use the following CPU instructions in performance-critical operations:  AVX2 AVX512F FMA\n",
      "To enable them in other operations, rebuild TensorFlow with the appropriate compiler flags.\n",
      "2022-01-14 12:38:02.710841: I tensorflow/stream_executor/cuda/cuda_gpu_executor.cc:937] successful NUMA node read from SysFS had negative value (-1), but there must be at least one NUMA node, so returning NUMA node zero\n",
      "2022-01-14 12:38:02.711512: I tensorflow/stream_executor/cuda/cuda_gpu_executor.cc:937] successful NUMA node read from SysFS had negative value (-1), but there must be at least one NUMA node, so returning NUMA node zero\n",
      "2022-01-14 12:38:02.712137: I tensorflow/stream_executor/cuda/cuda_gpu_executor.cc:937] successful NUMA node read from SysFS had negative value (-1), but there must be at least one NUMA node, so returning NUMA node zero\n",
      "2022-01-14 12:38:04.498601: I tensorflow/stream_executor/cuda/cuda_gpu_executor.cc:937] successful NUMA node read from SysFS had negative value (-1), but there must be at least one NUMA node, so returning NUMA node zero\n",
      "2022-01-14 12:38:04.499420: I tensorflow/stream_executor/cuda/cuda_gpu_executor.cc:937] successful NUMA node read from SysFS had negative value (-1), but there must be at least one NUMA node, so returning NUMA node zero\n",
      "2022-01-14 12:38:04.500131: I tensorflow/stream_executor/cuda/cuda_gpu_executor.cc:937] successful NUMA node read from SysFS had negative value (-1), but there must be at least one NUMA node, so returning NUMA node zero\n",
      "2022-01-14 12:38:04.500715: I tensorflow/core/common_runtime/gpu/gpu_device.cc:1510] Created device /job:localhost/replica:0/task:0/device:GPU:0 with 15403 MB memory:  -> device: 0, name: Tesla P100-PCIE-16GB, pci bus id: 0000:00:04.0, compute capability: 6.0\n"
     ]
    }
   ],
   "source": [
    "max_vocab_length = 10000\n",
    "max_length = 418\n",
    "\n",
    "\n",
    "from tensorflow.keras.layers.experimental.preprocessing import TextVectorization\n",
    "text_vectorizer = TextVectorization(max_tokens=max_vocab_length,\n",
    "                                   output_mode='int',\n",
    "                                   output_sequence_length=max_length)"
   ]
  },
  {
   "cell_type": "code",
   "execution_count": 14,
   "id": "740ad8fd",
   "metadata": {
    "execution": {
     "iopub.execute_input": "2022-01-14T12:38:04.879394Z",
     "iopub.status.busy": "2022-01-14T12:38:04.878742Z",
     "iopub.status.idle": "2022-01-14T12:38:10.417339Z",
     "shell.execute_reply": "2022-01-14T12:38:10.416794Z",
     "shell.execute_reply.started": "2022-01-14T11:45:58.654001Z"
    },
    "papermill": {
     "duration": 5.569272,
     "end_time": "2022-01-14T12:38:10.417512",
     "exception": false,
     "start_time": "2022-01-14T12:38:04.848240",
     "status": "completed"
    },
    "tags": []
   },
   "outputs": [
    {
     "name": "stderr",
     "output_type": "stream",
     "text": [
      "2022-01-14 12:38:05.088727: I tensorflow/compiler/mlir/mlir_graph_optimization_pass.cc:185] None of the MLIR Optimization Passes are enabled (registered 2)\n"
     ]
    }
   ],
   "source": [
    "text_vectorizer.adapt(train_sentences)"
   ]
  },
  {
   "cell_type": "code",
   "execution_count": 15,
   "id": "a3c099e4",
   "metadata": {
    "execution": {
     "iopub.execute_input": "2022-01-14T12:38:10.480373Z",
     "iopub.status.busy": "2022-01-14T12:38:10.479744Z",
     "iopub.status.idle": "2022-01-14T12:38:10.539629Z",
     "shell.execute_reply": "2022-01-14T12:38:10.539209Z",
     "shell.execute_reply.started": "2022-01-14T11:46:03.907795Z"
    },
    "papermill": {
     "duration": 0.09374,
     "end_time": "2022-01-14T12:38:10.539750",
     "exception": false,
     "start_time": "2022-01-14T12:38:10.446010",
     "status": "completed"
    },
    "tags": []
   },
   "outputs": [
    {
     "name": "stdout",
     "output_type": "stream",
     "text": [
      "Original text;\n",
      "Melania's Slovenian hometown eyes Trump win as boon for tourismSEVNICA, Slovenia (Reuters) - The small Slovenian town of Sevnica, Melania Trump’s birthplace, savored her husband’s shock win in the U.S. election as a likely boon for tourism on Wednesday, while a former schoolmate remembered her as “creative and innovative”. Until about a year ago, the town of fewer than 5,000 people, nestled in the foothills of the Alps, was scarcely known in Slovenia, let alone abroad.   But on Monday, Sevnica was clearly looking forward to a financial spin-off from being the hometown of the 46-year-old future U.S. First Lady. “Sometimes the pressure of the media was too hard. The people of Sevnica are not used to it. On the other hand, the global attention is positive because Sevnica is developing into a tourist destination,” mayor Srecko Ocvirk said. Speaking to Reuters shortly after 7 a.m. (0600 GMT) in Sevnica’s Central cafe, the smiling mayor said local residents had supported Trump and his wife’s campaign. “We are very satisfied at the result,” he said. Born Melania Knavs in 1970, she lived in an apartment block in Sevnica with her family as a child. When she was a teenager, the family moved to a modest two-storey house above the Sava river on the outskirts of town, which sits below a well-maintained medieval castle. Residents say her father sold car parts and her mother worked for a factory that made a brand of children’s clothing very popular in communist Yugoslavia, before the country fell apart in the 1990s. Melania’s modeling career took her to Milan and thence to the United States, far away from her native Slovenia, a tiny former Yugoslav republic of 2 million people comparable in size to New Jersey. “Even as a child Melania was creative, innovative and Sevnica was too small for her,” said Mirjana Jelancic, Melania’s friend who is now a headmistress of Melania’s elementary school. “She was reserved and when I heard that Donald was running I said (to myself) this will be hard for her. She never wanted to be in the spotlight,” Jelancic said. “She was excellent at her job (in the campaign).” The head of the town’s health center, which received a donation from Melania in 2005 when she was pregnant with her son Barron, said she believed Melania would be a success in the White House, as well. “Melania will be an excellent First Lady who will take Slovenian values of generosity, loyalty and trust to the United States and the world,” Vladimira Tomsic said.   \n",
      "\n",
      " Vectorized Version:\n"
     ]
    },
    {
     "data": {
      "text/plain": [
       "<tf.Tensor: shape=(1, 418), dtype=int64, numpy=\n",
       "array([[   1,    1, 7004, 2534,   15,  365,   19,    1,   10,    1, 9737,\n",
       "          70,    2,  754,    1,  921,    4,    1, 2066,  152,    1,    1,\n",
       "          53,    1, 3855,  365,    7,    2,   32,   99,   19,    5,  305,\n",
       "           1,   10, 4639,    9,  204,  113,    5,  106,    1, 8805,   53,\n",
       "          19,    1,    6,    1,  385,   39,    5,  111,  530,    2,  921,\n",
       "           4, 3188,   78, 4398,   46,    1,    7,    2,    1,    4,    2,\n",
       "           1,   18,    1,  427,    7, 9737,  395, 1558, 2118,   34,    9,\n",
       "         219,    1,   18,  875,  771,  867,    3,    5,  460,    1,   26,\n",
       "         108,    2, 7004,    4,    2,    1,  545,   32,  105, 1495,    1,\n",
       "           2,  840,    4,    2,  120,   18,  301,  558,    2,   46,    4,\n",
       "           1,   29,   25,  256,    3,   16,    9,    2,   80,  974,    2,\n",
       "         578, 1155,   12, 1701,   92,    1,   12, 3196,   85,    5, 5951,\n",
       "           1,  894,    1,    1,   14,  671,    3,   70, 2236,   50, 1094,\n",
       "         541,    1, 4421,    7,    1,  670,    1,    2, 7361,  894,   14,\n",
       "         418, 1159,   42, 1281,   15,    6,   20,    1,   93,  748,   29,\n",
       "         142, 8198,   27,    2,    1,   13,   14, 1563, 2066,    1,    7,\n",
       "           1,   52, 2752,    7,   31, 3692, 1286,    7,    1,   17,   53,\n",
       "         284,   19,    5,  937,   61,   52,   18,    5, 6928,    2,  284,\n",
       "        1542,    3,    5, 7267,    1,   68, 1514,    2,    1, 2890,    9,\n",
       "           2, 8124,    4,  921,   51, 5135,  922,    5,    1,    1,    1,\n",
       "        1159,  123,   53,  850, 2403, 1214, 1289,    6,   53, 1104,  806,\n",
       "          10,    5, 4064,    8,  130,    5, 2955,    4,    1, 4916,  142,\n",
       "         932,    7, 1773,    1,  115,    2,  114, 2005, 2687,    7,    2,\n",
       "        3745,    1,    1, 1643,  253,   53,    3,    1,    6,    1,    3,\n",
       "           2,   88,   76,  300,  398,   26,   53, 2528, 9737,    5, 4056,\n",
       "         106,    1, 1905,    4,  683,  171,   46,    1,    7, 2777,    3,\n",
       "          60, 1822,    1,   19,    5,  937, 2066,   18, 7548,    1,    6,\n",
       "           1,   18,  301,  754,   10,    1,   14,    1,    1,    1, 1373,\n",
       "          30,   12,  103,    5,    1,    4,    1, 5966,  367, 8793,   18,\n",
       "        7260,    6,   61,   37,  961,    8,   73,   18,  581,   37,   14,\n",
       "           3, 3375,   28,   40,   23,  558,   10,   53,   52,  241,  608,\n",
       "           3,   23,    7,    2,    1,    1,   14, 8793,   18, 6573,   27,\n",
       "          53,  458,    7,    2, 9024,    2,  422,    4,    2,    1,  308,\n",
       "         567,   51,  706,    5, 4493,   26, 2066,    7, 2440,   61,   52,\n",
       "          18, 5459,   17,   53,  865, 6723,   14,   52, 1218, 2066,   35,\n",
       "          23,    5, 2124,    7,    2,   87,   68,   19,  194,    1,   40,\n",
       "          23,   31, 6573,  105, 1495,   30,   40,  164,    1, 1577,    4,\n",
       "           1, 4582,    6, 1500,    3,    2,   88,   76,    6,    2, 5989]])>"
      ]
     },
     "execution_count": 15,
     "metadata": {},
     "output_type": "execute_result"
    }
   ],
   "source": [
    "import random\n",
    "random_sentence = random.choice(train_sentences)\n",
    "print(f\"Original text;\\n{random_sentence}\\\n",
    "\\n\\n Vectorized Version:\")\n",
    "text_vectorizer([random_sentence])"
   ]
  },
  {
   "cell_type": "code",
   "execution_count": 16,
   "id": "28142e9a",
   "metadata": {
    "execution": {
     "iopub.execute_input": "2022-01-14T12:38:10.600251Z",
     "iopub.status.busy": "2022-01-14T12:38:10.599578Z",
     "iopub.status.idle": "2022-01-14T12:38:10.628024Z",
     "shell.execute_reply": "2022-01-14T12:38:10.628437Z",
     "shell.execute_reply.started": "2022-01-14T11:46:03.972612Z"
    },
    "papermill": {
     "duration": 0.060492,
     "end_time": "2022-01-14T12:38:10.628564",
     "exception": false,
     "start_time": "2022-01-14T12:38:10.568072",
     "status": "completed"
    },
    "tags": []
   },
   "outputs": [
    {
     "data": {
      "text/plain": [
       "10000"
      ]
     },
     "execution_count": 16,
     "metadata": {},
     "output_type": "execute_result"
    }
   ],
   "source": [
    "words = text_vectorizer.get_vocabulary()\n",
    "len(words)"
   ]
  },
  {
   "cell_type": "code",
   "execution_count": 17,
   "id": "af1c7f2a",
   "metadata": {
    "execution": {
     "iopub.execute_input": "2022-01-14T12:38:10.693550Z",
     "iopub.status.busy": "2022-01-14T12:38:10.692919Z",
     "iopub.status.idle": "2022-01-14T12:38:10.695437Z",
     "shell.execute_reply": "2022-01-14T12:38:10.695829Z",
     "shell.execute_reply.started": "2022-01-14T11:46:04.007092Z"
    },
    "papermill": {
     "duration": 0.038921,
     "end_time": "2022-01-14T12:38:10.695973",
     "exception": false,
     "start_time": "2022-01-14T12:38:10.657052",
     "status": "completed"
    },
    "tags": []
   },
   "outputs": [
    {
     "data": {
      "text/plain": [
       "<keras.layers.embeddings.Embedding at 0x7fe8ae1ba850>"
      ]
     },
     "execution_count": 17,
     "metadata": {},
     "output_type": "execute_result"
    }
   ],
   "source": [
    "from tensorflow.keras import layers\n",
    "\n",
    "embedding = layers.Embedding(input_dim=max_vocab_length,\n",
    "                            output_dim=128,\n",
    "                            embeddings_initializer='uniform',\n",
    "                            input_length=max_length)\n",
    "embedding"
   ]
  },
  {
   "cell_type": "code",
   "execution_count": 18,
   "id": "c86e67a7",
   "metadata": {
    "execution": {
     "iopub.execute_input": "2022-01-14T12:38:10.759114Z",
     "iopub.status.busy": "2022-01-14T12:38:10.758000Z",
     "iopub.status.idle": "2022-01-14T12:38:10.783799Z",
     "shell.execute_reply": "2022-01-14T12:38:10.784431Z",
     "shell.execute_reply.started": "2022-01-14T11:46:04.017784Z"
    },
    "papermill": {
     "duration": 0.059921,
     "end_time": "2022-01-14T12:38:10.784616",
     "exception": false,
     "start_time": "2022-01-14T12:38:10.724695",
     "status": "completed"
    },
    "tags": []
   },
   "outputs": [
    {
     "name": "stdout",
     "output_type": "stream",
     "text": [
      "Original text:\n",
      "Melania's Slovenian hometown eyes Trump win as boon for tourismSEVNICA, Slovenia (Reuters) - The small Slovenian town of Sevnica, Melania Trump’s birthplace, savored her husband’s shock win in the U.S. election as a likely boon for tourism on Wednesday, while a former schoolmate remembered her as “creative and innovative”. Until about a year ago, the town of fewer than 5,000 people, nestled in the foothills of the Alps, was scarcely known in Slovenia, let alone abroad.   But on Monday, Sevnica was clearly looking forward to a financial spin-off from being the hometown of the 46-year-old future U.S. First Lady. “Sometimes the pressure of the media was too hard. The people of Sevnica are not used to it. On the other hand, the global attention is positive because Sevnica is developing into a tourist destination,” mayor Srecko Ocvirk said. Speaking to Reuters shortly after 7 a.m. (0600 GMT) in Sevnica’s Central cafe, the smiling mayor said local residents had supported Trump and his wife’s campaign. “We are very satisfied at the result,” he said. Born Melania Knavs in 1970, she lived in an apartment block in Sevnica with her family as a child. When she was a teenager, the family moved to a modest two-storey house above the Sava river on the outskirts of town, which sits below a well-maintained medieval castle. Residents say her father sold car parts and her mother worked for a factory that made a brand of children’s clothing very popular in communist Yugoslavia, before the country fell apart in the 1990s. Melania’s modeling career took her to Milan and thence to the United States, far away from her native Slovenia, a tiny former Yugoslav republic of 2 million people comparable in size to New Jersey. “Even as a child Melania was creative, innovative and Sevnica was too small for her,” said Mirjana Jelancic, Melania’s friend who is now a headmistress of Melania’s elementary school. “She was reserved and when I heard that Donald was running I said (to myself) this will be hard for her. She never wanted to be in the spotlight,” Jelancic said. “She was excellent at her job (in the campaign).” The head of the town’s health center, which received a donation from Melania in 2005 when she was pregnant with her son Barron, said she believed Melania would be a success in the White House, as well. “Melania will be an excellent First Lady who will take Slovenian values of generosity, loyalty and trust to the United States and the world,” Vladimira Tomsic said.         \n",
      "\n",
      "Embedd version: \n"
     ]
    },
    {
     "data": {
      "text/plain": [
       "<tf.Tensor: shape=(1, 418, 128), dtype=float32, numpy=\n",
       "array([[[ 0.02650726,  0.04713878,  0.04025898, ..., -0.03885808,\n",
       "          0.04728569,  0.0098158 ],\n",
       "        [ 0.02650726,  0.04713878,  0.04025898, ..., -0.03885808,\n",
       "          0.04728569,  0.0098158 ],\n",
       "        [-0.0198065 , -0.04703027, -0.02483473, ...,  0.03968923,\n",
       "          0.04142232, -0.0137097 ],\n",
       "        ...,\n",
       "        [-0.00219069,  0.01425601, -0.04276626, ...,  0.04618606,\n",
       "          0.03161791, -0.01626281],\n",
       "        [-0.03293516,  0.0091668 ,  0.04454314, ...,  0.01265756,\n",
       "         -0.02992531,  0.02483901],\n",
       "        [ 0.02183039, -0.00647342, -0.0165597 , ..., -0.00869855,\n",
       "         -0.00888197, -0.01361972]]], dtype=float32)>"
      ]
     },
     "execution_count": 18,
     "metadata": {},
     "output_type": "execute_result"
    }
   ],
   "source": [
    "random_sentenc = random.choice(train_sentences)\n",
    "print(f\"Original text:\\n{random_sentence}\\\n",
    "      \\n\\nEmbedd version: \")\n",
    "embedding(text_vectorizer([random_sentence]))"
   ]
  },
  {
   "cell_type": "code",
   "execution_count": 19,
   "id": "00466151",
   "metadata": {
    "execution": {
     "iopub.execute_input": "2022-01-14T12:38:10.855332Z",
     "iopub.status.busy": "2022-01-14T12:38:10.854748Z",
     "iopub.status.idle": "2022-01-14T12:38:11.099680Z",
     "shell.execute_reply": "2022-01-14T12:38:11.098625Z",
     "shell.execute_reply.started": "2022-01-14T11:46:04.053234Z"
    },
    "papermill": {
     "duration": 0.282295,
     "end_time": "2022-01-14T12:38:11.099833",
     "exception": false,
     "start_time": "2022-01-14T12:38:10.817538",
     "status": "completed"
    },
    "tags": []
   },
   "outputs": [],
   "source": [
    "# Create an LSTM model\n",
    "from tensorflow.keras import layers\n",
    "inputs = layers.Input(shape=(1,),dtype='string')\n",
    "\n",
    "# Pass inputs to text_vectorizer(convert text into numbers)\n",
    "x = text_vectorizer(inputs) \n",
    "\n",
    "# Convert text_vectorizer layer into embedding layer\n",
    "x = embedding(x)\n",
    "\n",
    "# Model \n",
    "x = layers.LSTM(64)(x)\n",
    "# output\n",
    "outputs = layers.Dense(1, activation='sigmoid')(x)\n",
    "\n",
    "# Pass inputs and outputs to our model\n",
    "model = tf.keras.Model(inputs, outputs, name='model_LSTM')"
   ]
  },
  {
   "cell_type": "code",
   "execution_count": 20,
   "id": "c3edfa34",
   "metadata": {
    "execution": {
     "iopub.execute_input": "2022-01-14T12:38:11.164393Z",
     "iopub.status.busy": "2022-01-14T12:38:11.163600Z",
     "iopub.status.idle": "2022-01-14T12:38:11.168522Z",
     "shell.execute_reply": "2022-01-14T12:38:11.168108Z",
     "shell.execute_reply.started": "2022-01-14T11:46:04.315874Z"
    },
    "papermill": {
     "duration": 0.039098,
     "end_time": "2022-01-14T12:38:11.168635",
     "exception": false,
     "start_time": "2022-01-14T12:38:11.129537",
     "status": "completed"
    },
    "tags": []
   },
   "outputs": [
    {
     "name": "stdout",
     "output_type": "stream",
     "text": [
      "Model: \"model_LSTM\"\n",
      "_________________________________________________________________\n",
      "Layer (type)                 Output Shape              Param #   \n",
      "=================================================================\n",
      "input_1 (InputLayer)         [(None, 1)]               0         \n",
      "_________________________________________________________________\n",
      "text_vectorization (TextVect (None, 418)               0         \n",
      "_________________________________________________________________\n",
      "embedding (Embedding)        (None, 418, 128)          1280000   \n",
      "_________________________________________________________________\n",
      "lstm (LSTM)                  (None, 64)                49408     \n",
      "_________________________________________________________________\n",
      "dense (Dense)                (None, 1)                 65        \n",
      "=================================================================\n",
      "Total params: 1,329,473\n",
      "Trainable params: 1,329,473\n",
      "Non-trainable params: 0\n",
      "_________________________________________________________________\n"
     ]
    }
   ],
   "source": [
    "# Get a summary\n",
    "model.summary()"
   ]
  },
  {
   "cell_type": "code",
   "execution_count": 21,
   "id": "07a2b2e7",
   "metadata": {
    "execution": {
     "iopub.execute_input": "2022-01-14T12:38:11.236276Z",
     "iopub.status.busy": "2022-01-14T12:38:11.235483Z",
     "iopub.status.idle": "2022-01-14T12:38:11.241239Z",
     "shell.execute_reply": "2022-01-14T12:38:11.240801Z",
     "shell.execute_reply.started": "2022-01-14T11:46:04.329609Z"
    },
    "papermill": {
     "duration": 0.043265,
     "end_time": "2022-01-14T12:38:11.241373",
     "exception": false,
     "start_time": "2022-01-14T12:38:11.198108",
     "status": "completed"
    },
    "tags": []
   },
   "outputs": [],
   "source": [
    "# Compile the model\n",
    "model.compile(loss='binary_crossentropy',\n",
    "             optimizer=tf.keras.optimizers.Adam(),\n",
    "             metrics=['accuracy'])"
   ]
  },
  {
   "cell_type": "code",
   "execution_count": 22,
   "id": "aa35be27",
   "metadata": {
    "execution": {
     "iopub.execute_input": "2022-01-14T12:38:11.308535Z",
     "iopub.status.busy": "2022-01-14T12:38:11.307761Z",
     "iopub.status.idle": "2022-01-14T12:40:27.389955Z",
     "shell.execute_reply": "2022-01-14T12:40:27.389447Z",
     "shell.execute_reply.started": "2022-01-14T11:46:04.345313Z"
    },
    "papermill": {
     "duration": 136.115649,
     "end_time": "2022-01-14T12:40:27.390105",
     "exception": false,
     "start_time": "2022-01-14T12:38:11.274456",
     "status": "completed"
    },
    "tags": []
   },
   "outputs": [
    {
     "name": "stdout",
     "output_type": "stream",
     "text": [
      "Epoch 1/5\n"
     ]
    },
    {
     "name": "stderr",
     "output_type": "stream",
     "text": [
      "2022-01-14 12:38:13.782567: I tensorflow/stream_executor/cuda/cuda_dnn.cc:369] Loaded cuDNN version 8005\n"
     ]
    },
    {
     "name": "stdout",
     "output_type": "stream",
     "text": [
      "1053/1053 [==============================] - 30s 25ms/step - loss: 0.4615 - accuracy: 0.7863 - val_loss: 0.4261 - val_accuracy: 0.8140\n",
      "Epoch 2/5\n",
      "1053/1053 [==============================] - 26s 25ms/step - loss: 0.3228 - accuracy: 0.8807 - val_loss: 0.1966 - val_accuracy: 0.9460\n",
      "Epoch 3/5\n",
      "1053/1053 [==============================] - 26s 25ms/step - loss: 0.2350 - accuracy: 0.9169 - val_loss: 0.2188 - val_accuracy: 0.9259\n",
      "Epoch 4/5\n",
      "1053/1053 [==============================] - 26s 25ms/step - loss: 0.1327 - accuracy: 0.9538 - val_loss: 0.2079 - val_accuracy: 0.8874\n",
      "Epoch 5/5\n",
      "1053/1053 [==============================] - 27s 25ms/step - loss: 0.1089 - accuracy: 0.9641 - val_loss: 0.0915 - val_accuracy: 0.9718\n"
     ]
    }
   ],
   "source": [
    "model_history = model.fit(train_sentences,\n",
    "                         train_labels,\n",
    "                          epochs=5,\n",
    "                         validation_data=(val_sentences, val_labels))"
   ]
  },
  {
   "cell_type": "code",
   "execution_count": null,
   "id": "87e3bec7",
   "metadata": {
    "papermill": {
     "duration": 0.502652,
     "end_time": "2022-01-14T12:40:28.406956",
     "exception": false,
     "start_time": "2022-01-14T12:40:27.904304",
     "status": "completed"
    },
    "tags": []
   },
   "outputs": [],
   "source": [
    "\n"
   ]
  },
  {
   "cell_type": "code",
   "execution_count": null,
   "id": "dbc1269d",
   "metadata": {
    "papermill": {
     "duration": 0.728743,
     "end_time": "2022-01-14T12:40:29.716058",
     "exception": false,
     "start_time": "2022-01-14T12:40:28.987315",
     "status": "completed"
    },
    "tags": []
   },
   "outputs": [],
   "source": []
  },
  {
   "cell_type": "code",
   "execution_count": 23,
   "id": "af2dff1d",
   "metadata": {
    "execution": {
     "iopub.execute_input": "2022-01-14T12:40:30.724688Z",
     "iopub.status.busy": "2022-01-14T12:40:30.724134Z",
     "iopub.status.idle": "2022-01-14T12:40:31.236818Z",
     "shell.execute_reply": "2022-01-14T12:40:31.236324Z",
     "shell.execute_reply.started": "2022-01-14T11:57:20.575019Z"
    },
    "papermill": {
     "duration": 1.017113,
     "end_time": "2022-01-14T12:40:31.237005",
     "exception": false,
     "start_time": "2022-01-14T12:40:30.219892",
     "status": "completed"
    },
    "tags": []
   },
   "outputs": [],
   "source": [
    "from textblob import TextBlob\n",
    "import re\n",
    "def clean_text(text):\n",
    "    return ' '.join(re.sub('(@[A-Za-z0-9]+)|([^0-9A-Za-z \\t])|(\\w+:\\/\\/\\S+)', ' ', text).split())\n",
    "def analyze_sentiment(text):\n",
    "    analysis = TextBlob(text)\n",
    "    if analysis.sentiment.polarity > 0:\n",
    "        return 'Positive'\n",
    "    elif analysis.sentiment.polarity == 0:\n",
    "        return 'Neutral'\n",
    "    else:\n",
    "        return 'Negative'"
   ]
  },
  {
   "cell_type": "code",
   "execution_count": 24,
   "id": "d8b17cd5",
   "metadata": {
    "execution": {
     "iopub.execute_input": "2022-01-14T12:40:32.251595Z",
     "iopub.status.busy": "2022-01-14T12:40:32.250941Z",
     "iopub.status.idle": "2022-01-14T12:40:32.253791Z",
     "shell.execute_reply": "2022-01-14T12:40:32.254234Z",
     "shell.execute_reply.started": "2022-01-14T11:57:21.409381Z"
    },
    "papermill": {
     "duration": 0.513911,
     "end_time": "2022-01-14T12:40:32.254383",
     "exception": false,
     "start_time": "2022-01-14T12:40:31.740472",
     "status": "completed"
    },
    "tags": []
   },
   "outputs": [
    {
     "data": {
      "text/html": [
       "<div>\n",
       "<style scoped>\n",
       "    .dataframe tbody tr th:only-of-type {\n",
       "        vertical-align: middle;\n",
       "    }\n",
       "\n",
       "    .dataframe tbody tr th {\n",
       "        vertical-align: top;\n",
       "    }\n",
       "\n",
       "    .dataframe thead th {\n",
       "        text-align: right;\n",
       "    }\n",
       "</style>\n",
       "<table border=\"1\" class=\"dataframe\">\n",
       "  <thead>\n",
       "    <tr style=\"text-align: right;\">\n",
       "      <th></th>\n",
       "      <th>text</th>\n",
       "      <th>fake</th>\n",
       "    </tr>\n",
       "  </thead>\n",
       "  <tbody>\n",
       "    <tr>\n",
       "      <th>16655</th>\n",
       "      <td>Poland's PM Szydlo to reshuffle cabinet soonWA...</td>\n",
       "      <td>0</td>\n",
       "    </tr>\n",
       "    <tr>\n",
       "      <th>19321</th>\n",
       "      <td>NICOLE KIDMAN BREAKS RANKS With Hollywood Left...</td>\n",
       "      <td>1</td>\n",
       "    </tr>\n",
       "    <tr>\n",
       "      <th>17069</th>\n",
       "      <td>BREAKING: Putin Tramples Obama’s Imaginary Red...</td>\n",
       "      <td>1</td>\n",
       "    </tr>\n",
       "    <tr>\n",
       "      <th>8270</th>\n",
       "      <td>Clinton voices concern about Russian interfere...</td>\n",
       "      <td>0</td>\n",
       "    </tr>\n",
       "    <tr>\n",
       "      <th>2329</th>\n",
       "      <td>Factbox: Highlights of Trump's calls with lead...</td>\n",
       "      <td>0</td>\n",
       "    </tr>\n",
       "    <tr>\n",
       "      <th>...</th>\n",
       "      <td>...</td>\n",
       "      <td>...</td>\n",
       "    </tr>\n",
       "    <tr>\n",
       "      <th>6542</th>\n",
       "      <td>U.S. Republican senator introduces Obamacare r...</td>\n",
       "      <td>0</td>\n",
       "    </tr>\n",
       "    <tr>\n",
       "      <th>11732</th>\n",
       "      <td>WOW! Kellyanne Conway’s “MISTAKE” Forced Lefti...</td>\n",
       "      <td>1</td>\n",
       "    </tr>\n",
       "    <tr>\n",
       "      <th>11494</th>\n",
       "      <td>U.N. appoints American to lead Children's Fund...</td>\n",
       "      <td>0</td>\n",
       "    </tr>\n",
       "    <tr>\n",
       "      <th>1222</th>\n",
       "      <td>U.S. officials try to ease concerns Trump may ...</td>\n",
       "      <td>0</td>\n",
       "    </tr>\n",
       "    <tr>\n",
       "      <th>15707</th>\n",
       "      <td>Zimbabwe police charge U.S. citizen with anti-...</td>\n",
       "      <td>0</td>\n",
       "    </tr>\n",
       "  </tbody>\n",
       "</table>\n",
       "<p>44898 rows × 2 columns</p>\n",
       "</div>"
      ],
      "text/plain": [
       "                                                    text  fake\n",
       "16655  Poland's PM Szydlo to reshuffle cabinet soonWA...     0\n",
       "19321  NICOLE KIDMAN BREAKS RANKS With Hollywood Left...     1\n",
       "17069  BREAKING: Putin Tramples Obama’s Imaginary Red...     1\n",
       "8270   Clinton voices concern about Russian interfere...     0\n",
       "2329   Factbox: Highlights of Trump's calls with lead...     0\n",
       "...                                                  ...   ...\n",
       "6542   U.S. Republican senator introduces Obamacare r...     0\n",
       "11732  WOW! Kellyanne Conway’s “MISTAKE” Forced Lefti...     1\n",
       "11494  U.N. appoints American to lead Children's Fund...     0\n",
       "1222   U.S. officials try to ease concerns Trump may ...     0\n",
       "15707  Zimbabwe police charge U.S. citizen with anti-...     0\n",
       "\n",
       "[44898 rows x 2 columns]"
      ]
     },
     "execution_count": 24,
     "metadata": {},
     "output_type": "execute_result"
    }
   ],
   "source": [
    "df=pd.DataFrame(news)\n",
    "df"
   ]
  },
  {
   "cell_type": "code",
   "execution_count": 25,
   "id": "f7809954",
   "metadata": {
    "execution": {
     "iopub.execute_input": "2022-01-14T12:40:33.324743Z",
     "iopub.status.busy": "2022-01-14T12:40:33.307719Z",
     "iopub.status.idle": "2022-01-14T12:41:01.744117Z",
     "shell.execute_reply": "2022-01-14T12:41:01.744564Z",
     "shell.execute_reply.started": "2022-01-14T11:57:21.423436Z"
    },
    "papermill": {
     "duration": 28.992077,
     "end_time": "2022-01-14T12:41:01.744755",
     "exception": false,
     "start_time": "2022-01-14T12:40:32.752678",
     "status": "completed"
    },
    "tags": []
   },
   "outputs": [],
   "source": [
    "df['clean_text'] = df['text'].apply(lambda x : clean_text(x))"
   ]
  },
  {
   "cell_type": "code",
   "execution_count": 26,
   "id": "95f89181",
   "metadata": {
    "execution": {
     "iopub.execute_input": "2022-01-14T12:41:03.132828Z",
     "iopub.status.busy": "2022-01-14T12:41:03.131900Z",
     "iopub.status.idle": "2022-01-14T12:43:01.653439Z",
     "shell.execute_reply": "2022-01-14T12:43:01.653936Z",
     "shell.execute_reply.started": "2022-01-14T11:57:50.582840Z"
    },
    "papermill": {
     "duration": 119.085596,
     "end_time": "2022-01-14T12:43:01.654130",
     "exception": false,
     "start_time": "2022-01-14T12:41:02.568534",
     "status": "completed"
    },
    "tags": []
   },
   "outputs": [],
   "source": [
    "df['Sentiment'] = df['clean_text'].apply(lambda x : analyze_sentiment(x))"
   ]
  },
  {
   "cell_type": "code",
   "execution_count": 27,
   "id": "09e4c5ca",
   "metadata": {
    "execution": {
     "iopub.execute_input": "2022-01-14T12:43:02.671730Z",
     "iopub.status.busy": "2022-01-14T12:43:02.670873Z",
     "iopub.status.idle": "2022-01-14T12:43:02.672495Z",
     "shell.execute_reply": "2022-01-14T12:43:02.673011Z",
     "shell.execute_reply.started": "2022-01-14T11:59:46.472524Z"
    },
    "papermill": {
     "duration": 0.50958,
     "end_time": "2022-01-14T12:43:02.673149",
     "exception": false,
     "start_time": "2022-01-14T12:43:02.163569",
     "status": "completed"
    },
    "tags": []
   },
   "outputs": [],
   "source": [
    "def result(text):\n",
    "    x=(np.array(text)).reshape(1,)\n",
    "    cltxt=clean_text(text)\n",
    "    x=model.predict(x)\n",
    "    x=np.array(x).reshape(1)\n",
    "    x=x[0]\n",
    "    x=round(x)\n",
    "    if x==0:\n",
    "        y='Real'\n",
    "    else:\n",
    "        y='Fake'\n",
    "    return analyze_sentiment(cltxt),y"
   ]
  },
  {
   "cell_type": "code",
   "execution_count": 28,
   "id": "5cd0ba3b",
   "metadata": {
    "execution": {
     "iopub.execute_input": "2022-01-14T12:43:03.986604Z",
     "iopub.status.busy": "2022-01-14T12:43:03.985768Z",
     "iopub.status.idle": "2022-01-14T12:43:04.375959Z",
     "shell.execute_reply": "2022-01-14T12:43:04.375507Z",
     "shell.execute_reply.started": "2022-01-14T11:59:46.482502Z"
    },
    "papermill": {
     "duration": 0.899729,
     "end_time": "2022-01-14T12:43:04.376089",
     "exception": false,
     "start_time": "2022-01-14T12:43:03.476360",
     "status": "completed"
    },
    "tags": []
   },
   "outputs": [
    {
     "data": {
      "text/plain": [
       "('Positive', 'Real')"
      ]
     },
     "execution_count": 28,
     "metadata": {},
     "output_type": "execute_result"
    }
   ],
   "source": [
    "result(news['text'].iloc[5])"
   ]
  },
  {
   "cell_type": "code",
   "execution_count": 29,
   "id": "ce196677",
   "metadata": {
    "execution": {
     "iopub.execute_input": "2022-01-14T12:43:05.393601Z",
     "iopub.status.busy": "2022-01-14T12:43:05.392774Z",
     "iopub.status.idle": "2022-01-14T12:43:05.438592Z",
     "shell.execute_reply": "2022-01-14T12:43:05.439057Z",
     "shell.execute_reply.started": "2022-01-14T11:59:46.550053Z"
    },
    "papermill": {
     "duration": 0.559141,
     "end_time": "2022-01-14T12:43:05.439224",
     "exception": false,
     "start_time": "2022-01-14T12:43:04.880083",
     "status": "completed"
    },
    "tags": []
   },
   "outputs": [
    {
     "data": {
      "text/plain": [
       "0"
      ]
     },
     "execution_count": 29,
     "metadata": {},
     "output_type": "execute_result"
    }
   ],
   "source": [
    "x=(np.array(news['text'].iloc[5])).reshape(1,)\n",
    "x=model.predict(x)\n",
    "x=np.array(x).reshape(1)\n",
    "x=x[0]\n",
    "x=round(x)\n",
    "x"
   ]
  },
  {
   "cell_type": "code",
   "execution_count": 30,
   "id": "54bbda33",
   "metadata": {
    "execution": {
     "iopub.execute_input": "2022-01-14T12:43:06.458262Z",
     "iopub.status.busy": "2022-01-14T12:43:06.457595Z",
     "iopub.status.idle": "2022-01-14T12:43:06.460310Z",
     "shell.execute_reply": "2022-01-14T12:43:06.460698Z",
     "shell.execute_reply.started": "2022-01-14T11:59:46.603023Z"
    },
    "papermill": {
     "duration": 0.51913,
     "end_time": "2022-01-14T12:43:06.460841",
     "exception": false,
     "start_time": "2022-01-14T12:43:05.941711",
     "status": "completed"
    },
    "tags": []
   },
   "outputs": [
    {
     "data": {
      "text/plain": [
       "0.0"
      ]
     },
     "execution_count": 30,
     "metadata": {},
     "output_type": "execute_result"
    }
   ],
   "source": [
    "np.floor(0.9)"
   ]
  },
  {
   "cell_type": "code",
   "execution_count": null,
   "id": "6d058529",
   "metadata": {
    "papermill": {
     "duration": 0.509092,
     "end_time": "2022-01-14T12:43:07.480409",
     "exception": false,
     "start_time": "2022-01-14T12:43:06.971317",
     "status": "completed"
    },
    "tags": []
   },
   "outputs": [],
   "source": []
  },
  {
   "cell_type": "code",
   "execution_count": null,
   "id": "22c07105",
   "metadata": {
    "papermill": {
     "duration": 0.5058,
     "end_time": "2022-01-14T12:43:08.491546",
     "exception": false,
     "start_time": "2022-01-14T12:43:07.985746",
     "status": "completed"
    },
    "tags": []
   },
   "outputs": [],
   "source": []
  }
 ],
 "metadata": {
  "kernelspec": {
   "display_name": "Python 3",
   "language": "python",
   "name": "python3"
  },
  "language_info": {
   "codemirror_mode": {
    "name": "ipython",
    "version": 3
   },
   "file_extension": ".py",
   "mimetype": "text/x-python",
   "name": "python",
   "nbconvert_exporter": "python",
   "pygments_lexer": "ipython3",
   "version": "3.7.12"
  },
  "papermill": {
   "default_parameters": {},
   "duration": 327.689502,
   "end_time": "2022-01-14T12:43:12.214144",
   "environment_variables": {},
   "exception": null,
   "input_path": "__notebook__.ipynb",
   "output_path": "__notebook__.ipynb",
   "parameters": {},
   "start_time": "2022-01-14T12:37:44.524642",
   "version": "2.3.3"
  }
 },
 "nbformat": 4,
 "nbformat_minor": 5
}
