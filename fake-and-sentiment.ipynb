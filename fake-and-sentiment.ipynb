{
 "cells": [
  {
   "cell_type": "markdown",
   "id": "53afc7cc",
   "metadata": {
    "papermill": {
     "duration": 0.024106,
     "end_time": "2022-01-14T12:12:46.678103",
     "exception": false,
     "start_time": "2022-01-14T12:12:46.653997",
     "status": "completed"
    },
    "tags": []
   },
   "source": []
  },
  {
   "cell_type": "code",
   "execution_count": 1,
   "id": "c98566df",
   "metadata": {
    "execution": {
     "iopub.execute_input": "2022-01-14T12:12:46.737349Z",
     "iopub.status.busy": "2022-01-14T12:12:46.736587Z",
     "iopub.status.idle": "2022-01-14T12:12:51.413475Z",
     "shell.execute_reply": "2022-01-14T12:12:51.412858Z",
     "shell.execute_reply.started": "2022-01-14T11:45:47.979640Z"
    },
    "papermill": {
     "duration": 4.709559,
     "end_time": "2022-01-14T12:12:51.413657",
     "exception": false,
     "start_time": "2022-01-14T12:12:46.704098",
     "status": "completed"
    },
    "tags": []
   },
   "outputs": [],
   "source": [
    "import numpy as np\n",
    "import pandas as pd\n",
    "import matplotlib.pyplot as plt\n",
    "import seaborn as sns\n",
    "from datetime import datetime\n",
    "\n",
    "import warnings\n",
    "warnings.filterwarnings('ignore')\n",
    "\n",
    "import tensorflow as tf\n"
   ]
  },
  {
   "cell_type": "code",
   "execution_count": 2,
   "id": "5b16f05d",
   "metadata": {
    "_cell_guid": "b1076dfc-b9ad-4769-8c92-a6c4dae69d19",
    "_uuid": "8f2839f25d086af736a60e9eeb907d3b93b6e0e5",
    "execution": {
     "iopub.execute_input": "2022-01-14T12:12:51.465646Z",
     "iopub.status.busy": "2022-01-14T12:12:51.465131Z",
     "iopub.status.idle": "2022-01-14T12:12:52.916553Z",
     "shell.execute_reply": "2022-01-14T12:12:52.917050Z",
     "shell.execute_reply.started": "2022-01-14T11:45:52.583246Z"
    },
    "papermill": {
     "duration": 1.478362,
     "end_time": "2022-01-14T12:12:52.917201",
     "exception": false,
     "start_time": "2022-01-14T12:12:51.438839",
     "status": "completed"
    },
    "tags": []
   },
   "outputs": [
    {
     "data": {
      "text/html": [
       "<div>\n",
       "<style scoped>\n",
       "    .dataframe tbody tr th:only-of-type {\n",
       "        vertical-align: middle;\n",
       "    }\n",
       "\n",
       "    .dataframe tbody tr th {\n",
       "        vertical-align: top;\n",
       "    }\n",
       "\n",
       "    .dataframe thead th {\n",
       "        text-align: right;\n",
       "    }\n",
       "</style>\n",
       "<table border=\"1\" class=\"dataframe\">\n",
       "  <thead>\n",
       "    <tr style=\"text-align: right;\">\n",
       "      <th></th>\n",
       "      <th>title</th>\n",
       "      <th>text</th>\n",
       "      <th>subject</th>\n",
       "      <th>date</th>\n",
       "    </tr>\n",
       "  </thead>\n",
       "  <tbody>\n",
       "    <tr>\n",
       "      <th>0</th>\n",
       "      <td>Donald Trump Sends Out Embarrassing New Year’...</td>\n",
       "      <td>Donald Trump just couldn t wish all Americans ...</td>\n",
       "      <td>News</td>\n",
       "      <td>December 31, 2017</td>\n",
       "    </tr>\n",
       "    <tr>\n",
       "      <th>1</th>\n",
       "      <td>Drunk Bragging Trump Staffer Started Russian ...</td>\n",
       "      <td>House Intelligence Committee Chairman Devin Nu...</td>\n",
       "      <td>News</td>\n",
       "      <td>December 31, 2017</td>\n",
       "    </tr>\n",
       "    <tr>\n",
       "      <th>2</th>\n",
       "      <td>Sheriff David Clarke Becomes An Internet Joke...</td>\n",
       "      <td>On Friday, it was revealed that former Milwauk...</td>\n",
       "      <td>News</td>\n",
       "      <td>December 30, 2017</td>\n",
       "    </tr>\n",
       "    <tr>\n",
       "      <th>3</th>\n",
       "      <td>Trump Is So Obsessed He Even Has Obama’s Name...</td>\n",
       "      <td>On Christmas day, Donald Trump announced that ...</td>\n",
       "      <td>News</td>\n",
       "      <td>December 29, 2017</td>\n",
       "    </tr>\n",
       "    <tr>\n",
       "      <th>4</th>\n",
       "      <td>Pope Francis Just Called Out Donald Trump Dur...</td>\n",
       "      <td>Pope Francis used his annual Christmas Day mes...</td>\n",
       "      <td>News</td>\n",
       "      <td>December 25, 2017</td>\n",
       "    </tr>\n",
       "  </tbody>\n",
       "</table>\n",
       "</div>"
      ],
      "text/plain": [
       "                                               title  \\\n",
       "0   Donald Trump Sends Out Embarrassing New Year’...   \n",
       "1   Drunk Bragging Trump Staffer Started Russian ...   \n",
       "2   Sheriff David Clarke Becomes An Internet Joke...   \n",
       "3   Trump Is So Obsessed He Even Has Obama’s Name...   \n",
       "4   Pope Francis Just Called Out Donald Trump Dur...   \n",
       "\n",
       "                                                text subject  \\\n",
       "0  Donald Trump just couldn t wish all Americans ...    News   \n",
       "1  House Intelligence Committee Chairman Devin Nu...    News   \n",
       "2  On Friday, it was revealed that former Milwauk...    News   \n",
       "3  On Christmas day, Donald Trump announced that ...    News   \n",
       "4  Pope Francis used his annual Christmas Day mes...    News   \n",
       "\n",
       "                date  \n",
       "0  December 31, 2017  \n",
       "1  December 31, 2017  \n",
       "2  December 30, 2017  \n",
       "3  December 29, 2017  \n",
       "4  December 25, 2017  "
      ]
     },
     "execution_count": 2,
     "metadata": {},
     "output_type": "execute_result"
    }
   ],
   "source": [
    "fake_news = pd.read_csv(\"../input/fake-and-real-news-dataset/Fake.csv\")\n",
    "fake_news.head()"
   ]
  },
  {
   "cell_type": "code",
   "execution_count": 3,
   "id": "82e4c12f",
   "metadata": {
    "execution": {
     "iopub.execute_input": "2022-01-14T12:12:52.968035Z",
     "iopub.status.busy": "2022-01-14T12:12:52.967486Z",
     "iopub.status.idle": "2022-01-14T12:12:54.034274Z",
     "shell.execute_reply": "2022-01-14T12:12:54.034763Z",
     "shell.execute_reply.started": "2022-01-14T11:45:54.148366Z"
    },
    "papermill": {
     "duration": 1.09367,
     "end_time": "2022-01-14T12:12:54.034927",
     "exception": false,
     "start_time": "2022-01-14T12:12:52.941257",
     "status": "completed"
    },
    "tags": []
   },
   "outputs": [
    {
     "data": {
      "text/html": [
       "<div>\n",
       "<style scoped>\n",
       "    .dataframe tbody tr th:only-of-type {\n",
       "        vertical-align: middle;\n",
       "    }\n",
       "\n",
       "    .dataframe tbody tr th {\n",
       "        vertical-align: top;\n",
       "    }\n",
       "\n",
       "    .dataframe thead th {\n",
       "        text-align: right;\n",
       "    }\n",
       "</style>\n",
       "<table border=\"1\" class=\"dataframe\">\n",
       "  <thead>\n",
       "    <tr style=\"text-align: right;\">\n",
       "      <th></th>\n",
       "      <th>title</th>\n",
       "      <th>text</th>\n",
       "      <th>subject</th>\n",
       "      <th>date</th>\n",
       "    </tr>\n",
       "  </thead>\n",
       "  <tbody>\n",
       "    <tr>\n",
       "      <th>0</th>\n",
       "      <td>As U.S. budget fight looms, Republicans flip t...</td>\n",
       "      <td>WASHINGTON (Reuters) - The head of a conservat...</td>\n",
       "      <td>politicsNews</td>\n",
       "      <td>December 31, 2017</td>\n",
       "    </tr>\n",
       "    <tr>\n",
       "      <th>1</th>\n",
       "      <td>U.S. military to accept transgender recruits o...</td>\n",
       "      <td>WASHINGTON (Reuters) - Transgender people will...</td>\n",
       "      <td>politicsNews</td>\n",
       "      <td>December 29, 2017</td>\n",
       "    </tr>\n",
       "    <tr>\n",
       "      <th>2</th>\n",
       "      <td>Senior U.S. Republican senator: 'Let Mr. Muell...</td>\n",
       "      <td>WASHINGTON (Reuters) - The special counsel inv...</td>\n",
       "      <td>politicsNews</td>\n",
       "      <td>December 31, 2017</td>\n",
       "    </tr>\n",
       "    <tr>\n",
       "      <th>3</th>\n",
       "      <td>FBI Russia probe helped by Australian diplomat...</td>\n",
       "      <td>WASHINGTON (Reuters) - Trump campaign adviser ...</td>\n",
       "      <td>politicsNews</td>\n",
       "      <td>December 30, 2017</td>\n",
       "    </tr>\n",
       "    <tr>\n",
       "      <th>4</th>\n",
       "      <td>Trump wants Postal Service to charge 'much mor...</td>\n",
       "      <td>SEATTLE/WASHINGTON (Reuters) - President Donal...</td>\n",
       "      <td>politicsNews</td>\n",
       "      <td>December 29, 2017</td>\n",
       "    </tr>\n",
       "  </tbody>\n",
       "</table>\n",
       "</div>"
      ],
      "text/plain": [
       "                                               title  \\\n",
       "0  As U.S. budget fight looms, Republicans flip t...   \n",
       "1  U.S. military to accept transgender recruits o...   \n",
       "2  Senior U.S. Republican senator: 'Let Mr. Muell...   \n",
       "3  FBI Russia probe helped by Australian diplomat...   \n",
       "4  Trump wants Postal Service to charge 'much mor...   \n",
       "\n",
       "                                                text       subject  \\\n",
       "0  WASHINGTON (Reuters) - The head of a conservat...  politicsNews   \n",
       "1  WASHINGTON (Reuters) - Transgender people will...  politicsNews   \n",
       "2  WASHINGTON (Reuters) - The special counsel inv...  politicsNews   \n",
       "3  WASHINGTON (Reuters) - Trump campaign adviser ...  politicsNews   \n",
       "4  SEATTLE/WASHINGTON (Reuters) - President Donal...  politicsNews   \n",
       "\n",
       "                 date  \n",
       "0  December 31, 2017   \n",
       "1  December 29, 2017   \n",
       "2  December 31, 2017   \n",
       "3  December 30, 2017   \n",
       "4  December 29, 2017   "
      ]
     },
     "execution_count": 3,
     "metadata": {},
     "output_type": "execute_result"
    }
   ],
   "source": [
    "true_news = pd.read_csv(\"../input/fake-and-real-news-dataset/True.csv\")\n",
    "true_news.head()"
   ]
  },
  {
   "cell_type": "code",
   "execution_count": 4,
   "id": "136bbcff",
   "metadata": {
    "execution": {
     "iopub.execute_input": "2022-01-14T12:12:54.096803Z",
     "iopub.status.busy": "2022-01-14T12:12:54.090580Z",
     "iopub.status.idle": "2022-01-14T12:12:54.099350Z",
     "shell.execute_reply": "2022-01-14T12:12:54.099795Z",
     "shell.execute_reply.started": "2022-01-14T11:45:55.312315Z"
    },
    "papermill": {
     "duration": 0.041355,
     "end_time": "2022-01-14T12:12:54.099922",
     "exception": false,
     "start_time": "2022-01-14T12:12:54.058567",
     "status": "completed"
    },
    "tags": []
   },
   "outputs": [
    {
     "data": {
      "text/html": [
       "<div>\n",
       "<style scoped>\n",
       "    .dataframe tbody tr th:only-of-type {\n",
       "        vertical-align: middle;\n",
       "    }\n",
       "\n",
       "    .dataframe tbody tr th {\n",
       "        vertical-align: top;\n",
       "    }\n",
       "\n",
       "    .dataframe thead th {\n",
       "        text-align: right;\n",
       "    }\n",
       "</style>\n",
       "<table border=\"1\" class=\"dataframe\">\n",
       "  <thead>\n",
       "    <tr style=\"text-align: right;\">\n",
       "      <th></th>\n",
       "      <th>title</th>\n",
       "      <th>text</th>\n",
       "      <th>subject</th>\n",
       "      <th>date</th>\n",
       "      <th>fake</th>\n",
       "    </tr>\n",
       "  </thead>\n",
       "  <tbody>\n",
       "    <tr>\n",
       "      <th>0</th>\n",
       "      <td>Donald Trump Sends Out Embarrassing New Year’...</td>\n",
       "      <td>Donald Trump just couldn t wish all Americans ...</td>\n",
       "      <td>News</td>\n",
       "      <td>December 31, 2017</td>\n",
       "      <td>1</td>\n",
       "    </tr>\n",
       "    <tr>\n",
       "      <th>1</th>\n",
       "      <td>Drunk Bragging Trump Staffer Started Russian ...</td>\n",
       "      <td>House Intelligence Committee Chairman Devin Nu...</td>\n",
       "      <td>News</td>\n",
       "      <td>December 31, 2017</td>\n",
       "      <td>1</td>\n",
       "    </tr>\n",
       "    <tr>\n",
       "      <th>2</th>\n",
       "      <td>Sheriff David Clarke Becomes An Internet Joke...</td>\n",
       "      <td>On Friday, it was revealed that former Milwauk...</td>\n",
       "      <td>News</td>\n",
       "      <td>December 30, 2017</td>\n",
       "      <td>1</td>\n",
       "    </tr>\n",
       "    <tr>\n",
       "      <th>3</th>\n",
       "      <td>Trump Is So Obsessed He Even Has Obama’s Name...</td>\n",
       "      <td>On Christmas day, Donald Trump announced that ...</td>\n",
       "      <td>News</td>\n",
       "      <td>December 29, 2017</td>\n",
       "      <td>1</td>\n",
       "    </tr>\n",
       "    <tr>\n",
       "      <th>4</th>\n",
       "      <td>Pope Francis Just Called Out Donald Trump Dur...</td>\n",
       "      <td>Pope Francis used his annual Christmas Day mes...</td>\n",
       "      <td>News</td>\n",
       "      <td>December 25, 2017</td>\n",
       "      <td>1</td>\n",
       "    </tr>\n",
       "  </tbody>\n",
       "</table>\n",
       "</div>"
      ],
      "text/plain": [
       "                                               title  \\\n",
       "0   Donald Trump Sends Out Embarrassing New Year’...   \n",
       "1   Drunk Bragging Trump Staffer Started Russian ...   \n",
       "2   Sheriff David Clarke Becomes An Internet Joke...   \n",
       "3   Trump Is So Obsessed He Even Has Obama’s Name...   \n",
       "4   Pope Francis Just Called Out Donald Trump Dur...   \n",
       "\n",
       "                                                text subject  \\\n",
       "0  Donald Trump just couldn t wish all Americans ...    News   \n",
       "1  House Intelligence Committee Chairman Devin Nu...    News   \n",
       "2  On Friday, it was revealed that former Milwauk...    News   \n",
       "3  On Christmas day, Donald Trump announced that ...    News   \n",
       "4  Pope Francis used his annual Christmas Day mes...    News   \n",
       "\n",
       "                date  fake  \n",
       "0  December 31, 2017     1  \n",
       "1  December 31, 2017     1  \n",
       "2  December 30, 2017     1  \n",
       "3  December 29, 2017     1  \n",
       "4  December 25, 2017     1  "
      ]
     },
     "execution_count": 4,
     "metadata": {},
     "output_type": "execute_result"
    }
   ],
   "source": [
    "fake_news['fake']=1\n",
    "fake_news.head()"
   ]
  },
  {
   "cell_type": "code",
   "execution_count": 5,
   "id": "ad2bc4a2",
   "metadata": {
    "execution": {
     "iopub.execute_input": "2022-01-14T12:12:54.151605Z",
     "iopub.status.busy": "2022-01-14T12:12:54.150814Z",
     "iopub.status.idle": "2022-01-14T12:12:54.160409Z",
     "shell.execute_reply": "2022-01-14T12:12:54.160005Z",
     "shell.execute_reply.started": "2022-01-14T11:45:55.327114Z"
    },
    "papermill": {
     "duration": 0.036933,
     "end_time": "2022-01-14T12:12:54.160514",
     "exception": false,
     "start_time": "2022-01-14T12:12:54.123581",
     "status": "completed"
    },
    "tags": []
   },
   "outputs": [
    {
     "data": {
      "text/html": [
       "<div>\n",
       "<style scoped>\n",
       "    .dataframe tbody tr th:only-of-type {\n",
       "        vertical-align: middle;\n",
       "    }\n",
       "\n",
       "    .dataframe tbody tr th {\n",
       "        vertical-align: top;\n",
       "    }\n",
       "\n",
       "    .dataframe thead th {\n",
       "        text-align: right;\n",
       "    }\n",
       "</style>\n",
       "<table border=\"1\" class=\"dataframe\">\n",
       "  <thead>\n",
       "    <tr style=\"text-align: right;\">\n",
       "      <th></th>\n",
       "      <th>title</th>\n",
       "      <th>text</th>\n",
       "      <th>subject</th>\n",
       "      <th>date</th>\n",
       "      <th>fake</th>\n",
       "    </tr>\n",
       "  </thead>\n",
       "  <tbody>\n",
       "    <tr>\n",
       "      <th>0</th>\n",
       "      <td>As U.S. budget fight looms, Republicans flip t...</td>\n",
       "      <td>WASHINGTON (Reuters) - The head of a conservat...</td>\n",
       "      <td>politicsNews</td>\n",
       "      <td>December 31, 2017</td>\n",
       "      <td>0</td>\n",
       "    </tr>\n",
       "    <tr>\n",
       "      <th>1</th>\n",
       "      <td>U.S. military to accept transgender recruits o...</td>\n",
       "      <td>WASHINGTON (Reuters) - Transgender people will...</td>\n",
       "      <td>politicsNews</td>\n",
       "      <td>December 29, 2017</td>\n",
       "      <td>0</td>\n",
       "    </tr>\n",
       "    <tr>\n",
       "      <th>2</th>\n",
       "      <td>Senior U.S. Republican senator: 'Let Mr. Muell...</td>\n",
       "      <td>WASHINGTON (Reuters) - The special counsel inv...</td>\n",
       "      <td>politicsNews</td>\n",
       "      <td>December 31, 2017</td>\n",
       "      <td>0</td>\n",
       "    </tr>\n",
       "    <tr>\n",
       "      <th>3</th>\n",
       "      <td>FBI Russia probe helped by Australian diplomat...</td>\n",
       "      <td>WASHINGTON (Reuters) - Trump campaign adviser ...</td>\n",
       "      <td>politicsNews</td>\n",
       "      <td>December 30, 2017</td>\n",
       "      <td>0</td>\n",
       "    </tr>\n",
       "    <tr>\n",
       "      <th>4</th>\n",
       "      <td>Trump wants Postal Service to charge 'much mor...</td>\n",
       "      <td>SEATTLE/WASHINGTON (Reuters) - President Donal...</td>\n",
       "      <td>politicsNews</td>\n",
       "      <td>December 29, 2017</td>\n",
       "      <td>0</td>\n",
       "    </tr>\n",
       "  </tbody>\n",
       "</table>\n",
       "</div>"
      ],
      "text/plain": [
       "                                               title  \\\n",
       "0  As U.S. budget fight looms, Republicans flip t...   \n",
       "1  U.S. military to accept transgender recruits o...   \n",
       "2  Senior U.S. Republican senator: 'Let Mr. Muell...   \n",
       "3  FBI Russia probe helped by Australian diplomat...   \n",
       "4  Trump wants Postal Service to charge 'much mor...   \n",
       "\n",
       "                                                text       subject  \\\n",
       "0  WASHINGTON (Reuters) - The head of a conservat...  politicsNews   \n",
       "1  WASHINGTON (Reuters) - Transgender people will...  politicsNews   \n",
       "2  WASHINGTON (Reuters) - The special counsel inv...  politicsNews   \n",
       "3  WASHINGTON (Reuters) - Trump campaign adviser ...  politicsNews   \n",
       "4  SEATTLE/WASHINGTON (Reuters) - President Donal...  politicsNews   \n",
       "\n",
       "                 date  fake  \n",
       "0  December 31, 2017      0  \n",
       "1  December 29, 2017      0  \n",
       "2  December 31, 2017      0  \n",
       "3  December 30, 2017      0  \n",
       "4  December 29, 2017      0  "
      ]
     },
     "execution_count": 5,
     "metadata": {},
     "output_type": "execute_result"
    }
   ],
   "source": [
    "true_news['fake'] = 0\n",
    "true_news.head()"
   ]
  },
  {
   "cell_type": "code",
   "execution_count": 6,
   "id": "5cea5af3",
   "metadata": {
    "execution": {
     "iopub.execute_input": "2022-01-14T12:12:54.212983Z",
     "iopub.status.busy": "2022-01-14T12:12:54.212308Z",
     "iopub.status.idle": "2022-01-14T12:12:54.230547Z",
     "shell.execute_reply": "2022-01-14T12:12:54.230128Z",
     "shell.execute_reply.started": "2022-01-14T11:45:55.350438Z"
    },
    "papermill": {
     "duration": 0.045853,
     "end_time": "2022-01-14T12:12:54.230673",
     "exception": false,
     "start_time": "2022-01-14T12:12:54.184820",
     "status": "completed"
    },
    "tags": []
   },
   "outputs": [
    {
     "data": {
      "text/html": [
       "<div>\n",
       "<style scoped>\n",
       "    .dataframe tbody tr th:only-of-type {\n",
       "        vertical-align: middle;\n",
       "    }\n",
       "\n",
       "    .dataframe tbody tr th {\n",
       "        vertical-align: top;\n",
       "    }\n",
       "\n",
       "    .dataframe thead th {\n",
       "        text-align: right;\n",
       "    }\n",
       "</style>\n",
       "<table border=\"1\" class=\"dataframe\">\n",
       "  <thead>\n",
       "    <tr style=\"text-align: right;\">\n",
       "      <th></th>\n",
       "      <th>title</th>\n",
       "      <th>text</th>\n",
       "      <th>subject</th>\n",
       "      <th>date</th>\n",
       "      <th>fake</th>\n",
       "    </tr>\n",
       "  </thead>\n",
       "  <tbody>\n",
       "    <tr>\n",
       "      <th>10740</th>\n",
       "      <td>RUSH LIMBAUGH: This Group is “Roadblocking” Tr...</td>\n",
       "      <td>Rush Limbaugh nails it in the transcript below...</td>\n",
       "      <td>politics</td>\n",
       "      <td>May 31, 2017</td>\n",
       "      <td>1</td>\n",
       "    </tr>\n",
       "    <tr>\n",
       "      <th>7608</th>\n",
       "      <td>Gun control groups spend millions on state bal...</td>\n",
       "      <td>NEW YORK (Reuters) - Gun safety advocates are ...</td>\n",
       "      <td>politicsNews</td>\n",
       "      <td>November 2, 2016</td>\n",
       "      <td>0</td>\n",
       "    </tr>\n",
       "    <tr>\n",
       "      <th>20903</th>\n",
       "      <td>THE VIDEO HILLARY CLINTON Does NOT Want You To...</td>\n",
       "      <td>Spread this EVERYWHERE!</td>\n",
       "      <td>left-news</td>\n",
       "      <td>Mar 9, 2016</td>\n",
       "      <td>1</td>\n",
       "    </tr>\n",
       "    <tr>\n",
       "      <th>6626</th>\n",
       "      <td>In Trump cabinet, Commerce Secretary will run ...</td>\n",
       "      <td>WEST PALM BEACH, Fla./WASHINGTON (Reuters) - U...</td>\n",
       "      <td>politicsNews</td>\n",
       "      <td>December 20, 2016</td>\n",
       "      <td>0</td>\n",
       "    </tr>\n",
       "    <tr>\n",
       "      <th>3748</th>\n",
       "      <td>Senate Judiciary Committee seeks Comey memos, ...</td>\n",
       "      <td>WASHINGTON (Reuters) - The Senate Judiciary Co...</td>\n",
       "      <td>politicsNews</td>\n",
       "      <td>May 17, 2017</td>\n",
       "      <td>0</td>\n",
       "    </tr>\n",
       "  </tbody>\n",
       "</table>\n",
       "</div>"
      ],
      "text/plain": [
       "                                                   title  \\\n",
       "10740  RUSH LIMBAUGH: This Group is “Roadblocking” Tr...   \n",
       "7608   Gun control groups spend millions on state bal...   \n",
       "20903  THE VIDEO HILLARY CLINTON Does NOT Want You To...   \n",
       "6626   In Trump cabinet, Commerce Secretary will run ...   \n",
       "3748   Senate Judiciary Committee seeks Comey memos, ...   \n",
       "\n",
       "                                                    text       subject  \\\n",
       "10740  Rush Limbaugh nails it in the transcript below...      politics   \n",
       "7608   NEW YORK (Reuters) - Gun safety advocates are ...  politicsNews   \n",
       "20903                           Spread this EVERYWHERE!      left-news   \n",
       "6626   WEST PALM BEACH, Fla./WASHINGTON (Reuters) - U...  politicsNews   \n",
       "3748   WASHINGTON (Reuters) - The Senate Judiciary Co...  politicsNews   \n",
       "\n",
       "                     date  fake  \n",
       "10740        May 31, 2017     1  \n",
       "7608    November 2, 2016      0  \n",
       "20903         Mar 9, 2016     1  \n",
       "6626   December 20, 2016      0  \n",
       "3748        May 17, 2017      0  "
      ]
     },
     "execution_count": 6,
     "metadata": {},
     "output_type": "execute_result"
    }
   ],
   "source": [
    "news = pd.concat([fake_news, true_news])\n",
    "news.sample(5)"
   ]
  },
  {
   "cell_type": "code",
   "execution_count": 7,
   "id": "3b8d0804",
   "metadata": {
    "execution": {
     "iopub.execute_input": "2022-01-14T12:12:54.302816Z",
     "iopub.status.busy": "2022-01-14T12:12:54.302030Z",
     "iopub.status.idle": "2022-01-14T12:12:54.307548Z",
     "shell.execute_reply": "2022-01-14T12:12:54.307969Z",
     "shell.execute_reply.started": "2022-01-14T11:45:55.376420Z"
    },
    "papermill": {
     "duration": 0.052979,
     "end_time": "2022-01-14T12:12:54.308094",
     "exception": false,
     "start_time": "2022-01-14T12:12:54.255115",
     "status": "completed"
    },
    "tags": []
   },
   "outputs": [
    {
     "data": {
      "text/plain": [
       "title      0\n",
       "text       0\n",
       "subject    0\n",
       "date       0\n",
       "fake       0\n",
       "dtype: int64"
      ]
     },
     "execution_count": 7,
     "metadata": {},
     "output_type": "execute_result"
    }
   ],
   "source": [
    "news.isna().sum()"
   ]
  },
  {
   "cell_type": "code",
   "execution_count": 8,
   "id": "750320ad",
   "metadata": {
    "execution": {
     "iopub.execute_input": "2022-01-14T12:12:54.361902Z",
     "iopub.status.busy": "2022-01-14T12:12:54.361143Z",
     "iopub.status.idle": "2022-01-14T12:12:54.612516Z",
     "shell.execute_reply": "2022-01-14T12:12:54.612979Z",
     "shell.execute_reply.started": "2022-01-14T11:45:55.408334Z"
    },
    "papermill": {
     "duration": 0.280321,
     "end_time": "2022-01-14T12:12:54.613137",
     "exception": false,
     "start_time": "2022-01-14T12:12:54.332816",
     "status": "completed"
    },
    "tags": []
   },
   "outputs": [
    {
     "data": {
      "text/html": [
       "<div>\n",
       "<style scoped>\n",
       "    .dataframe tbody tr th:only-of-type {\n",
       "        vertical-align: middle;\n",
       "    }\n",
       "\n",
       "    .dataframe tbody tr th {\n",
       "        vertical-align: top;\n",
       "    }\n",
       "\n",
       "    .dataframe thead th {\n",
       "        text-align: right;\n",
       "    }\n",
       "</style>\n",
       "<table border=\"1\" class=\"dataframe\">\n",
       "  <thead>\n",
       "    <tr style=\"text-align: right;\">\n",
       "      <th></th>\n",
       "      <th>title</th>\n",
       "      <th>text</th>\n",
       "      <th>subject</th>\n",
       "      <th>date</th>\n",
       "      <th>fake</th>\n",
       "      <th>Year</th>\n",
       "      <th>Month</th>\n",
       "    </tr>\n",
       "  </thead>\n",
       "  <tbody>\n",
       "    <tr>\n",
       "      <th>0</th>\n",
       "      <td>Donald Trump Sends Out Embarrassing New Year’...</td>\n",
       "      <td>Donald Trump just couldn t wish all Americans ...</td>\n",
       "      <td>News</td>\n",
       "      <td>2017-12-31</td>\n",
       "      <td>1</td>\n",
       "      <td>2017.0</td>\n",
       "      <td>12.0</td>\n",
       "    </tr>\n",
       "    <tr>\n",
       "      <th>1</th>\n",
       "      <td>Drunk Bragging Trump Staffer Started Russian ...</td>\n",
       "      <td>House Intelligence Committee Chairman Devin Nu...</td>\n",
       "      <td>News</td>\n",
       "      <td>2017-12-31</td>\n",
       "      <td>1</td>\n",
       "      <td>2017.0</td>\n",
       "      <td>12.0</td>\n",
       "    </tr>\n",
       "    <tr>\n",
       "      <th>2</th>\n",
       "      <td>Sheriff David Clarke Becomes An Internet Joke...</td>\n",
       "      <td>On Friday, it was revealed that former Milwauk...</td>\n",
       "      <td>News</td>\n",
       "      <td>2017-12-30</td>\n",
       "      <td>1</td>\n",
       "      <td>2017.0</td>\n",
       "      <td>12.0</td>\n",
       "    </tr>\n",
       "    <tr>\n",
       "      <th>3</th>\n",
       "      <td>Trump Is So Obsessed He Even Has Obama’s Name...</td>\n",
       "      <td>On Christmas day, Donald Trump announced that ...</td>\n",
       "      <td>News</td>\n",
       "      <td>2017-12-29</td>\n",
       "      <td>1</td>\n",
       "      <td>2017.0</td>\n",
       "      <td>12.0</td>\n",
       "    </tr>\n",
       "    <tr>\n",
       "      <th>4</th>\n",
       "      <td>Pope Francis Just Called Out Donald Trump Dur...</td>\n",
       "      <td>Pope Francis used his annual Christmas Day mes...</td>\n",
       "      <td>News</td>\n",
       "      <td>2017-12-25</td>\n",
       "      <td>1</td>\n",
       "      <td>2017.0</td>\n",
       "      <td>12.0</td>\n",
       "    </tr>\n",
       "  </tbody>\n",
       "</table>\n",
       "</div>"
      ],
      "text/plain": [
       "                                               title  \\\n",
       "0   Donald Trump Sends Out Embarrassing New Year’...   \n",
       "1   Drunk Bragging Trump Staffer Started Russian ...   \n",
       "2   Sheriff David Clarke Becomes An Internet Joke...   \n",
       "3   Trump Is So Obsessed He Even Has Obama’s Name...   \n",
       "4   Pope Francis Just Called Out Donald Trump Dur...   \n",
       "\n",
       "                                                text subject       date  fake  \\\n",
       "0  Donald Trump just couldn t wish all Americans ...    News 2017-12-31     1   \n",
       "1  House Intelligence Committee Chairman Devin Nu...    News 2017-12-31     1   \n",
       "2  On Friday, it was revealed that former Milwauk...    News 2017-12-30     1   \n",
       "3  On Christmas day, Donald Trump announced that ...    News 2017-12-29     1   \n",
       "4  Pope Francis used his annual Christmas Day mes...    News 2017-12-25     1   \n",
       "\n",
       "     Year  Month  \n",
       "0  2017.0   12.0  \n",
       "1  2017.0   12.0  \n",
       "2  2017.0   12.0  \n",
       "3  2017.0   12.0  \n",
       "4  2017.0   12.0  "
      ]
     },
     "execution_count": 8,
     "metadata": {},
     "output_type": "execute_result"
    }
   ],
   "source": [
    "news['date'] = pd.to_datetime(news['date'], errors='coerce')\n",
    "news['Year'] = news['date'].dt.year\n",
    "news['Month'] = news['date'].dt.month\n",
    "\n",
    "news.head()"
   ]
  },
  {
   "cell_type": "code",
   "execution_count": 9,
   "id": "ebaa4d46",
   "metadata": {
    "execution": {
     "iopub.execute_input": "2022-01-14T12:12:54.794117Z",
     "iopub.status.busy": "2022-01-14T12:12:54.669509Z",
     "iopub.status.idle": "2022-01-14T12:12:54.812638Z",
     "shell.execute_reply": "2022-01-14T12:12:54.813025Z",
     "shell.execute_reply.started": "2022-01-14T11:45:55.667234Z"
    },
    "papermill": {
     "duration": 0.174352,
     "end_time": "2022-01-14T12:12:54.813174",
     "exception": false,
     "start_time": "2022-01-14T12:12:54.638822",
     "status": "completed"
    },
    "tags": []
   },
   "outputs": [
    {
     "data": {
      "text/html": [
       "<div>\n",
       "<style scoped>\n",
       "    .dataframe tbody tr th:only-of-type {\n",
       "        vertical-align: middle;\n",
       "    }\n",
       "\n",
       "    .dataframe tbody tr th {\n",
       "        vertical-align: top;\n",
       "    }\n",
       "\n",
       "    .dataframe thead th {\n",
       "        text-align: right;\n",
       "    }\n",
       "</style>\n",
       "<table border=\"1\" class=\"dataframe\">\n",
       "  <thead>\n",
       "    <tr style=\"text-align: right;\">\n",
       "      <th></th>\n",
       "      <th>text</th>\n",
       "      <th>subject</th>\n",
       "      <th>date</th>\n",
       "      <th>fake</th>\n",
       "      <th>Year</th>\n",
       "      <th>Month</th>\n",
       "    </tr>\n",
       "  </thead>\n",
       "  <tbody>\n",
       "    <tr>\n",
       "      <th>0</th>\n",
       "      <td>Donald Trump Sends Out Embarrassing New Year’...</td>\n",
       "      <td>News</td>\n",
       "      <td>2017-12-31</td>\n",
       "      <td>1</td>\n",
       "      <td>2017.0</td>\n",
       "      <td>12.0</td>\n",
       "    </tr>\n",
       "    <tr>\n",
       "      <th>1</th>\n",
       "      <td>Drunk Bragging Trump Staffer Started Russian ...</td>\n",
       "      <td>News</td>\n",
       "      <td>2017-12-31</td>\n",
       "      <td>1</td>\n",
       "      <td>2017.0</td>\n",
       "      <td>12.0</td>\n",
       "    </tr>\n",
       "    <tr>\n",
       "      <th>2</th>\n",
       "      <td>Sheriff David Clarke Becomes An Internet Joke...</td>\n",
       "      <td>News</td>\n",
       "      <td>2017-12-30</td>\n",
       "      <td>1</td>\n",
       "      <td>2017.0</td>\n",
       "      <td>12.0</td>\n",
       "    </tr>\n",
       "    <tr>\n",
       "      <th>3</th>\n",
       "      <td>Trump Is So Obsessed He Even Has Obama’s Name...</td>\n",
       "      <td>News</td>\n",
       "      <td>2017-12-29</td>\n",
       "      <td>1</td>\n",
       "      <td>2017.0</td>\n",
       "      <td>12.0</td>\n",
       "    </tr>\n",
       "    <tr>\n",
       "      <th>4</th>\n",
       "      <td>Pope Francis Just Called Out Donald Trump Dur...</td>\n",
       "      <td>News</td>\n",
       "      <td>2017-12-25</td>\n",
       "      <td>1</td>\n",
       "      <td>2017.0</td>\n",
       "      <td>12.0</td>\n",
       "    </tr>\n",
       "  </tbody>\n",
       "</table>\n",
       "</div>"
      ],
      "text/plain": [
       "                                                text subject       date  fake  \\\n",
       "0   Donald Trump Sends Out Embarrassing New Year’...    News 2017-12-31     1   \n",
       "1   Drunk Bragging Trump Staffer Started Russian ...    News 2017-12-31     1   \n",
       "2   Sheriff David Clarke Becomes An Internet Joke...    News 2017-12-30     1   \n",
       "3   Trump Is So Obsessed He Even Has Obama’s Name...    News 2017-12-29     1   \n",
       "4   Pope Francis Just Called Out Donald Trump Dur...    News 2017-12-25     1   \n",
       "\n",
       "     Year  Month  \n",
       "0  2017.0   12.0  \n",
       "1  2017.0   12.0  \n",
       "2  2017.0   12.0  \n",
       "3  2017.0   12.0  \n",
       "4  2017.0   12.0  "
      ]
     },
     "execution_count": 9,
     "metadata": {},
     "output_type": "execute_result"
    }
   ],
   "source": [
    "news['text'] = news['title'] + news['text']\n",
    "news.drop(labels=['title'], axis=1,inplace=True)\n",
    "news.head()"
   ]
  },
  {
   "cell_type": "code",
   "execution_count": 10,
   "id": "f8bd7fbc",
   "metadata": {
    "execution": {
     "iopub.execute_input": "2022-01-14T12:12:54.874573Z",
     "iopub.status.busy": "2022-01-14T12:12:54.873752Z",
     "iopub.status.idle": "2022-01-14T12:12:54.877315Z",
     "shell.execute_reply": "2022-01-14T12:12:54.877771Z",
     "shell.execute_reply.started": "2022-01-14T11:45:55.828422Z"
    },
    "papermill": {
     "duration": 0.038383,
     "end_time": "2022-01-14T12:12:54.877896",
     "exception": false,
     "start_time": "2022-01-14T12:12:54.839513",
     "status": "completed"
    },
    "tags": []
   },
   "outputs": [
    {
     "data": {
      "text/html": [
       "<div>\n",
       "<style scoped>\n",
       "    .dataframe tbody tr th:only-of-type {\n",
       "        vertical-align: middle;\n",
       "    }\n",
       "\n",
       "    .dataframe tbody tr th {\n",
       "        vertical-align: top;\n",
       "    }\n",
       "\n",
       "    .dataframe thead th {\n",
       "        text-align: right;\n",
       "    }\n",
       "</style>\n",
       "<table border=\"1\" class=\"dataframe\">\n",
       "  <thead>\n",
       "    <tr style=\"text-align: right;\">\n",
       "      <th></th>\n",
       "      <th>text</th>\n",
       "      <th>fake</th>\n",
       "    </tr>\n",
       "  </thead>\n",
       "  <tbody>\n",
       "    <tr>\n",
       "      <th>0</th>\n",
       "      <td>Donald Trump Sends Out Embarrassing New Year’...</td>\n",
       "      <td>1</td>\n",
       "    </tr>\n",
       "    <tr>\n",
       "      <th>1</th>\n",
       "      <td>Drunk Bragging Trump Staffer Started Russian ...</td>\n",
       "      <td>1</td>\n",
       "    </tr>\n",
       "    <tr>\n",
       "      <th>2</th>\n",
       "      <td>Sheriff David Clarke Becomes An Internet Joke...</td>\n",
       "      <td>1</td>\n",
       "    </tr>\n",
       "    <tr>\n",
       "      <th>3</th>\n",
       "      <td>Trump Is So Obsessed He Even Has Obama’s Name...</td>\n",
       "      <td>1</td>\n",
       "    </tr>\n",
       "    <tr>\n",
       "      <th>4</th>\n",
       "      <td>Pope Francis Just Called Out Donald Trump Dur...</td>\n",
       "      <td>1</td>\n",
       "    </tr>\n",
       "  </tbody>\n",
       "</table>\n",
       "</div>"
      ],
      "text/plain": [
       "                                                text  fake\n",
       "0   Donald Trump Sends Out Embarrassing New Year’...     1\n",
       "1   Drunk Bragging Trump Staffer Started Russian ...     1\n",
       "2   Sheriff David Clarke Becomes An Internet Joke...     1\n",
       "3   Trump Is So Obsessed He Even Has Obama’s Name...     1\n",
       "4   Pope Francis Just Called Out Donald Trump Dur...     1"
      ]
     },
     "execution_count": 10,
     "metadata": {},
     "output_type": "execute_result"
    }
   ],
   "source": [
    "news.drop(labels=['subject','date', 'Year','Month'], axis=1, inplace=True)\n",
    "news.head()"
   ]
  },
  {
   "cell_type": "code",
   "execution_count": 11,
   "id": "d4788a05",
   "metadata": {
    "execution": {
     "iopub.execute_input": "2022-01-14T12:12:54.934666Z",
     "iopub.status.busy": "2022-01-14T12:12:54.934140Z",
     "iopub.status.idle": "2022-01-14T12:12:54.944430Z",
     "shell.execute_reply": "2022-01-14T12:12:54.944003Z",
     "shell.execute_reply.started": "2022-01-14T11:45:55.845157Z"
    },
    "papermill": {
     "duration": 0.040341,
     "end_time": "2022-01-14T12:12:54.944529",
     "exception": false,
     "start_time": "2022-01-14T12:12:54.904188",
     "status": "completed"
    },
    "tags": []
   },
   "outputs": [
    {
     "data": {
      "text/html": [
       "<div>\n",
       "<style scoped>\n",
       "    .dataframe tbody tr th:only-of-type {\n",
       "        vertical-align: middle;\n",
       "    }\n",
       "\n",
       "    .dataframe tbody tr th {\n",
       "        vertical-align: top;\n",
       "    }\n",
       "\n",
       "    .dataframe thead th {\n",
       "        text-align: right;\n",
       "    }\n",
       "</style>\n",
       "<table border=\"1\" class=\"dataframe\">\n",
       "  <thead>\n",
       "    <tr style=\"text-align: right;\">\n",
       "      <th></th>\n",
       "      <th>text</th>\n",
       "      <th>fake</th>\n",
       "    </tr>\n",
       "  </thead>\n",
       "  <tbody>\n",
       "    <tr>\n",
       "      <th>7726</th>\n",
       "      <td>Trump will accept election results if it's fai...</td>\n",
       "      <td>0</td>\n",
       "    </tr>\n",
       "    <tr>\n",
       "      <th>18738</th>\n",
       "      <td>POPULAR YOUTUBE PERSONALITY Goes Undercover Wi...</td>\n",
       "      <td>1</td>\n",
       "    </tr>\n",
       "    <tr>\n",
       "      <th>12116</th>\n",
       "      <td>Argentina fires head of navy over submarine tr...</td>\n",
       "      <td>0</td>\n",
       "    </tr>\n",
       "    <tr>\n",
       "      <th>10853</th>\n",
       "      <td>House seen passing North Korea sanctions bill ...</td>\n",
       "      <td>0</td>\n",
       "    </tr>\n",
       "    <tr>\n",
       "      <th>14340</th>\n",
       "      <td>HILLARY TO OBAMA: “call off your f–king dogs”A...</td>\n",
       "      <td>1</td>\n",
       "    </tr>\n",
       "  </tbody>\n",
       "</table>\n",
       "</div>"
      ],
      "text/plain": [
       "                                                    text  fake\n",
       "7726   Trump will accept election results if it's fai...     0\n",
       "18738  POPULAR YOUTUBE PERSONALITY Goes Undercover Wi...     1\n",
       "12116  Argentina fires head of navy over submarine tr...     0\n",
       "10853  House seen passing North Korea sanctions bill ...     0\n",
       "14340  HILLARY TO OBAMA: “call off your f–king dogs”A...     1"
      ]
     },
     "execution_count": 11,
     "metadata": {},
     "output_type": "execute_result"
    }
   ],
   "source": [
    "news = news.sample(frac=1)\n",
    "news.head()"
   ]
  },
  {
   "cell_type": "code",
   "execution_count": 12,
   "id": "b39228c7",
   "metadata": {
    "execution": {
     "iopub.execute_input": "2022-01-14T12:12:55.003623Z",
     "iopub.status.busy": "2022-01-14T12:12:55.003135Z",
     "iopub.status.idle": "2022-01-14T12:12:55.148201Z",
     "shell.execute_reply": "2022-01-14T12:12:55.147511Z",
     "shell.execute_reply.started": "2022-01-14T11:45:55.862751Z"
    },
    "papermill": {
     "duration": 0.175521,
     "end_time": "2022-01-14T12:12:55.148338",
     "exception": false,
     "start_time": "2022-01-14T12:12:54.972817",
     "status": "completed"
    },
    "tags": []
   },
   "outputs": [],
   "source": [
    "from sklearn.model_selection import train_test_split\n",
    "\n",
    "train_sentences, val_sentences, train_labels, val_labels=train_test_split(news['text'].to_numpy(),\n",
    "                                                                            news['fake'].to_numpy(),\n",
    "                                                                            test_size=0.25,\n",
    "                                                                            random_state=42)"
   ]
  },
  {
   "cell_type": "code",
   "execution_count": 13,
   "id": "3fe1305a",
   "metadata": {
    "execution": {
     "iopub.execute_input": "2022-01-14T12:12:55.209031Z",
     "iopub.status.busy": "2022-01-14T12:12:55.208189Z",
     "iopub.status.idle": "2022-01-14T12:12:58.496305Z",
     "shell.execute_reply": "2022-01-14T12:12:58.496966Z",
     "shell.execute_reply.started": "2022-01-14T11:45:56.004857Z"
    },
    "papermill": {
     "duration": 3.321637,
     "end_time": "2022-01-14T12:12:58.497163",
     "exception": false,
     "start_time": "2022-01-14T12:12:55.175526",
     "status": "completed"
    },
    "tags": []
   },
   "outputs": [
    {
     "name": "stderr",
     "output_type": "stream",
     "text": [
      "2022-01-14 12:12:56.125777: I tensorflow/stream_executor/cuda/cuda_gpu_executor.cc:937] successful NUMA node read from SysFS had negative value (-1), but there must be at least one NUMA node, so returning NUMA node zero\n",
      "2022-01-14 12:12:56.238545: I tensorflow/stream_executor/cuda/cuda_gpu_executor.cc:937] successful NUMA node read from SysFS had negative value (-1), but there must be at least one NUMA node, so returning NUMA node zero\n",
      "2022-01-14 12:12:56.239258: I tensorflow/stream_executor/cuda/cuda_gpu_executor.cc:937] successful NUMA node read from SysFS had negative value (-1), but there must be at least one NUMA node, so returning NUMA node zero\n",
      "2022-01-14 12:12:56.240337: I tensorflow/core/platform/cpu_feature_guard.cc:142] This TensorFlow binary is optimized with oneAPI Deep Neural Network Library (oneDNN) to use the following CPU instructions in performance-critical operations:  AVX2 AVX512F FMA\n",
      "To enable them in other operations, rebuild TensorFlow with the appropriate compiler flags.\n",
      "2022-01-14 12:12:56.241303: I tensorflow/stream_executor/cuda/cuda_gpu_executor.cc:937] successful NUMA node read from SysFS had negative value (-1), but there must be at least one NUMA node, so returning NUMA node zero\n",
      "2022-01-14 12:12:56.241996: I tensorflow/stream_executor/cuda/cuda_gpu_executor.cc:937] successful NUMA node read from SysFS had negative value (-1), but there must be at least one NUMA node, so returning NUMA node zero\n",
      "2022-01-14 12:12:56.242598: I tensorflow/stream_executor/cuda/cuda_gpu_executor.cc:937] successful NUMA node read from SysFS had negative value (-1), but there must be at least one NUMA node, so returning NUMA node zero\n",
      "2022-01-14 12:12:58.179046: I tensorflow/stream_executor/cuda/cuda_gpu_executor.cc:937] successful NUMA node read from SysFS had negative value (-1), but there must be at least one NUMA node, so returning NUMA node zero\n",
      "2022-01-14 12:12:58.179852: I tensorflow/stream_executor/cuda/cuda_gpu_executor.cc:937] successful NUMA node read from SysFS had negative value (-1), but there must be at least one NUMA node, so returning NUMA node zero\n",
      "2022-01-14 12:12:58.180536: I tensorflow/stream_executor/cuda/cuda_gpu_executor.cc:937] successful NUMA node read from SysFS had negative value (-1), but there must be at least one NUMA node, so returning NUMA node zero\n",
      "2022-01-14 12:12:58.181128: I tensorflow/core/common_runtime/gpu/gpu_device.cc:1510] Created device /job:localhost/replica:0/task:0/device:GPU:0 with 15403 MB memory:  -> device: 0, name: Tesla P100-PCIE-16GB, pci bus id: 0000:00:04.0, compute capability: 6.0\n"
     ]
    }
   ],
   "source": [
    "max_vocab_length = 10000\n",
    "max_length = 418\n",
    "\n",
    "\n",
    "from tensorflow.keras.layers.experimental.preprocessing import TextVectorization\n",
    "text_vectorizer = TextVectorization(max_tokens=max_vocab_length,\n",
    "                                   output_mode='int',\n",
    "                                   output_sequence_length=max_length)"
   ]
  },
  {
   "cell_type": "code",
   "execution_count": 14,
   "id": "479cacc7",
   "metadata": {
    "execution": {
     "iopub.execute_input": "2022-01-14T12:12:58.557585Z",
     "iopub.status.busy": "2022-01-14T12:12:58.557076Z",
     "iopub.status.idle": "2022-01-14T12:13:03.965452Z",
     "shell.execute_reply": "2022-01-14T12:13:03.965980Z",
     "shell.execute_reply.started": "2022-01-14T11:45:58.654001Z"
    },
    "papermill": {
     "duration": 5.439832,
     "end_time": "2022-01-14T12:13:03.966161",
     "exception": false,
     "start_time": "2022-01-14T12:12:58.526329",
     "status": "completed"
    },
    "tags": []
   },
   "outputs": [
    {
     "name": "stderr",
     "output_type": "stream",
     "text": [
      "2022-01-14 12:12:58.765860: I tensorflow/compiler/mlir/mlir_graph_optimization_pass.cc:185] None of the MLIR Optimization Passes are enabled (registered 2)\n"
     ]
    }
   ],
   "source": [
    "text_vectorizer.adapt(train_sentences)"
   ]
  },
  {
   "cell_type": "code",
   "execution_count": 15,
   "id": "19eab0d0",
   "metadata": {
    "execution": {
     "iopub.execute_input": "2022-01-14T12:13:04.031124Z",
     "iopub.status.busy": "2022-01-14T12:13:04.030523Z",
     "iopub.status.idle": "2022-01-14T12:13:04.090680Z",
     "shell.execute_reply": "2022-01-14T12:13:04.091246Z",
     "shell.execute_reply.started": "2022-01-14T11:46:03.907795Z"
    },
    "papermill": {
     "duration": 0.094659,
     "end_time": "2022-01-14T12:13:04.091395",
     "exception": false,
     "start_time": "2022-01-14T12:13:03.996736",
     "status": "completed"
    },
    "tags": []
   },
   "outputs": [
    {
     "name": "stdout",
     "output_type": "stream",
     "text": [
      "Original text;\n",
      "Walmart, Target join call for 'Dreamer' legislation(Reuters) - Wal-Mart Stores Inc, Target Corp and PepsiCo Inc on Wednesday joined an expanded group of nearly 800 companies calling in a letter for U.S. legislation to protect immigrants brought into the country illegally by their parents from deportation, according to organizer FWD.us. The retailers and other companies asking Congress to pass a permanent replacement for Deferred Action for Childhood Arrivals, or DACA, reflect broadening pressure on political leaders to find a solution for the roughly 800,000 immigrants known as “Dreamers”.  A group of businesses less than half the size and weighted toward technology companies sent a similar letter in August, before President Donald Trump said he would end the program. The new letter reflects Trump’s decision and asks for a permanent solution to let DACA recipients remain in the United States. Trump said that DACA immigrants who have work permits that expire before March can apply to renew them for another two years, if they do so before Oct. 5. Both letters were spearheaded by FWD.us, a pro-immigration group co-founded by Facebook Inc Chief Executive Mark Zuckerberg. The very first incarnation of the letter included signatories from major technology companies such as Apple Inc, Microsoft Corp and Amazon.com and Alphabet Inc’s Google. But over the course of several days, a much broader swath of the U.S. economy, from media firm Viacom to private equity firm TPG signed on. The newer letter adds firms like biotech firm Becton, Dickinson and Co, according to a copy of the letter and signatures seen by Reuters. “That you see business leaders from every major sector of the economy come out and ask Congress to pass a permanent fix for DACA right away shows that this is a bipartisan issue that has strong support,” Todd Schulte, president of FWD.us, told Reuters. The new letter calls on Congress to “immediately pass the bipartisan DREAM Act - or similar legislation - that gives Dreamers the permanent legislative solution they deserve.” The DREAM Act, first introduced in Congress in 2001, would provide Dreamers with a way to become U.S. citizens after first becoming permanent residents. DACA, a set of executive actions introduced by President Barack Obama in 2012, didn’t include a pathway to citizenship, which would require an act of Congress. Some conservatives in particular object to offering  citizenship to DACA recipients. Activists including United We Dream also are encouraging DACA recipients and companies they work for to be public about their situation. Enrique Ramirez was brought to the United States from Mexico when he was two years old. He graduated from Harvard University and is now attending law school at the University of Texas at Austin. “There’s been so much money invested in me by this country, wouldn’t even a conservative person want me to contribute to my community here?” Ramirez said. DACA shields recipients from deportation and allowed them to work and attend school legally if certain requirements were met. Speaking on ABC television on Sept. 19, Apple CEO Tim Cook said he was “encouraged” that leading Democrats and Republican President Trump have said they are near a deal on DACA legislation. Apple has said it has 250 DACA beneficiaries among its ranks.  “We think it’s essential that we not only let them stay in this country, but welcome them,” Cook said of DACA recipients. “I am encouraged that Congress will pass a law to make this permanent.” Other tech companies are looking to pair with local groups to help DACA recipients. Ride-haling firm Uber Technologies Inc [UBER.UL] said that is holding a series of town-hall meetings in 10 cities to answer drivers’ questions about DACA changes, and that it plans to donate $500,000 to local groups that can help drivers with issues like paperwork and application fees. \n",
      "\n",
      " Vectorized Version:\n"
     ]
    },
    {
     "data": {
      "text/plain": [
       "<tf.Tensor: shape=(1, 418), dtype=int64, numpy=\n",
       "array([[6424, 1150, 1316,  301,   10,    1,    1, 6424, 4408, 1289, 1150,\n",
       "        2144,    5,    1, 1289,    9,  202, 1488,   32, 3078,  157,    4,\n",
       "         589, 4576,  435,  544,    7,    6,  532,   10,   31,  469,    3,\n",
       "         713,  663,  876,   85,    2,  114, 1818,   21,   41, 1177,   26,\n",
       "        3187,  167,    3, 5139,    1,    2, 7251,    5,   81,  435, 1027,\n",
       "         195,    3,  939,    6, 2337, 2808,   10, 6362,  443,   10, 4872,\n",
       "        4404,   48, 2941, 3636,    1,  839,    9,  125,  283,    3,  536,\n",
       "           6, 1700,   10,    2, 2438, 7439,  663,  418,   19,    1,    6,\n",
       "         157,    4, 1110,  541,   78,  950,    2, 2828,    5,    1,  885,\n",
       "        1466,  435,  584,    6,  995,  532,    7,  643,  113,   39,   69,\n",
       "          15,   14,   13,   35,  260,    2,  339,    2,   60,  532, 4906,\n",
       "         153,  284,    5, 2430,   10,    6, 2337, 1700,    3,  406, 2941,\n",
       "        4959,  979,    7,    2,   87,   76,   15,   14,    8, 2941,  663,\n",
       "          30,   24,  207, 4594,    8, 5109,  113,  357,   75, 2217,    3,\n",
       "        6585,   94,   10,  197,   98,  121,   57,   33,   92,   80,  113,\n",
       "        1356,  837,  191, 4130,   47, 8207,   21,    1,    6,    1,  157,\n",
       "           1,   21,  534, 1289,  303,  383,  927, 6017,    2,  144,  105,\n",
       "           1,    4,    2,  532,  929, 9342,   26,  336, 1466,  435,  165,\n",
       "          19, 3068, 1289, 6595, 2144,    5,    1,    5, 7824, 9240, 2216,\n",
       "          34,   65,    2,  478,    4,  293,  297,    6,  199, 2918,    1,\n",
       "           4,    2,   31,  583,   26,  118,  980,    1,    3,  486, 4277,\n",
       "         980,    1,  898,    9,    2,    1,  532, 3671, 2016,   90,    1,\n",
       "         980,    1,    1,    5, 2418,  167,    3,    6, 4446,    4,    2,\n",
       "         532,    5, 7409,  342,   21,   72, 4790,   43,  187,  290,  283,\n",
       "          26,  256,  336, 2000,    4,    2,  583,  254,   55,    5,  957,\n",
       "         195,    3,  939,    6, 2337, 2392,   10, 2941,  180,  399,  707,\n",
       "           8,   28,   12,    6, 2035,  337,    8,   22,  706,    1, 3370,\n",
       "           1,   39,    4,    1,   88,   72,    2,   60,  532,  571,    9,\n",
       "         195,    3,    1,  939,    2, 2035, 3640,  335,   48,  995,  469,\n",
       "           8, 1580, 5110,    2, 2337, 1529, 1700,   33,    1,    2, 3640,\n",
       "         335,  105, 2128,    7,  195,    7, 2716,   35,  744, 5110,   17,\n",
       "           6,  166,    3,  376,   31,  602,   51,  105, 1367, 2337, 1148,\n",
       "        2941,    6,  395,    4,  383,  813, 2128,   21,   39,  328,   74,\n",
       "           7,  807, 3409,  761,    6,    1,    3, 2422,   50,   35, 1622,\n",
       "          32,  335,    4,  195,   83,  694,    7, 1652, 5801,    3, 2414,\n",
       "        2422,    3, 2941, 4959, 1237,  158,   87,   36, 3640,   63,   29,\n",
       "        4142, 2941, 4959,    5,  435,   33,  207,   10,    3,   23,  168,\n",
       "          38,   41,  742, 5530, 8993,   18,  876,    3,    2,   87,   76]])>"
      ]
     },
     "execution_count": 15,
     "metadata": {},
     "output_type": "execute_result"
    }
   ],
   "source": [
    "import random\n",
    "random_sentence = random.choice(train_sentences)\n",
    "print(f\"Original text;\\n{random_sentence}\\\n",
    "\\n\\n Vectorized Version:\")\n",
    "text_vectorizer([random_sentence])"
   ]
  },
  {
   "cell_type": "code",
   "execution_count": 16,
   "id": "13722dfd",
   "metadata": {
    "execution": {
     "iopub.execute_input": "2022-01-14T12:13:04.153238Z",
     "iopub.status.busy": "2022-01-14T12:13:04.152469Z",
     "iopub.status.idle": "2022-01-14T12:13:04.181376Z",
     "shell.execute_reply": "2022-01-14T12:13:04.180941Z",
     "shell.execute_reply.started": "2022-01-14T11:46:03.972612Z"
    },
    "papermill": {
     "duration": 0.06018,
     "end_time": "2022-01-14T12:13:04.181494",
     "exception": false,
     "start_time": "2022-01-14T12:13:04.121314",
     "status": "completed"
    },
    "tags": []
   },
   "outputs": [
    {
     "data": {
      "text/plain": [
       "10000"
      ]
     },
     "execution_count": 16,
     "metadata": {},
     "output_type": "execute_result"
    }
   ],
   "source": [
    "words = text_vectorizer.get_vocabulary()\n",
    "len(words)"
   ]
  },
  {
   "cell_type": "code",
   "execution_count": 17,
   "id": "b66cd421",
   "metadata": {
    "execution": {
     "iopub.execute_input": "2022-01-14T12:13:04.244914Z",
     "iopub.status.busy": "2022-01-14T12:13:04.244202Z",
     "iopub.status.idle": "2022-01-14T12:13:04.246964Z",
     "shell.execute_reply": "2022-01-14T12:13:04.247367Z",
     "shell.execute_reply.started": "2022-01-14T11:46:04.007092Z"
    },
    "papermill": {
     "duration": 0.037917,
     "end_time": "2022-01-14T12:13:04.247500",
     "exception": false,
     "start_time": "2022-01-14T12:13:04.209583",
     "status": "completed"
    },
    "tags": []
   },
   "outputs": [
    {
     "data": {
      "text/plain": [
       "<keras.layers.embeddings.Embedding at 0x7fb72c25a2d0>"
      ]
     },
     "execution_count": 17,
     "metadata": {},
     "output_type": "execute_result"
    }
   ],
   "source": [
    "from tensorflow.keras import layers\n",
    "\n",
    "embedding = layers.Embedding(input_dim=max_vocab_length,\n",
    "                            output_dim=128,\n",
    "                            embeddings_initializer='uniform',\n",
    "                            input_length=max_length)\n",
    "embedding"
   ]
  },
  {
   "cell_type": "code",
   "execution_count": 18,
   "id": "119ae316",
   "metadata": {
    "execution": {
     "iopub.execute_input": "2022-01-14T12:13:04.308608Z",
     "iopub.status.busy": "2022-01-14T12:13:04.308080Z",
     "iopub.status.idle": "2022-01-14T12:13:04.333881Z",
     "shell.execute_reply": "2022-01-14T12:13:04.333418Z",
     "shell.execute_reply.started": "2022-01-14T11:46:04.017784Z"
    },
    "papermill": {
     "duration": 0.058109,
     "end_time": "2022-01-14T12:13:04.334004",
     "exception": false,
     "start_time": "2022-01-14T12:13:04.275895",
     "status": "completed"
    },
    "tags": []
   },
   "outputs": [
    {
     "name": "stdout",
     "output_type": "stream",
     "text": [
      "Original text:\n",
      "Walmart, Target join call for 'Dreamer' legislation(Reuters) - Wal-Mart Stores Inc, Target Corp and PepsiCo Inc on Wednesday joined an expanded group of nearly 800 companies calling in a letter for U.S. legislation to protect immigrants brought into the country illegally by their parents from deportation, according to organizer FWD.us. The retailers and other companies asking Congress to pass a permanent replacement for Deferred Action for Childhood Arrivals, or DACA, reflect broadening pressure on political leaders to find a solution for the roughly 800,000 immigrants known as “Dreamers”.  A group of businesses less than half the size and weighted toward technology companies sent a similar letter in August, before President Donald Trump said he would end the program. The new letter reflects Trump’s decision and asks for a permanent solution to let DACA recipients remain in the United States. Trump said that DACA immigrants who have work permits that expire before March can apply to renew them for another two years, if they do so before Oct. 5. Both letters were spearheaded by FWD.us, a pro-immigration group co-founded by Facebook Inc Chief Executive Mark Zuckerberg. The very first incarnation of the letter included signatories from major technology companies such as Apple Inc, Microsoft Corp and Amazon.com and Alphabet Inc’s Google. But over the course of several days, a much broader swath of the U.S. economy, from media firm Viacom to private equity firm TPG signed on. The newer letter adds firms like biotech firm Becton, Dickinson and Co, according to a copy of the letter and signatures seen by Reuters. “That you see business leaders from every major sector of the economy come out and ask Congress to pass a permanent fix for DACA right away shows that this is a bipartisan issue that has strong support,” Todd Schulte, president of FWD.us, told Reuters. The new letter calls on Congress to “immediately pass the bipartisan DREAM Act - or similar legislation - that gives Dreamers the permanent legislative solution they deserve.” The DREAM Act, first introduced in Congress in 2001, would provide Dreamers with a way to become U.S. citizens after first becoming permanent residents. DACA, a set of executive actions introduced by President Barack Obama in 2012, didn’t include a pathway to citizenship, which would require an act of Congress. Some conservatives in particular object to offering  citizenship to DACA recipients. Activists including United We Dream also are encouraging DACA recipients and companies they work for to be public about their situation. Enrique Ramirez was brought to the United States from Mexico when he was two years old. He graduated from Harvard University and is now attending law school at the University of Texas at Austin. “There’s been so much money invested in me by this country, wouldn’t even a conservative person want me to contribute to my community here?” Ramirez said. DACA shields recipients from deportation and allowed them to work and attend school legally if certain requirements were met. Speaking on ABC television on Sept. 19, Apple CEO Tim Cook said he was “encouraged” that leading Democrats and Republican President Trump have said they are near a deal on DACA legislation. Apple has said it has 250 DACA beneficiaries among its ranks.  “We think it’s essential that we not only let them stay in this country, but welcome them,” Cook said of DACA recipients. “I am encouraged that Congress will pass a law to make this permanent.” Other tech companies are looking to pair with local groups to help DACA recipients. Ride-haling firm Uber Technologies Inc [UBER.UL] said that is holding a series of town-hall meetings in 10 cities to answer drivers’ questions about DACA changes, and that it plans to donate $500,000 to local groups that can help drivers with issues like paperwork and application fees.       \n",
      "\n",
      "Embedd version: \n"
     ]
    },
    {
     "data": {
      "text/plain": [
       "<tf.Tensor: shape=(1, 418, 128), dtype=float32, numpy=\n",
       "array([[[ 0.0240123 , -0.01046357, -0.02817433, ...,  0.00261321,\n",
       "         -0.02424902, -0.02458638],\n",
       "        [-0.01099094,  0.00658823, -0.0295269 , ...,  0.02844239,\n",
       "          0.03787437, -0.03429838],\n",
       "        [-0.0233611 ,  0.01126381, -0.04519541, ...,  0.03115543,\n",
       "         -0.01237054, -0.00267513],\n",
       "        ...,\n",
       "        [ 0.00505142, -0.02706517, -0.01072867, ...,  0.00451959,\n",
       "         -0.04512727,  0.0248014 ],\n",
       "        [-0.0247488 , -0.00183231, -0.04264076, ...,  0.00315108,\n",
       "          0.0139557 ,  0.00665152],\n",
       "        [-0.04524728,  0.01013379, -0.04451755, ..., -0.03693455,\n",
       "         -0.03847367, -0.04969149]]], dtype=float32)>"
      ]
     },
     "execution_count": 18,
     "metadata": {},
     "output_type": "execute_result"
    }
   ],
   "source": [
    "random_sentenc = random.choice(train_sentences)\n",
    "print(f\"Original text:\\n{random_sentence}\\\n",
    "      \\n\\nEmbedd version: \")\n",
    "embedding(text_vectorizer([random_sentence]))"
   ]
  },
  {
   "cell_type": "code",
   "execution_count": 19,
   "id": "5f0c785b",
   "metadata": {
    "execution": {
     "iopub.execute_input": "2022-01-14T12:13:04.402418Z",
     "iopub.status.busy": "2022-01-14T12:13:04.398206Z",
     "iopub.status.idle": "2022-01-14T12:13:04.643779Z",
     "shell.execute_reply": "2022-01-14T12:13:04.643264Z",
     "shell.execute_reply.started": "2022-01-14T11:46:04.053234Z"
    },
    "papermill": {
     "duration": 0.279445,
     "end_time": "2022-01-14T12:13:04.643903",
     "exception": false,
     "start_time": "2022-01-14T12:13:04.364458",
     "status": "completed"
    },
    "tags": []
   },
   "outputs": [],
   "source": [
    "# Create an LSTM model\n",
    "from tensorflow.keras import layers\n",
    "inputs = layers.Input(shape=(1,),dtype='string')\n",
    "\n",
    "# Pass inputs to text_vectorizer(convert text into numbers)\n",
    "x = text_vectorizer(inputs) \n",
    "\n",
    "# Convert text_vectorizer layer into embedding layer\n",
    "x = embedding(x)\n",
    "\n",
    "# Model \n",
    "x = layers.LSTM(64)(x)\n",
    "# output\n",
    "outputs = layers.Dense(1, activation='sigmoid')(x)\n",
    "\n",
    "# Pass inputs and outputs to our model\n",
    "model = tf.keras.Model(inputs, outputs, name='model_LSTM')"
   ]
  },
  {
   "cell_type": "code",
   "execution_count": 20,
   "id": "cfe5544b",
   "metadata": {
    "execution": {
     "iopub.execute_input": "2022-01-14T12:13:04.709404Z",
     "iopub.status.busy": "2022-01-14T12:13:04.706234Z",
     "iopub.status.idle": "2022-01-14T12:13:04.714208Z",
     "shell.execute_reply": "2022-01-14T12:13:04.713591Z",
     "shell.execute_reply.started": "2022-01-14T11:46:04.315874Z"
    },
    "papermill": {
     "duration": 0.040977,
     "end_time": "2022-01-14T12:13:04.714350",
     "exception": false,
     "start_time": "2022-01-14T12:13:04.673373",
     "status": "completed"
    },
    "tags": []
   },
   "outputs": [
    {
     "name": "stdout",
     "output_type": "stream",
     "text": [
      "Model: \"model_LSTM\"\n",
      "_________________________________________________________________\n",
      "Layer (type)                 Output Shape              Param #   \n",
      "=================================================================\n",
      "input_1 (InputLayer)         [(None, 1)]               0         \n",
      "_________________________________________________________________\n",
      "text_vectorization (TextVect (None, 418)               0         \n",
      "_________________________________________________________________\n",
      "embedding (Embedding)        (None, 418, 128)          1280000   \n",
      "_________________________________________________________________\n",
      "lstm (LSTM)                  (None, 64)                49408     \n",
      "_________________________________________________________________\n",
      "dense (Dense)                (None, 1)                 65        \n",
      "=================================================================\n",
      "Total params: 1,329,473\n",
      "Trainable params: 1,329,473\n",
      "Non-trainable params: 0\n",
      "_________________________________________________________________\n"
     ]
    }
   ],
   "source": [
    "# Get a summary\n",
    "model.summary()"
   ]
  },
  {
   "cell_type": "code",
   "execution_count": 21,
   "id": "8947db0e",
   "metadata": {
    "execution": {
     "iopub.execute_input": "2022-01-14T12:13:04.782271Z",
     "iopub.status.busy": "2022-01-14T12:13:04.781471Z",
     "iopub.status.idle": "2022-01-14T12:13:04.787287Z",
     "shell.execute_reply": "2022-01-14T12:13:04.786861Z",
     "shell.execute_reply.started": "2022-01-14T11:46:04.329609Z"
    },
    "papermill": {
     "duration": 0.043219,
     "end_time": "2022-01-14T12:13:04.787401",
     "exception": false,
     "start_time": "2022-01-14T12:13:04.744182",
     "status": "completed"
    },
    "tags": []
   },
   "outputs": [],
   "source": [
    "# Compile the model\n",
    "model.compile(loss='binary_crossentropy',\n",
    "             optimizer=tf.keras.optimizers.Adam(),\n",
    "             metrics=['accuracy'])"
   ]
  },
  {
   "cell_type": "code",
   "execution_count": 22,
   "id": "75d8ef35",
   "metadata": {
    "execution": {
     "iopub.execute_input": "2022-01-14T12:13:04.850338Z",
     "iopub.status.busy": "2022-01-14T12:13:04.849454Z",
     "iopub.status.idle": "2022-01-14T12:15:20.829350Z",
     "shell.execute_reply": "2022-01-14T12:15:20.830126Z",
     "shell.execute_reply.started": "2022-01-14T11:46:04.345313Z"
    },
    "papermill": {
     "duration": 136.013809,
     "end_time": "2022-01-14T12:15:20.830294",
     "exception": false,
     "start_time": "2022-01-14T12:13:04.816485",
     "status": "completed"
    },
    "tags": []
   },
   "outputs": [
    {
     "name": "stdout",
     "output_type": "stream",
     "text": [
      "Epoch 1/5\n"
     ]
    },
    {
     "name": "stderr",
     "output_type": "stream",
     "text": [
      "2022-01-14 12:13:07.349321: I tensorflow/stream_executor/cuda/cuda_dnn.cc:369] Loaded cuDNN version 8005\n"
     ]
    },
    {
     "name": "stdout",
     "output_type": "stream",
     "text": [
      "1053/1053 [==============================] - 30s 25ms/step - loss: 0.4692 - accuracy: 0.7667 - val_loss: 0.5713 - val_accuracy: 0.6731\n",
      "Epoch 2/5\n",
      "1053/1053 [==============================] - 26s 25ms/step - loss: 0.2942 - accuracy: 0.8988 - val_loss: 0.1932 - val_accuracy: 0.9485\n",
      "Epoch 3/5\n",
      "1053/1053 [==============================] - 27s 25ms/step - loss: 0.2213 - accuracy: 0.9350 - val_loss: 0.4125 - val_accuracy: 0.8618\n",
      "Epoch 4/5\n",
      "1053/1053 [==============================] - 26s 25ms/step - loss: 0.3953 - accuracy: 0.8235 - val_loss: 0.6546 - val_accuracy: 0.5811\n",
      "Epoch 5/5\n",
      "1053/1053 [==============================] - 26s 25ms/step - loss: 0.4862 - accuracy: 0.7421 - val_loss: 0.5511 - val_accuracy: 0.6649\n"
     ]
    }
   ],
   "source": [
    "model_history = model.fit(train_sentences,\n",
    "                         train_labels,\n",
    "                          epochs=5,\n",
    "                         validation_data=(val_sentences, val_labels))"
   ]
  },
  {
   "cell_type": "code",
   "execution_count": null,
   "id": "5538a8b5",
   "metadata": {
    "papermill": {
     "duration": 0.55298,
     "end_time": "2022-01-14T12:15:21.878505",
     "exception": false,
     "start_time": "2022-01-14T12:15:21.325525",
     "status": "completed"
    },
    "tags": []
   },
   "outputs": [],
   "source": [
    "\n"
   ]
  },
  {
   "cell_type": "code",
   "execution_count": null,
   "id": "736ea65f",
   "metadata": {
    "papermill": {
     "duration": 0.825233,
     "end_time": "2022-01-14T12:15:23.517637",
     "exception": false,
     "start_time": "2022-01-14T12:15:22.692404",
     "status": "completed"
    },
    "tags": []
   },
   "outputs": [],
   "source": []
  },
  {
   "cell_type": "code",
   "execution_count": 23,
   "id": "b9958a3d",
   "metadata": {
    "execution": {
     "iopub.execute_input": "2022-01-14T12:15:24.521227Z",
     "iopub.status.busy": "2022-01-14T12:15:24.520541Z",
     "iopub.status.idle": "2022-01-14T12:15:24.987042Z",
     "shell.execute_reply": "2022-01-14T12:15:24.986442Z",
     "shell.execute_reply.started": "2022-01-14T11:57:20.575019Z"
    },
    "papermill": {
     "duration": 0.962277,
     "end_time": "2022-01-14T12:15:24.987165",
     "exception": false,
     "start_time": "2022-01-14T12:15:24.024888",
     "status": "completed"
    },
    "tags": []
   },
   "outputs": [],
   "source": [
    "from textblob import TextBlob\n",
    "import re\n",
    "def clean_text(text):\n",
    "    return ' '.join(re.sub('(@[A-Za-z0-9]+)|([^0-9A-Za-z \\t])|(\\w+:\\/\\/\\S+)', ' ', text).split())\n",
    "def analyze_sentiment(text):\n",
    "    analysis = TextBlob(text)\n",
    "    if analysis.sentiment.polarity > 0:\n",
    "        return 'Positive'\n",
    "    elif analysis.sentiment.polarity == 0:\n",
    "        return 'Neutral'\n",
    "    else:\n",
    "        return 'Negative'"
   ]
  },
  {
   "cell_type": "code",
   "execution_count": 24,
   "id": "b3fc423b",
   "metadata": {
    "execution": {
     "iopub.execute_input": "2022-01-14T12:15:25.985699Z",
     "iopub.status.busy": "2022-01-14T12:15:25.985031Z",
     "iopub.status.idle": "2022-01-14T12:15:25.988116Z",
     "shell.execute_reply": "2022-01-14T12:15:25.988701Z",
     "shell.execute_reply.started": "2022-01-14T11:57:21.409381Z"
    },
    "papermill": {
     "duration": 0.51066,
     "end_time": "2022-01-14T12:15:25.988870",
     "exception": false,
     "start_time": "2022-01-14T12:15:25.478210",
     "status": "completed"
    },
    "tags": []
   },
   "outputs": [
    {
     "data": {
      "text/html": [
       "<div>\n",
       "<style scoped>\n",
       "    .dataframe tbody tr th:only-of-type {\n",
       "        vertical-align: middle;\n",
       "    }\n",
       "\n",
       "    .dataframe tbody tr th {\n",
       "        vertical-align: top;\n",
       "    }\n",
       "\n",
       "    .dataframe thead th {\n",
       "        text-align: right;\n",
       "    }\n",
       "</style>\n",
       "<table border=\"1\" class=\"dataframe\">\n",
       "  <thead>\n",
       "    <tr style=\"text-align: right;\">\n",
       "      <th></th>\n",
       "      <th>text</th>\n",
       "      <th>fake</th>\n",
       "    </tr>\n",
       "  </thead>\n",
       "  <tbody>\n",
       "    <tr>\n",
       "      <th>7726</th>\n",
       "      <td>Trump will accept election results if it's fai...</td>\n",
       "      <td>0</td>\n",
       "    </tr>\n",
       "    <tr>\n",
       "      <th>18738</th>\n",
       "      <td>POPULAR YOUTUBE PERSONALITY Goes Undercover Wi...</td>\n",
       "      <td>1</td>\n",
       "    </tr>\n",
       "    <tr>\n",
       "      <th>12116</th>\n",
       "      <td>Argentina fires head of navy over submarine tr...</td>\n",
       "      <td>0</td>\n",
       "    </tr>\n",
       "    <tr>\n",
       "      <th>10853</th>\n",
       "      <td>House seen passing North Korea sanctions bill ...</td>\n",
       "      <td>0</td>\n",
       "    </tr>\n",
       "    <tr>\n",
       "      <th>14340</th>\n",
       "      <td>HILLARY TO OBAMA: “call off your f–king dogs”A...</td>\n",
       "      <td>1</td>\n",
       "    </tr>\n",
       "    <tr>\n",
       "      <th>...</th>\n",
       "      <td>...</td>\n",
       "      <td>...</td>\n",
       "    </tr>\n",
       "    <tr>\n",
       "      <th>11057</th>\n",
       "      <td>Congress to probe Juniper 'back door' exposure...</td>\n",
       "      <td>0</td>\n",
       "    </tr>\n",
       "    <tr>\n",
       "      <th>16690</th>\n",
       "      <td>MAKE $250K A YEAR? You Could Qualify For Subsi...</td>\n",
       "      <td>1</td>\n",
       "    </tr>\n",
       "    <tr>\n",
       "      <th>6187</th>\n",
       "      <td>Japan PM aims to strengthen U.S. alliance unde...</td>\n",
       "      <td>0</td>\n",
       "    </tr>\n",
       "    <tr>\n",
       "      <th>2290</th>\n",
       "      <td>Saturday Night Live Takes On GOP Cowardice In...</td>\n",
       "      <td>1</td>\n",
       "    </tr>\n",
       "    <tr>\n",
       "      <th>20445</th>\n",
       "      <td>U.N. sees 'textbook example of ethnic cleansin...</td>\n",
       "      <td>0</td>\n",
       "    </tr>\n",
       "  </tbody>\n",
       "</table>\n",
       "<p>44898 rows × 2 columns</p>\n",
       "</div>"
      ],
      "text/plain": [
       "                                                    text  fake\n",
       "7726   Trump will accept election results if it's fai...     0\n",
       "18738  POPULAR YOUTUBE PERSONALITY Goes Undercover Wi...     1\n",
       "12116  Argentina fires head of navy over submarine tr...     0\n",
       "10853  House seen passing North Korea sanctions bill ...     0\n",
       "14340  HILLARY TO OBAMA: “call off your f–king dogs”A...     1\n",
       "...                                                  ...   ...\n",
       "11057  Congress to probe Juniper 'back door' exposure...     0\n",
       "16690  MAKE $250K A YEAR? You Could Qualify For Subsi...     1\n",
       "6187   Japan PM aims to strengthen U.S. alliance unde...     0\n",
       "2290    Saturday Night Live Takes On GOP Cowardice In...     1\n",
       "20445  U.N. sees 'textbook example of ethnic cleansin...     0\n",
       "\n",
       "[44898 rows x 2 columns]"
      ]
     },
     "execution_count": 24,
     "metadata": {},
     "output_type": "execute_result"
    }
   ],
   "source": [
    "df=pd.DataFrame(news)\n",
    "df"
   ]
  },
  {
   "cell_type": "code",
   "execution_count": 25,
   "id": "51250d93",
   "metadata": {
    "execution": {
     "iopub.execute_input": "2022-01-14T12:15:27.069476Z",
     "iopub.status.busy": "2022-01-14T12:15:27.052855Z",
     "iopub.status.idle": "2022-01-14T12:15:55.377203Z",
     "shell.execute_reply": "2022-01-14T12:15:55.378035Z",
     "shell.execute_reply.started": "2022-01-14T11:57:21.423436Z"
    },
    "papermill": {
     "duration": 28.894842,
     "end_time": "2022-01-14T12:15:55.378275",
     "exception": false,
     "start_time": "2022-01-14T12:15:26.483433",
     "status": "completed"
    },
    "tags": []
   },
   "outputs": [],
   "source": [
    "df['clean_text'] = df['text'].apply(lambda x : clean_text(x))"
   ]
  },
  {
   "cell_type": "code",
   "execution_count": 26,
   "id": "0e511a7e",
   "metadata": {
    "execution": {
     "iopub.execute_input": "2022-01-14T12:15:56.953688Z",
     "iopub.status.busy": "2022-01-14T12:15:56.952718Z",
     "iopub.status.idle": "2022-01-14T12:17:51.882388Z",
     "shell.execute_reply": "2022-01-14T12:17:51.883027Z",
     "shell.execute_reply.started": "2022-01-14T11:57:50.582840Z"
    },
    "papermill": {
     "duration": 115.488194,
     "end_time": "2022-01-14T12:17:51.883233",
     "exception": false,
     "start_time": "2022-01-14T12:15:56.395039",
     "status": "completed"
    },
    "tags": []
   },
   "outputs": [],
   "source": [
    "df['Sentiment'] = df['clean_text'].apply(lambda x : analyze_sentiment(x))"
   ]
  },
  {
   "cell_type": "code",
   "execution_count": 27,
   "id": "ac73a0b2",
   "metadata": {
    "execution": {
     "iopub.execute_input": "2022-01-14T12:17:52.933805Z",
     "iopub.status.busy": "2022-01-14T12:17:52.932217Z",
     "iopub.status.idle": "2022-01-14T12:17:52.934398Z",
     "shell.execute_reply": "2022-01-14T12:17:52.934834Z",
     "shell.execute_reply.started": "2022-01-14T11:59:46.472524Z"
    },
    "papermill": {
     "duration": 0.558324,
     "end_time": "2022-01-14T12:17:52.934975",
     "exception": false,
     "start_time": "2022-01-14T12:17:52.376651",
     "status": "completed"
    },
    "tags": []
   },
   "outputs": [],
   "source": [
    "def result(text):\n",
    "    x=(np.array(text)).reshape(1,)\n",
    "    cltxt=clean_text(text)\n",
    "    x=model.predict(x)\n",
    "    x=np.array(x).reshape(1)\n",
    "    x=x[0]\n",
    "    x=round(x)\n",
    "    if x==0:\n",
    "        y='Real'\n",
    "    else:\n",
    "        y='Fake'\n",
    "    return analyze_sentiment(cltxt),y"
   ]
  },
  {
   "cell_type": "code",
   "execution_count": 28,
   "id": "48efe6c8",
   "metadata": {
    "execution": {
     "iopub.execute_input": "2022-01-14T12:17:53.925125Z",
     "iopub.status.busy": "2022-01-14T12:17:53.924261Z",
     "iopub.status.idle": "2022-01-14T12:17:54.304504Z",
     "shell.execute_reply": "2022-01-14T12:17:54.304942Z",
     "shell.execute_reply.started": "2022-01-14T11:59:46.482502Z"
    },
    "papermill": {
     "duration": 0.876597,
     "end_time": "2022-01-14T12:17:54.305101",
     "exception": false,
     "start_time": "2022-01-14T12:17:53.428504",
     "status": "completed"
    },
    "tags": []
   },
   "outputs": [
    {
     "data": {
      "text/plain": [
       "('Positive', 'Fake')"
      ]
     },
     "execution_count": 28,
     "metadata": {},
     "output_type": "execute_result"
    }
   ],
   "source": [
    "result(news['text'].iloc[5])"
   ]
  },
  {
   "cell_type": "code",
   "execution_count": 29,
   "id": "77c9a701",
   "metadata": {
    "execution": {
     "iopub.execute_input": "2022-01-14T12:17:55.296591Z",
     "iopub.status.busy": "2022-01-14T12:17:55.295774Z",
     "iopub.status.idle": "2022-01-14T12:17:55.340198Z",
     "shell.execute_reply": "2022-01-14T12:17:55.340869Z",
     "shell.execute_reply.started": "2022-01-14T11:59:46.550053Z"
    },
    "papermill": {
     "duration": 0.544102,
     "end_time": "2022-01-14T12:17:55.341015",
     "exception": false,
     "start_time": "2022-01-14T12:17:54.796913",
     "status": "completed"
    },
    "tags": []
   },
   "outputs": [
    {
     "data": {
      "text/plain": [
       "1"
      ]
     },
     "execution_count": 29,
     "metadata": {},
     "output_type": "execute_result"
    }
   ],
   "source": [
    "x=(np.array(news['text'].iloc[5])).reshape(1,)\n",
    "x=model.predict(x)\n",
    "x=np.array(x).reshape(1)\n",
    "x=x[0]\n",
    "x=round(x)\n",
    "x"
   ]
  },
  {
   "cell_type": "code",
   "execution_count": 30,
   "id": "3e58b1b6",
   "metadata": {
    "execution": {
     "iopub.execute_input": "2022-01-14T12:17:56.338604Z",
     "iopub.status.busy": "2022-01-14T12:17:56.337886Z",
     "iopub.status.idle": "2022-01-14T12:17:56.341107Z",
     "shell.execute_reply": "2022-01-14T12:17:56.340675Z",
     "shell.execute_reply.started": "2022-01-14T11:59:46.603023Z"
    },
    "papermill": {
     "duration": 0.501661,
     "end_time": "2022-01-14T12:17:56.341221",
     "exception": false,
     "start_time": "2022-01-14T12:17:55.839560",
     "status": "completed"
    },
    "tags": []
   },
   "outputs": [
    {
     "data": {
      "text/plain": [
       "0.0"
      ]
     },
     "execution_count": 30,
     "metadata": {},
     "output_type": "execute_result"
    }
   ],
   "source": [
    "np.floor(0.9)"
   ]
  },
  {
   "cell_type": "code",
   "execution_count": null,
   "id": "474f22fd",
   "metadata": {
    "papermill": {
     "duration": 0.700352,
     "end_time": "2022-01-14T12:17:57.569857",
     "exception": false,
     "start_time": "2022-01-14T12:17:56.869505",
     "status": "completed"
    },
    "tags": []
   },
   "outputs": [],
   "source": []
  },
  {
   "cell_type": "code",
   "execution_count": null,
   "id": "219fc060",
   "metadata": {
    "papermill": {
     "duration": 0.494727,
     "end_time": "2022-01-14T12:17:58.563738",
     "exception": false,
     "start_time": "2022-01-14T12:17:58.069011",
     "status": "completed"
    },
    "tags": []
   },
   "outputs": [],
   "source": []
  }
 ],
 "metadata": {
  "kernelspec": {
   "display_name": "Python 3",
   "language": "python",
   "name": "python3"
  },
  "language_info": {
   "codemirror_mode": {
    "name": "ipython",
    "version": 3
   },
   "file_extension": ".py",
   "mimetype": "text/x-python",
   "name": "python",
   "nbconvert_exporter": "python",
   "pygments_lexer": "ipython3",
   "version": "3.7.12"
  },
  "papermill": {
   "default_parameters": {},
   "duration": 323.89287,
   "end_time": "2022-01-14T12:18:02.258547",
   "environment_variables": {},
   "exception": null,
   "input_path": "__notebook__.ipynb",
   "output_path": "__notebook__.ipynb",
   "parameters": {},
   "start_time": "2022-01-14T12:12:38.365677",
   "version": "2.3.3"
  }
 },
 "nbformat": 4,
 "nbformat_minor": 5
}
